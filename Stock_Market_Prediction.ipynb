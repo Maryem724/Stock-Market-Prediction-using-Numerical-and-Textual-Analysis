{
  "nbformat": 4,
  "nbformat_minor": 0,
  "metadata": {
    "colab": {
      "name": "Stock Market Prediction",
      "provenance": [],
      "collapsed_sections": [
        "LY-31_abnExh",
        "3YevJMvoru7N",
        "X9BJVrXN_bpU",
        "NhgWWW81xiUm"
      ]
    },
    "kernelspec": {
      "name": "python3",
      "display_name": "Python 3"
    },
    "language_info": {
      "name": "python"
    }
  },
  "cells": [
    {
      "cell_type": "markdown",
      "source": [
        "# **GRIP - The Sparks Foundation**\n",
        "## **Data Science and Business Analytics Intern**\n",
        "\n",
        "### **Task 7 : Stock Market Prediction using Numerical and Textual Analysis**\n",
        "\n",
        "**Objectif :** Create a hybrid model for stock price/performance prediction using\n",
        "numerical analysis of historical stock prices, and sentimental analysis of news headlines.\n",
        "\n",
        "**Name :** Maryem Benslimene\n",
        "\n"
      ],
      "metadata": {
        "id": "8NdIO06GX35-"
      }
    },
    {
      "cell_type": "markdown",
      "source": [
        "### **Importing libraries**"
      ],
      "metadata": {
        "id": "vTUk0aSW2cdk"
      }
    },
    {
      "cell_type": "code",
      "execution_count": null,
      "metadata": {
        "id": "CDtK7OXnqsbE",
        "colab": {
          "base_uri": "https://localhost:8080/"
        },
        "outputId": "c3df8796-1c56-4f08-81a2-68e5cca2e555"
      },
      "outputs": [
        {
          "output_type": "stream",
          "name": "stderr",
          "text": [
            "[nltk_data] Downloading package stopwords to /root/nltk_data...\n",
            "[nltk_data]   Package stopwords is already up-to-date!\n",
            "[nltk_data] Downloading package punkt to /root/nltk_data...\n",
            "[nltk_data]   Package punkt is already up-to-date!\n",
            "[nltk_data] Downloading package vader_lexicon to /root/nltk_data...\n",
            "[nltk_data]   Package vader_lexicon is already up-to-date!\n"
          ]
        }
      ],
      "source": [
        "import pandas as pd \n",
        "import numpy as np\n",
        "\n",
        "import matplotlib.pyplot as plt\n",
        "import seaborn as sns\n",
        "\n",
        "from textblob import TextBlob\n",
        "from nltk.corpus import stopwords\n",
        "from nltk.tokenize import sent_tokenize, word_tokenize\n",
        "from nltk.stem import PorterStemmer\n",
        "from nltk.sentiment.vader import SentimentIntensityAnalyzer\n",
        "import nltk\n",
        "nltk.download('stopwords')\n",
        "nltk.download('punkt')\n",
        "nltk.download('vader_lexicon')\n",
        "\n",
        "from sklearn.model_selection import train_test_split\n",
        "from sklearn.ensemble import RandomForestClassifier\n",
        "from sklearn.model_selection import GridSearchCV\n",
        "from sklearn import metrics\n",
        "\n"
      ]
    },
    {
      "cell_type": "markdown",
      "source": [
        "## **Reading datasets**"
      ],
      "metadata": {
        "id": "LSSd7hi2BgUq"
      }
    },
    {
      "cell_type": "code",
      "source": [
        "#News headlines dataset\n",
        "headlines = pd.read_csv('india-news-headlines (1).csv')\n",
        "headlines.head()"
      ],
      "metadata": {
        "id": "nZnHciQTrBw5",
        "colab": {
          "base_uri": "https://localhost:8080/",
          "height": 206
        },
        "outputId": "fdfc7943-704c-4b92-ec1b-af47a85e780a"
      },
      "execution_count": null,
      "outputs": [
        {
          "output_type": "execute_result",
          "data": {
            "text/plain": [
              "   publish_date headline_category  \\\n",
              "0      20010102           unknown   \n",
              "1      20010102           unknown   \n",
              "2      20010102           unknown   \n",
              "3      20010102           unknown   \n",
              "4      20010102           unknown   \n",
              "\n",
              "                                       headline_text  \n",
              "0  Status quo will not be disturbed at Ayodhya; s...  \n",
              "1                Fissures in Hurriyat over Pak visit  \n",
              "2              America's unwanted heading for India?  \n",
              "3                 For bigwigs; it is destination Goa  \n",
              "4               Extra buses to clear tourist traffic  "
            ],
            "text/html": [
              "\n",
              "  <div id=\"df-2359617d-64f7-4976-a70e-594c54f64ffe\">\n",
              "    <div class=\"colab-df-container\">\n",
              "      <div>\n",
              "<style scoped>\n",
              "    .dataframe tbody tr th:only-of-type {\n",
              "        vertical-align: middle;\n",
              "    }\n",
              "\n",
              "    .dataframe tbody tr th {\n",
              "        vertical-align: top;\n",
              "    }\n",
              "\n",
              "    .dataframe thead th {\n",
              "        text-align: right;\n",
              "    }\n",
              "</style>\n",
              "<table border=\"1\" class=\"dataframe\">\n",
              "  <thead>\n",
              "    <tr style=\"text-align: right;\">\n",
              "      <th></th>\n",
              "      <th>publish_date</th>\n",
              "      <th>headline_category</th>\n",
              "      <th>headline_text</th>\n",
              "    </tr>\n",
              "  </thead>\n",
              "  <tbody>\n",
              "    <tr>\n",
              "      <th>0</th>\n",
              "      <td>20010102</td>\n",
              "      <td>unknown</td>\n",
              "      <td>Status quo will not be disturbed at Ayodhya; s...</td>\n",
              "    </tr>\n",
              "    <tr>\n",
              "      <th>1</th>\n",
              "      <td>20010102</td>\n",
              "      <td>unknown</td>\n",
              "      <td>Fissures in Hurriyat over Pak visit</td>\n",
              "    </tr>\n",
              "    <tr>\n",
              "      <th>2</th>\n",
              "      <td>20010102</td>\n",
              "      <td>unknown</td>\n",
              "      <td>America's unwanted heading for India?</td>\n",
              "    </tr>\n",
              "    <tr>\n",
              "      <th>3</th>\n",
              "      <td>20010102</td>\n",
              "      <td>unknown</td>\n",
              "      <td>For bigwigs; it is destination Goa</td>\n",
              "    </tr>\n",
              "    <tr>\n",
              "      <th>4</th>\n",
              "      <td>20010102</td>\n",
              "      <td>unknown</td>\n",
              "      <td>Extra buses to clear tourist traffic</td>\n",
              "    </tr>\n",
              "  </tbody>\n",
              "</table>\n",
              "</div>\n",
              "      <button class=\"colab-df-convert\" onclick=\"convertToInteractive('df-2359617d-64f7-4976-a70e-594c54f64ffe')\"\n",
              "              title=\"Convert this dataframe to an interactive table.\"\n",
              "              style=\"display:none;\">\n",
              "        \n",
              "  <svg xmlns=\"http://www.w3.org/2000/svg\" height=\"24px\"viewBox=\"0 0 24 24\"\n",
              "       width=\"24px\">\n",
              "    <path d=\"M0 0h24v24H0V0z\" fill=\"none\"/>\n",
              "    <path d=\"M18.56 5.44l.94 2.06.94-2.06 2.06-.94-2.06-.94-.94-2.06-.94 2.06-2.06.94zm-11 1L8.5 8.5l.94-2.06 2.06-.94-2.06-.94L8.5 2.5l-.94 2.06-2.06.94zm10 10l.94 2.06.94-2.06 2.06-.94-2.06-.94-.94-2.06-.94 2.06-2.06.94z\"/><path d=\"M17.41 7.96l-1.37-1.37c-.4-.4-.92-.59-1.43-.59-.52 0-1.04.2-1.43.59L10.3 9.45l-7.72 7.72c-.78.78-.78 2.05 0 2.83L4 21.41c.39.39.9.59 1.41.59.51 0 1.02-.2 1.41-.59l7.78-7.78 2.81-2.81c.8-.78.8-2.07 0-2.86zM5.41 20L4 18.59l7.72-7.72 1.47 1.35L5.41 20z\"/>\n",
              "  </svg>\n",
              "      </button>\n",
              "      \n",
              "  <style>\n",
              "    .colab-df-container {\n",
              "      display:flex;\n",
              "      flex-wrap:wrap;\n",
              "      gap: 12px;\n",
              "    }\n",
              "\n",
              "    .colab-df-convert {\n",
              "      background-color: #E8F0FE;\n",
              "      border: none;\n",
              "      border-radius: 50%;\n",
              "      cursor: pointer;\n",
              "      display: none;\n",
              "      fill: #1967D2;\n",
              "      height: 32px;\n",
              "      padding: 0 0 0 0;\n",
              "      width: 32px;\n",
              "    }\n",
              "\n",
              "    .colab-df-convert:hover {\n",
              "      background-color: #E2EBFA;\n",
              "      box-shadow: 0px 1px 2px rgba(60, 64, 67, 0.3), 0px 1px 3px 1px rgba(60, 64, 67, 0.15);\n",
              "      fill: #174EA6;\n",
              "    }\n",
              "\n",
              "    [theme=dark] .colab-df-convert {\n",
              "      background-color: #3B4455;\n",
              "      fill: #D2E3FC;\n",
              "    }\n",
              "\n",
              "    [theme=dark] .colab-df-convert:hover {\n",
              "      background-color: #434B5C;\n",
              "      box-shadow: 0px 1px 3px 1px rgba(0, 0, 0, 0.15);\n",
              "      filter: drop-shadow(0px 1px 2px rgba(0, 0, 0, 0.3));\n",
              "      fill: #FFFFFF;\n",
              "    }\n",
              "  </style>\n",
              "\n",
              "      <script>\n",
              "        const buttonEl =\n",
              "          document.querySelector('#df-2359617d-64f7-4976-a70e-594c54f64ffe button.colab-df-convert');\n",
              "        buttonEl.style.display =\n",
              "          google.colab.kernel.accessAllowed ? 'block' : 'none';\n",
              "\n",
              "        async function convertToInteractive(key) {\n",
              "          const element = document.querySelector('#df-2359617d-64f7-4976-a70e-594c54f64ffe');\n",
              "          const dataTable =\n",
              "            await google.colab.kernel.invokeFunction('convertToInteractive',\n",
              "                                                     [key], {});\n",
              "          if (!dataTable) return;\n",
              "\n",
              "          const docLinkHtml = 'Like what you see? Visit the ' +\n",
              "            '<a target=\"_blank\" href=https://colab.research.google.com/notebooks/data_table.ipynb>data table notebook</a>'\n",
              "            + ' to learn more about interactive tables.';\n",
              "          element.innerHTML = '';\n",
              "          dataTable['output_type'] = 'display_data';\n",
              "          await google.colab.output.renderOutput(dataTable, element);\n",
              "          const docLink = document.createElement('div');\n",
              "          docLink.innerHTML = docLinkHtml;\n",
              "          element.appendChild(docLink);\n",
              "        }\n",
              "      </script>\n",
              "    </div>\n",
              "  </div>\n",
              "  "
            ]
          },
          "metadata": {},
          "execution_count": 5
        }
      ]
    },
    {
      "cell_type": "code",
      "source": [
        "#Historical stock prices dataset\n",
        "prices = pd.read_csv('^IXIC (5).csv')\n",
        "prices.head()"
      ],
      "metadata": {
        "colab": {
          "base_uri": "https://localhost:8080/",
          "height": 206
        },
        "id": "q3_SoFv0Bw5y",
        "outputId": "8efd7c47-d5c6-46aa-9e0f-24e3cf1d586d"
      },
      "execution_count": null,
      "outputs": [
        {
          "output_type": "execute_result",
          "data": {
            "text/plain": [
              "         Date         Open         High          Low        Close  \\\n",
              "0  2008-09-15  2202.280029  2244.879883  2179.909912  2179.909912   \n",
              "1  2008-09-16  2149.649902  2214.290039  2145.169922  2207.899902   \n",
              "2  2008-09-17  2177.580078  2183.250000  2098.850098  2098.850098   \n",
              "3  2008-09-18  2137.419922  2201.709961  2070.219971  2199.100098   \n",
              "4  2008-09-19  2303.899902  2318.429932  2239.729980  2273.899902   \n",
              "\n",
              "     Adj Close      Volume  \n",
              "0  2179.909912  2697820000  \n",
              "1  2207.899902  3187630000  \n",
              "2  2098.850098  3102010000  \n",
              "3  2199.100098  3867290000  \n",
              "4  2273.899902  3898230000  "
            ],
            "text/html": [
              "\n",
              "  <div id=\"df-2e43c8ce-7d04-4737-92b5-f402a1540ee9\">\n",
              "    <div class=\"colab-df-container\">\n",
              "      <div>\n",
              "<style scoped>\n",
              "    .dataframe tbody tr th:only-of-type {\n",
              "        vertical-align: middle;\n",
              "    }\n",
              "\n",
              "    .dataframe tbody tr th {\n",
              "        vertical-align: top;\n",
              "    }\n",
              "\n",
              "    .dataframe thead th {\n",
              "        text-align: right;\n",
              "    }\n",
              "</style>\n",
              "<table border=\"1\" class=\"dataframe\">\n",
              "  <thead>\n",
              "    <tr style=\"text-align: right;\">\n",
              "      <th></th>\n",
              "      <th>Date</th>\n",
              "      <th>Open</th>\n",
              "      <th>High</th>\n",
              "      <th>Low</th>\n",
              "      <th>Close</th>\n",
              "      <th>Adj Close</th>\n",
              "      <th>Volume</th>\n",
              "    </tr>\n",
              "  </thead>\n",
              "  <tbody>\n",
              "    <tr>\n",
              "      <th>0</th>\n",
              "      <td>2008-09-15</td>\n",
              "      <td>2202.280029</td>\n",
              "      <td>2244.879883</td>\n",
              "      <td>2179.909912</td>\n",
              "      <td>2179.909912</td>\n",
              "      <td>2179.909912</td>\n",
              "      <td>2697820000</td>\n",
              "    </tr>\n",
              "    <tr>\n",
              "      <th>1</th>\n",
              "      <td>2008-09-16</td>\n",
              "      <td>2149.649902</td>\n",
              "      <td>2214.290039</td>\n",
              "      <td>2145.169922</td>\n",
              "      <td>2207.899902</td>\n",
              "      <td>2207.899902</td>\n",
              "      <td>3187630000</td>\n",
              "    </tr>\n",
              "    <tr>\n",
              "      <th>2</th>\n",
              "      <td>2008-09-17</td>\n",
              "      <td>2177.580078</td>\n",
              "      <td>2183.250000</td>\n",
              "      <td>2098.850098</td>\n",
              "      <td>2098.850098</td>\n",
              "      <td>2098.850098</td>\n",
              "      <td>3102010000</td>\n",
              "    </tr>\n",
              "    <tr>\n",
              "      <th>3</th>\n",
              "      <td>2008-09-18</td>\n",
              "      <td>2137.419922</td>\n",
              "      <td>2201.709961</td>\n",
              "      <td>2070.219971</td>\n",
              "      <td>2199.100098</td>\n",
              "      <td>2199.100098</td>\n",
              "      <td>3867290000</td>\n",
              "    </tr>\n",
              "    <tr>\n",
              "      <th>4</th>\n",
              "      <td>2008-09-19</td>\n",
              "      <td>2303.899902</td>\n",
              "      <td>2318.429932</td>\n",
              "      <td>2239.729980</td>\n",
              "      <td>2273.899902</td>\n",
              "      <td>2273.899902</td>\n",
              "      <td>3898230000</td>\n",
              "    </tr>\n",
              "  </tbody>\n",
              "</table>\n",
              "</div>\n",
              "      <button class=\"colab-df-convert\" onclick=\"convertToInteractive('df-2e43c8ce-7d04-4737-92b5-f402a1540ee9')\"\n",
              "              title=\"Convert this dataframe to an interactive table.\"\n",
              "              style=\"display:none;\">\n",
              "        \n",
              "  <svg xmlns=\"http://www.w3.org/2000/svg\" height=\"24px\"viewBox=\"0 0 24 24\"\n",
              "       width=\"24px\">\n",
              "    <path d=\"M0 0h24v24H0V0z\" fill=\"none\"/>\n",
              "    <path d=\"M18.56 5.44l.94 2.06.94-2.06 2.06-.94-2.06-.94-.94-2.06-.94 2.06-2.06.94zm-11 1L8.5 8.5l.94-2.06 2.06-.94-2.06-.94L8.5 2.5l-.94 2.06-2.06.94zm10 10l.94 2.06.94-2.06 2.06-.94-2.06-.94-.94-2.06-.94 2.06-2.06.94z\"/><path d=\"M17.41 7.96l-1.37-1.37c-.4-.4-.92-.59-1.43-.59-.52 0-1.04.2-1.43.59L10.3 9.45l-7.72 7.72c-.78.78-.78 2.05 0 2.83L4 21.41c.39.39.9.59 1.41.59.51 0 1.02-.2 1.41-.59l7.78-7.78 2.81-2.81c.8-.78.8-2.07 0-2.86zM5.41 20L4 18.59l7.72-7.72 1.47 1.35L5.41 20z\"/>\n",
              "  </svg>\n",
              "      </button>\n",
              "      \n",
              "  <style>\n",
              "    .colab-df-container {\n",
              "      display:flex;\n",
              "      flex-wrap:wrap;\n",
              "      gap: 12px;\n",
              "    }\n",
              "\n",
              "    .colab-df-convert {\n",
              "      background-color: #E8F0FE;\n",
              "      border: none;\n",
              "      border-radius: 50%;\n",
              "      cursor: pointer;\n",
              "      display: none;\n",
              "      fill: #1967D2;\n",
              "      height: 32px;\n",
              "      padding: 0 0 0 0;\n",
              "      width: 32px;\n",
              "    }\n",
              "\n",
              "    .colab-df-convert:hover {\n",
              "      background-color: #E2EBFA;\n",
              "      box-shadow: 0px 1px 2px rgba(60, 64, 67, 0.3), 0px 1px 3px 1px rgba(60, 64, 67, 0.15);\n",
              "      fill: #174EA6;\n",
              "    }\n",
              "\n",
              "    [theme=dark] .colab-df-convert {\n",
              "      background-color: #3B4455;\n",
              "      fill: #D2E3FC;\n",
              "    }\n",
              "\n",
              "    [theme=dark] .colab-df-convert:hover {\n",
              "      background-color: #434B5C;\n",
              "      box-shadow: 0px 1px 3px 1px rgba(0, 0, 0, 0.15);\n",
              "      filter: drop-shadow(0px 1px 2px rgba(0, 0, 0, 0.3));\n",
              "      fill: #FFFFFF;\n",
              "    }\n",
              "  </style>\n",
              "\n",
              "      <script>\n",
              "        const buttonEl =\n",
              "          document.querySelector('#df-2e43c8ce-7d04-4737-92b5-f402a1540ee9 button.colab-df-convert');\n",
              "        buttonEl.style.display =\n",
              "          google.colab.kernel.accessAllowed ? 'block' : 'none';\n",
              "\n",
              "        async function convertToInteractive(key) {\n",
              "          const element = document.querySelector('#df-2e43c8ce-7d04-4737-92b5-f402a1540ee9');\n",
              "          const dataTable =\n",
              "            await google.colab.kernel.invokeFunction('convertToInteractive',\n",
              "                                                     [key], {});\n",
              "          if (!dataTable) return;\n",
              "\n",
              "          const docLinkHtml = 'Like what you see? Visit the ' +\n",
              "            '<a target=\"_blank\" href=https://colab.research.google.com/notebooks/data_table.ipynb>data table notebook</a>'\n",
              "            + ' to learn more about interactive tables.';\n",
              "          element.innerHTML = '';\n",
              "          dataTable['output_type'] = 'display_data';\n",
              "          await google.colab.output.renderOutput(dataTable, element);\n",
              "          const docLink = document.createElement('div');\n",
              "          docLink.innerHTML = docLinkHtml;\n",
              "          element.appendChild(docLink);\n",
              "        }\n",
              "      </script>\n",
              "    </div>\n",
              "  </div>\n",
              "  "
            ]
          },
          "metadata": {},
          "execution_count": 6
        }
      ]
    },
    {
      "cell_type": "markdown",
      "source": [
        "### **Analyzing the news headlines dataset**"
      ],
      "metadata": {
        "id": "HR8Tkk27PEDH"
      }
    },
    {
      "cell_type": "code",
      "source": [
        "headlines.shape"
      ],
      "metadata": {
        "id": "R02-QfttHfau",
        "colab": {
          "base_uri": "https://localhost:8080/"
        },
        "outputId": "9b72115b-5407-447a-f105-f209a23ee5ef"
      },
      "execution_count": null,
      "outputs": [
        {
          "output_type": "execute_result",
          "data": {
            "text/plain": [
              "(3650970, 3)"
            ]
          },
          "metadata": {},
          "execution_count": 7
        }
      ]
    },
    {
      "cell_type": "code",
      "source": [
        "headlines.info()"
      ],
      "metadata": {
        "colab": {
          "base_uri": "https://localhost:8080/"
        },
        "id": "PwYtY3aVOBk1",
        "outputId": "645b19ab-4680-4b66-ffa8-9d52ae3d01c8"
      },
      "execution_count": null,
      "outputs": [
        {
          "output_type": "stream",
          "name": "stdout",
          "text": [
            "<class 'pandas.core.frame.DataFrame'>\n",
            "RangeIndex: 3650970 entries, 0 to 3650969\n",
            "Data columns (total 3 columns):\n",
            " #   Column             Dtype \n",
            "---  ------             ----- \n",
            " 0   publish_date       int64 \n",
            " 1   headline_category  object\n",
            " 2   headline_text      object\n",
            "dtypes: int64(1), object(2)\n",
            "memory usage: 83.6+ MB\n"
          ]
        }
      ]
    },
    {
      "cell_type": "code",
      "source": [
        "headlines.duplicated().sum()"
      ],
      "metadata": {
        "id": "BzcWID69PKqj",
        "colab": {
          "base_uri": "https://localhost:8080/"
        },
        "outputId": "dd27e91b-febc-466d-bc34-5d0df44b60fb"
      },
      "execution_count": null,
      "outputs": [
        {
          "output_type": "execute_result",
          "data": {
            "text/plain": [
              "24860"
            ]
          },
          "metadata": {},
          "execution_count": 10
        }
      ]
    },
    {
      "cell_type": "code",
      "source": [
        "headlines = hesdlines.drop_duplicates(keep='first')\n",
        "headlines.duplicated().sum()"
      ],
      "metadata": {
        "id": "0Bcv4m0lTZSw"
      },
      "execution_count": null,
      "outputs": []
    },
    {
      "cell_type": "code",
      "source": [
        "headlines.isnull().sum()"
      ],
      "metadata": {
        "id": "lphpjTC6icf_",
        "colab": {
          "base_uri": "https://localhost:8080/"
        },
        "outputId": "a0babf0e-19c6-4281-b06d-8afdf43d3104"
      },
      "execution_count": null,
      "outputs": [
        {
          "output_type": "execute_result",
          "data": {
            "text/plain": [
              "publish_date         0\n",
              "headline_category    0\n",
              "headline_text        0\n",
              "dtype: int64"
            ]
          },
          "metadata": {},
          "execution_count": 11
        }
      ]
    },
    {
      "cell_type": "code",
      "source": [
        "headlines['headline_category'].value_counts()"
      ],
      "metadata": {
        "id": "75nEJgc1qFTT",
        "colab": {
          "base_uri": "https://localhost:8080/"
        },
        "outputId": "b81d1d63-d241-40dc-e5d5-3aadccb55305"
      },
      "execution_count": null,
      "outputs": [
        {
          "output_type": "execute_result",
          "data": {
            "text/plain": [
              "india                                                    297491\n",
              "unknown                                                  209583\n",
              "city.mumbai                                              150451\n",
              "city.delhi                                               137648\n",
              "business.india-business                                  121195\n",
              "                                                          ...  \n",
              "nepal-india-earthquake.opinion                                8\n",
              "elections.lok-sabha-elections-2019.tripura.news               8\n",
              "best-products.home-decor-and-garden.living-room-decor         8\n",
              "profiles.india-profiles                                       8\n",
              "pms-us-visit                                                  8\n",
              "Name: headline_category, Length: 1041, dtype: int64"
            ]
          },
          "metadata": {},
          "execution_count": 12
        }
      ]
    },
    {
      "cell_type": "code",
      "source": [
        "headlines['publish_date'] = pd.to_datetime(headlines['publish_date'],format='%Y%m%d')\n",
        "headlines = headlines.rename(columns={'publish_date':'Date'})\n",
        "headlines.tail()"
      ],
      "metadata": {
        "id": "9DR4e8VOFdwr",
        "colab": {
          "base_uri": "https://localhost:8080/",
          "height": 206
        },
        "outputId": "acc65faf-e41a-415c-adfa-c11fe6f79efa"
      },
      "execution_count": null,
      "outputs": [
        {
          "output_type": "execute_result",
          "data": {
            "text/plain": [
              "              Date              headline_category  \\\n",
              "3650965 2022-03-31                  city.srinagar   \n",
              "3650966 2022-03-31  entertainment.hindi.bollywood   \n",
              "3650967 2022-03-31                    city.trichy   \n",
              "3650968 2022-03-31                     city.erode   \n",
              "3650969 2022-03-31                     city.salem   \n",
              "\n",
              "                                             headline_text  \n",
              "3650965  J&K sacks 2 cops; 3 other employees over terro...  \n",
              "3650966  Ranbir Kapoor says 'Rishi Kapoor enjoyed his a...  \n",
              "3650967  As Covid-19 cases drop to nil in southern dist...  \n",
              "3650968  Tamil Nadu sees marginal rise of Covid cases w...  \n",
              "3650969  Tamil Nadu sees marginal rise of Covid cases w...  "
            ],
            "text/html": [
              "\n",
              "  <div id=\"df-acc34250-48ee-453e-9509-5154c27f13de\">\n",
              "    <div class=\"colab-df-container\">\n",
              "      <div>\n",
              "<style scoped>\n",
              "    .dataframe tbody tr th:only-of-type {\n",
              "        vertical-align: middle;\n",
              "    }\n",
              "\n",
              "    .dataframe tbody tr th {\n",
              "        vertical-align: top;\n",
              "    }\n",
              "\n",
              "    .dataframe thead th {\n",
              "        text-align: right;\n",
              "    }\n",
              "</style>\n",
              "<table border=\"1\" class=\"dataframe\">\n",
              "  <thead>\n",
              "    <tr style=\"text-align: right;\">\n",
              "      <th></th>\n",
              "      <th>Date</th>\n",
              "      <th>headline_category</th>\n",
              "      <th>headline_text</th>\n",
              "    </tr>\n",
              "  </thead>\n",
              "  <tbody>\n",
              "    <tr>\n",
              "      <th>3650965</th>\n",
              "      <td>2022-03-31</td>\n",
              "      <td>city.srinagar</td>\n",
              "      <td>J&amp;K sacks 2 cops; 3 other employees over terro...</td>\n",
              "    </tr>\n",
              "    <tr>\n",
              "      <th>3650966</th>\n",
              "      <td>2022-03-31</td>\n",
              "      <td>entertainment.hindi.bollywood</td>\n",
              "      <td>Ranbir Kapoor says 'Rishi Kapoor enjoyed his a...</td>\n",
              "    </tr>\n",
              "    <tr>\n",
              "      <th>3650967</th>\n",
              "      <td>2022-03-31</td>\n",
              "      <td>city.trichy</td>\n",
              "      <td>As Covid-19 cases drop to nil in southern dist...</td>\n",
              "    </tr>\n",
              "    <tr>\n",
              "      <th>3650968</th>\n",
              "      <td>2022-03-31</td>\n",
              "      <td>city.erode</td>\n",
              "      <td>Tamil Nadu sees marginal rise of Covid cases w...</td>\n",
              "    </tr>\n",
              "    <tr>\n",
              "      <th>3650969</th>\n",
              "      <td>2022-03-31</td>\n",
              "      <td>city.salem</td>\n",
              "      <td>Tamil Nadu sees marginal rise of Covid cases w...</td>\n",
              "    </tr>\n",
              "  </tbody>\n",
              "</table>\n",
              "</div>\n",
              "      <button class=\"colab-df-convert\" onclick=\"convertToInteractive('df-acc34250-48ee-453e-9509-5154c27f13de')\"\n",
              "              title=\"Convert this dataframe to an interactive table.\"\n",
              "              style=\"display:none;\">\n",
              "        \n",
              "  <svg xmlns=\"http://www.w3.org/2000/svg\" height=\"24px\"viewBox=\"0 0 24 24\"\n",
              "       width=\"24px\">\n",
              "    <path d=\"M0 0h24v24H0V0z\" fill=\"none\"/>\n",
              "    <path d=\"M18.56 5.44l.94 2.06.94-2.06 2.06-.94-2.06-.94-.94-2.06-.94 2.06-2.06.94zm-11 1L8.5 8.5l.94-2.06 2.06-.94-2.06-.94L8.5 2.5l-.94 2.06-2.06.94zm10 10l.94 2.06.94-2.06 2.06-.94-2.06-.94-.94-2.06-.94 2.06-2.06.94z\"/><path d=\"M17.41 7.96l-1.37-1.37c-.4-.4-.92-.59-1.43-.59-.52 0-1.04.2-1.43.59L10.3 9.45l-7.72 7.72c-.78.78-.78 2.05 0 2.83L4 21.41c.39.39.9.59 1.41.59.51 0 1.02-.2 1.41-.59l7.78-7.78 2.81-2.81c.8-.78.8-2.07 0-2.86zM5.41 20L4 18.59l7.72-7.72 1.47 1.35L5.41 20z\"/>\n",
              "  </svg>\n",
              "      </button>\n",
              "      \n",
              "  <style>\n",
              "    .colab-df-container {\n",
              "      display:flex;\n",
              "      flex-wrap:wrap;\n",
              "      gap: 12px;\n",
              "    }\n",
              "\n",
              "    .colab-df-convert {\n",
              "      background-color: #E8F0FE;\n",
              "      border: none;\n",
              "      border-radius: 50%;\n",
              "      cursor: pointer;\n",
              "      display: none;\n",
              "      fill: #1967D2;\n",
              "      height: 32px;\n",
              "      padding: 0 0 0 0;\n",
              "      width: 32px;\n",
              "    }\n",
              "\n",
              "    .colab-df-convert:hover {\n",
              "      background-color: #E2EBFA;\n",
              "      box-shadow: 0px 1px 2px rgba(60, 64, 67, 0.3), 0px 1px 3px 1px rgba(60, 64, 67, 0.15);\n",
              "      fill: #174EA6;\n",
              "    }\n",
              "\n",
              "    [theme=dark] .colab-df-convert {\n",
              "      background-color: #3B4455;\n",
              "      fill: #D2E3FC;\n",
              "    }\n",
              "\n",
              "    [theme=dark] .colab-df-convert:hover {\n",
              "      background-color: #434B5C;\n",
              "      box-shadow: 0px 1px 3px 1px rgba(0, 0, 0, 0.15);\n",
              "      filter: drop-shadow(0px 1px 2px rgba(0, 0, 0, 0.3));\n",
              "      fill: #FFFFFF;\n",
              "    }\n",
              "  </style>\n",
              "\n",
              "      <script>\n",
              "        const buttonEl =\n",
              "          document.querySelector('#df-acc34250-48ee-453e-9509-5154c27f13de button.colab-df-convert');\n",
              "        buttonEl.style.display =\n",
              "          google.colab.kernel.accessAllowed ? 'block' : 'none';\n",
              "\n",
              "        async function convertToInteractive(key) {\n",
              "          const element = document.querySelector('#df-acc34250-48ee-453e-9509-5154c27f13de');\n",
              "          const dataTable =\n",
              "            await google.colab.kernel.invokeFunction('convertToInteractive',\n",
              "                                                     [key], {});\n",
              "          if (!dataTable) return;\n",
              "\n",
              "          const docLinkHtml = 'Like what you see? Visit the ' +\n",
              "            '<a target=\"_blank\" href=https://colab.research.google.com/notebooks/data_table.ipynb>data table notebook</a>'\n",
              "            + ' to learn more about interactive tables.';\n",
              "          element.innerHTML = '';\n",
              "          dataTable['output_type'] = 'display_data';\n",
              "          await google.colab.output.renderOutput(dataTable, element);\n",
              "          const docLink = document.createElement('div');\n",
              "          docLink.innerHTML = docLinkHtml;\n",
              "          element.appendChild(docLink);\n",
              "        }\n",
              "      </script>\n",
              "    </div>\n",
              "  </div>\n",
              "  "
            ]
          },
          "metadata": {},
          "execution_count": 13
        }
      ]
    },
    {
      "cell_type": "code",
      "source": [
        "headlines = headlines[headlines['Date'] >= '2008-09-15']\n",
        "headlines = headlines[headlines['Date'] <= '2008-09-30' ]\n",
        "headlines.shape"
      ],
      "metadata": {
        "id": "BtUiLYDTb9Sp",
        "colab": {
          "base_uri": "https://localhost:8080/"
        },
        "outputId": "3d932d98-d477-4839-a8aa-6fade9216488"
      },
      "execution_count": null,
      "outputs": [
        {
          "output_type": "execute_result",
          "data": {
            "text/plain": [
              "(6809, 3)"
            ]
          },
          "metadata": {},
          "execution_count": 14
        }
      ]
    },
    {
      "cell_type": "code",
      "source": [
        "headlines = headlines.sort_values('Date')"
      ],
      "metadata": {
        "id": "4MrDruy-hfNu"
      },
      "execution_count": null,
      "outputs": []
    },
    {
      "cell_type": "code",
      "source": [
        "headlines = headlines.drop('headline_category',axis=1)"
      ],
      "metadata": {
        "id": "EcpdjkSfn28u"
      },
      "execution_count": null,
      "outputs": []
    },
    {
      "cell_type": "code",
      "source": [
        "headlines.reset_index()"
      ],
      "metadata": {
        "id": "EatDCxQUm-oy",
        "colab": {
          "base_uri": "https://localhost:8080/",
          "height": 424
        },
        "outputId": "48ce5b59-40e1-4e12-fcc9-2af331668c5e"
      },
      "execution_count": null,
      "outputs": [
        {
          "output_type": "execute_result",
          "data": {
            "text/plain": [
              "       index       Date                                      headline_text\n",
              "0     618726 2008-09-15                       Pregnant? Watch your weight!\n",
              "1     619031 2008-09-15                                      Cesc Fabregas\n",
              "2     619030 2008-09-15            10 youth walk backwards for environment\n",
              "3     619029 2008-09-15  Should there be vacation in schools and colleg...\n",
              "4     619028 2008-09-15  Failure of middle-order in Lanka a one-off thi...\n",
              "...      ...        ...                                                ...\n",
              "6804  625292 2008-09-30               3 held for killing fruit stall owner\n",
              "6805  625291 2008-09-30                 Draft law tightens surrogacy norms\n",
              "6806  625290 2008-09-30                       Blame the brats; not the car\n",
              "6807  625310 2008-09-30  N-deal has dehyphenated India from Pakistan: C...\n",
              "6808  625534 2008-09-30  Sparkling opening of 39-room hotel at Baga in Goa\n",
              "\n",
              "[6809 rows x 3 columns]"
            ],
            "text/html": [
              "\n",
              "  <div id=\"df-44b0ce5c-9c4e-4f6b-9d61-05a0ee885a67\">\n",
              "    <div class=\"colab-df-container\">\n",
              "      <div>\n",
              "<style scoped>\n",
              "    .dataframe tbody tr th:only-of-type {\n",
              "        vertical-align: middle;\n",
              "    }\n",
              "\n",
              "    .dataframe tbody tr th {\n",
              "        vertical-align: top;\n",
              "    }\n",
              "\n",
              "    .dataframe thead th {\n",
              "        text-align: right;\n",
              "    }\n",
              "</style>\n",
              "<table border=\"1\" class=\"dataframe\">\n",
              "  <thead>\n",
              "    <tr style=\"text-align: right;\">\n",
              "      <th></th>\n",
              "      <th>index</th>\n",
              "      <th>Date</th>\n",
              "      <th>headline_text</th>\n",
              "    </tr>\n",
              "  </thead>\n",
              "  <tbody>\n",
              "    <tr>\n",
              "      <th>0</th>\n",
              "      <td>618726</td>\n",
              "      <td>2008-09-15</td>\n",
              "      <td>Pregnant? Watch your weight!</td>\n",
              "    </tr>\n",
              "    <tr>\n",
              "      <th>1</th>\n",
              "      <td>619031</td>\n",
              "      <td>2008-09-15</td>\n",
              "      <td>Cesc Fabregas</td>\n",
              "    </tr>\n",
              "    <tr>\n",
              "      <th>2</th>\n",
              "      <td>619030</td>\n",
              "      <td>2008-09-15</td>\n",
              "      <td>10 youth walk backwards for environment</td>\n",
              "    </tr>\n",
              "    <tr>\n",
              "      <th>3</th>\n",
              "      <td>619029</td>\n",
              "      <td>2008-09-15</td>\n",
              "      <td>Should there be vacation in schools and colleg...</td>\n",
              "    </tr>\n",
              "    <tr>\n",
              "      <th>4</th>\n",
              "      <td>619028</td>\n",
              "      <td>2008-09-15</td>\n",
              "      <td>Failure of middle-order in Lanka a one-off thi...</td>\n",
              "    </tr>\n",
              "    <tr>\n",
              "      <th>...</th>\n",
              "      <td>...</td>\n",
              "      <td>...</td>\n",
              "      <td>...</td>\n",
              "    </tr>\n",
              "    <tr>\n",
              "      <th>6804</th>\n",
              "      <td>625292</td>\n",
              "      <td>2008-09-30</td>\n",
              "      <td>3 held for killing fruit stall owner</td>\n",
              "    </tr>\n",
              "    <tr>\n",
              "      <th>6805</th>\n",
              "      <td>625291</td>\n",
              "      <td>2008-09-30</td>\n",
              "      <td>Draft law tightens surrogacy norms</td>\n",
              "    </tr>\n",
              "    <tr>\n",
              "      <th>6806</th>\n",
              "      <td>625290</td>\n",
              "      <td>2008-09-30</td>\n",
              "      <td>Blame the brats; not the car</td>\n",
              "    </tr>\n",
              "    <tr>\n",
              "      <th>6807</th>\n",
              "      <td>625310</td>\n",
              "      <td>2008-09-30</td>\n",
              "      <td>N-deal has dehyphenated India from Pakistan: C...</td>\n",
              "    </tr>\n",
              "    <tr>\n",
              "      <th>6808</th>\n",
              "      <td>625534</td>\n",
              "      <td>2008-09-30</td>\n",
              "      <td>Sparkling opening of 39-room hotel at Baga in Goa</td>\n",
              "    </tr>\n",
              "  </tbody>\n",
              "</table>\n",
              "<p>6809 rows × 3 columns</p>\n",
              "</div>\n",
              "      <button class=\"colab-df-convert\" onclick=\"convertToInteractive('df-44b0ce5c-9c4e-4f6b-9d61-05a0ee885a67')\"\n",
              "              title=\"Convert this dataframe to an interactive table.\"\n",
              "              style=\"display:none;\">\n",
              "        \n",
              "  <svg xmlns=\"http://www.w3.org/2000/svg\" height=\"24px\"viewBox=\"0 0 24 24\"\n",
              "       width=\"24px\">\n",
              "    <path d=\"M0 0h24v24H0V0z\" fill=\"none\"/>\n",
              "    <path d=\"M18.56 5.44l.94 2.06.94-2.06 2.06-.94-2.06-.94-.94-2.06-.94 2.06-2.06.94zm-11 1L8.5 8.5l.94-2.06 2.06-.94-2.06-.94L8.5 2.5l-.94 2.06-2.06.94zm10 10l.94 2.06.94-2.06 2.06-.94-2.06-.94-.94-2.06-.94 2.06-2.06.94z\"/><path d=\"M17.41 7.96l-1.37-1.37c-.4-.4-.92-.59-1.43-.59-.52 0-1.04.2-1.43.59L10.3 9.45l-7.72 7.72c-.78.78-.78 2.05 0 2.83L4 21.41c.39.39.9.59 1.41.59.51 0 1.02-.2 1.41-.59l7.78-7.78 2.81-2.81c.8-.78.8-2.07 0-2.86zM5.41 20L4 18.59l7.72-7.72 1.47 1.35L5.41 20z\"/>\n",
              "  </svg>\n",
              "      </button>\n",
              "      \n",
              "  <style>\n",
              "    .colab-df-container {\n",
              "      display:flex;\n",
              "      flex-wrap:wrap;\n",
              "      gap: 12px;\n",
              "    }\n",
              "\n",
              "    .colab-df-convert {\n",
              "      background-color: #E8F0FE;\n",
              "      border: none;\n",
              "      border-radius: 50%;\n",
              "      cursor: pointer;\n",
              "      display: none;\n",
              "      fill: #1967D2;\n",
              "      height: 32px;\n",
              "      padding: 0 0 0 0;\n",
              "      width: 32px;\n",
              "    }\n",
              "\n",
              "    .colab-df-convert:hover {\n",
              "      background-color: #E2EBFA;\n",
              "      box-shadow: 0px 1px 2px rgba(60, 64, 67, 0.3), 0px 1px 3px 1px rgba(60, 64, 67, 0.15);\n",
              "      fill: #174EA6;\n",
              "    }\n",
              "\n",
              "    [theme=dark] .colab-df-convert {\n",
              "      background-color: #3B4455;\n",
              "      fill: #D2E3FC;\n",
              "    }\n",
              "\n",
              "    [theme=dark] .colab-df-convert:hover {\n",
              "      background-color: #434B5C;\n",
              "      box-shadow: 0px 1px 3px 1px rgba(0, 0, 0, 0.15);\n",
              "      filter: drop-shadow(0px 1px 2px rgba(0, 0, 0, 0.3));\n",
              "      fill: #FFFFFF;\n",
              "    }\n",
              "  </style>\n",
              "\n",
              "      <script>\n",
              "        const buttonEl =\n",
              "          document.querySelector('#df-44b0ce5c-9c4e-4f6b-9d61-05a0ee885a67 button.colab-df-convert');\n",
              "        buttonEl.style.display =\n",
              "          google.colab.kernel.accessAllowed ? 'block' : 'none';\n",
              "\n",
              "        async function convertToInteractive(key) {\n",
              "          const element = document.querySelector('#df-44b0ce5c-9c4e-4f6b-9d61-05a0ee885a67');\n",
              "          const dataTable =\n",
              "            await google.colab.kernel.invokeFunction('convertToInteractive',\n",
              "                                                     [key], {});\n",
              "          if (!dataTable) return;\n",
              "\n",
              "          const docLinkHtml = 'Like what you see? Visit the ' +\n",
              "            '<a target=\"_blank\" href=https://colab.research.google.com/notebooks/data_table.ipynb>data table notebook</a>'\n",
              "            + ' to learn more about interactive tables.';\n",
              "          element.innerHTML = '';\n",
              "          dataTable['output_type'] = 'display_data';\n",
              "          await google.colab.output.renderOutput(dataTable, element);\n",
              "          const docLink = document.createElement('div');\n",
              "          docLink.innerHTML = docLinkHtml;\n",
              "          element.appendChild(docLink);\n",
              "        }\n",
              "      </script>\n",
              "    </div>\n",
              "  </div>\n",
              "  "
            ]
          },
          "metadata": {},
          "execution_count": 17
        }
      ]
    },
    {
      "cell_type": "code",
      "source": [
        "#Number of words in each headline text\n",
        "headlines['word_count'] = headlines['headline_text'].apply(lambda x : len(str(x).split(' ')))\n",
        "headlines.head()"
      ],
      "metadata": {
        "id": "Le9G7_vJlS2d",
        "colab": {
          "base_uri": "https://localhost:8080/",
          "height": 206
        },
        "outputId": "3497a50b-e840-4b99-98d3-a75581aa834e"
      },
      "execution_count": null,
      "outputs": [
        {
          "output_type": "execute_result",
          "data": {
            "text/plain": [
              "             Date                                      headline_text  \\\n",
              "618726 2008-09-15                       Pregnant? Watch your weight!   \n",
              "619031 2008-09-15                                      Cesc Fabregas   \n",
              "619030 2008-09-15            10 youth walk backwards for environment   \n",
              "619029 2008-09-15  Should there be vacation in schools and colleg...   \n",
              "619028 2008-09-15  Failure of middle-order in Lanka a one-off thi...   \n",
              "\n",
              "        word_count  \n",
              "618726           4  \n",
              "619031           2  \n",
              "619030           6  \n",
              "619029          10  \n",
              "619028           9  "
            ],
            "text/html": [
              "\n",
              "  <div id=\"df-4bea0543-4cdb-4b93-90b6-1e6f6ea7b0e5\">\n",
              "    <div class=\"colab-df-container\">\n",
              "      <div>\n",
              "<style scoped>\n",
              "    .dataframe tbody tr th:only-of-type {\n",
              "        vertical-align: middle;\n",
              "    }\n",
              "\n",
              "    .dataframe tbody tr th {\n",
              "        vertical-align: top;\n",
              "    }\n",
              "\n",
              "    .dataframe thead th {\n",
              "        text-align: right;\n",
              "    }\n",
              "</style>\n",
              "<table border=\"1\" class=\"dataframe\">\n",
              "  <thead>\n",
              "    <tr style=\"text-align: right;\">\n",
              "      <th></th>\n",
              "      <th>Date</th>\n",
              "      <th>headline_text</th>\n",
              "      <th>word_count</th>\n",
              "    </tr>\n",
              "  </thead>\n",
              "  <tbody>\n",
              "    <tr>\n",
              "      <th>618726</th>\n",
              "      <td>2008-09-15</td>\n",
              "      <td>Pregnant? Watch your weight!</td>\n",
              "      <td>4</td>\n",
              "    </tr>\n",
              "    <tr>\n",
              "      <th>619031</th>\n",
              "      <td>2008-09-15</td>\n",
              "      <td>Cesc Fabregas</td>\n",
              "      <td>2</td>\n",
              "    </tr>\n",
              "    <tr>\n",
              "      <th>619030</th>\n",
              "      <td>2008-09-15</td>\n",
              "      <td>10 youth walk backwards for environment</td>\n",
              "      <td>6</td>\n",
              "    </tr>\n",
              "    <tr>\n",
              "      <th>619029</th>\n",
              "      <td>2008-09-15</td>\n",
              "      <td>Should there be vacation in schools and colleg...</td>\n",
              "      <td>10</td>\n",
              "    </tr>\n",
              "    <tr>\n",
              "      <th>619028</th>\n",
              "      <td>2008-09-15</td>\n",
              "      <td>Failure of middle-order in Lanka a one-off thi...</td>\n",
              "      <td>9</td>\n",
              "    </tr>\n",
              "  </tbody>\n",
              "</table>\n",
              "</div>\n",
              "      <button class=\"colab-df-convert\" onclick=\"convertToInteractive('df-4bea0543-4cdb-4b93-90b6-1e6f6ea7b0e5')\"\n",
              "              title=\"Convert this dataframe to an interactive table.\"\n",
              "              style=\"display:none;\">\n",
              "        \n",
              "  <svg xmlns=\"http://www.w3.org/2000/svg\" height=\"24px\"viewBox=\"0 0 24 24\"\n",
              "       width=\"24px\">\n",
              "    <path d=\"M0 0h24v24H0V0z\" fill=\"none\"/>\n",
              "    <path d=\"M18.56 5.44l.94 2.06.94-2.06 2.06-.94-2.06-.94-.94-2.06-.94 2.06-2.06.94zm-11 1L8.5 8.5l.94-2.06 2.06-.94-2.06-.94L8.5 2.5l-.94 2.06-2.06.94zm10 10l.94 2.06.94-2.06 2.06-.94-2.06-.94-.94-2.06-.94 2.06-2.06.94z\"/><path d=\"M17.41 7.96l-1.37-1.37c-.4-.4-.92-.59-1.43-.59-.52 0-1.04.2-1.43.59L10.3 9.45l-7.72 7.72c-.78.78-.78 2.05 0 2.83L4 21.41c.39.39.9.59 1.41.59.51 0 1.02-.2 1.41-.59l7.78-7.78 2.81-2.81c.8-.78.8-2.07 0-2.86zM5.41 20L4 18.59l7.72-7.72 1.47 1.35L5.41 20z\"/>\n",
              "  </svg>\n",
              "      </button>\n",
              "      \n",
              "  <style>\n",
              "    .colab-df-container {\n",
              "      display:flex;\n",
              "      flex-wrap:wrap;\n",
              "      gap: 12px;\n",
              "    }\n",
              "\n",
              "    .colab-df-convert {\n",
              "      background-color: #E8F0FE;\n",
              "      border: none;\n",
              "      border-radius: 50%;\n",
              "      cursor: pointer;\n",
              "      display: none;\n",
              "      fill: #1967D2;\n",
              "      height: 32px;\n",
              "      padding: 0 0 0 0;\n",
              "      width: 32px;\n",
              "    }\n",
              "\n",
              "    .colab-df-convert:hover {\n",
              "      background-color: #E2EBFA;\n",
              "      box-shadow: 0px 1px 2px rgba(60, 64, 67, 0.3), 0px 1px 3px 1px rgba(60, 64, 67, 0.15);\n",
              "      fill: #174EA6;\n",
              "    }\n",
              "\n",
              "    [theme=dark] .colab-df-convert {\n",
              "      background-color: #3B4455;\n",
              "      fill: #D2E3FC;\n",
              "    }\n",
              "\n",
              "    [theme=dark] .colab-df-convert:hover {\n",
              "      background-color: #434B5C;\n",
              "      box-shadow: 0px 1px 3px 1px rgba(0, 0, 0, 0.15);\n",
              "      filter: drop-shadow(0px 1px 2px rgba(0, 0, 0, 0.3));\n",
              "      fill: #FFFFFF;\n",
              "    }\n",
              "  </style>\n",
              "\n",
              "      <script>\n",
              "        const buttonEl =\n",
              "          document.querySelector('#df-4bea0543-4cdb-4b93-90b6-1e6f6ea7b0e5 button.colab-df-convert');\n",
              "        buttonEl.style.display =\n",
              "          google.colab.kernel.accessAllowed ? 'block' : 'none';\n",
              "\n",
              "        async function convertToInteractive(key) {\n",
              "          const element = document.querySelector('#df-4bea0543-4cdb-4b93-90b6-1e6f6ea7b0e5');\n",
              "          const dataTable =\n",
              "            await google.colab.kernel.invokeFunction('convertToInteractive',\n",
              "                                                     [key], {});\n",
              "          if (!dataTable) return;\n",
              "\n",
              "          const docLinkHtml = 'Like what you see? Visit the ' +\n",
              "            '<a target=\"_blank\" href=https://colab.research.google.com/notebooks/data_table.ipynb>data table notebook</a>'\n",
              "            + ' to learn more about interactive tables.';\n",
              "          element.innerHTML = '';\n",
              "          dataTable['output_type'] = 'display_data';\n",
              "          await google.colab.output.renderOutput(dataTable, element);\n",
              "          const docLink = document.createElement('div');\n",
              "          docLink.innerHTML = docLinkHtml;\n",
              "          element.appendChild(docLink);\n",
              "        }\n",
              "      </script>\n",
              "    </div>\n",
              "  </div>\n",
              "  "
            ]
          },
          "metadata": {},
          "execution_count": 18
        }
      ]
    },
    {
      "cell_type": "code",
      "source": [
        "#Number of characters in each headline text\n",
        "headlines['char_count'] = headlines['headline_text'].str.len()\n",
        "headlines.head()"
      ],
      "metadata": {
        "id": "H9MBQUbgyG5c",
        "colab": {
          "base_uri": "https://localhost:8080/",
          "height": 206
        },
        "outputId": "288bc7dc-7bed-4ed3-9f51-9ac5b1f01dc6"
      },
      "execution_count": null,
      "outputs": [
        {
          "output_type": "execute_result",
          "data": {
            "text/plain": [
              "             Date                                      headline_text  \\\n",
              "618726 2008-09-15                       Pregnant? Watch your weight!   \n",
              "619031 2008-09-15                                      Cesc Fabregas   \n",
              "619030 2008-09-15            10 youth walk backwards for environment   \n",
              "619029 2008-09-15  Should there be vacation in schools and colleg...   \n",
              "619028 2008-09-15  Failure of middle-order in Lanka a one-off thi...   \n",
              "\n",
              "        word_count  char_count  \n",
              "618726           4          28  \n",
              "619031           2          13  \n",
              "619030           6          39  \n",
              "619029          10          65  \n",
              "619028           9          60  "
            ],
            "text/html": [
              "\n",
              "  <div id=\"df-1e680ee4-bc8a-420d-8620-12d830937085\">\n",
              "    <div class=\"colab-df-container\">\n",
              "      <div>\n",
              "<style scoped>\n",
              "    .dataframe tbody tr th:only-of-type {\n",
              "        vertical-align: middle;\n",
              "    }\n",
              "\n",
              "    .dataframe tbody tr th {\n",
              "        vertical-align: top;\n",
              "    }\n",
              "\n",
              "    .dataframe thead th {\n",
              "        text-align: right;\n",
              "    }\n",
              "</style>\n",
              "<table border=\"1\" class=\"dataframe\">\n",
              "  <thead>\n",
              "    <tr style=\"text-align: right;\">\n",
              "      <th></th>\n",
              "      <th>Date</th>\n",
              "      <th>headline_text</th>\n",
              "      <th>word_count</th>\n",
              "      <th>char_count</th>\n",
              "    </tr>\n",
              "  </thead>\n",
              "  <tbody>\n",
              "    <tr>\n",
              "      <th>618726</th>\n",
              "      <td>2008-09-15</td>\n",
              "      <td>Pregnant? Watch your weight!</td>\n",
              "      <td>4</td>\n",
              "      <td>28</td>\n",
              "    </tr>\n",
              "    <tr>\n",
              "      <th>619031</th>\n",
              "      <td>2008-09-15</td>\n",
              "      <td>Cesc Fabregas</td>\n",
              "      <td>2</td>\n",
              "      <td>13</td>\n",
              "    </tr>\n",
              "    <tr>\n",
              "      <th>619030</th>\n",
              "      <td>2008-09-15</td>\n",
              "      <td>10 youth walk backwards for environment</td>\n",
              "      <td>6</td>\n",
              "      <td>39</td>\n",
              "    </tr>\n",
              "    <tr>\n",
              "      <th>619029</th>\n",
              "      <td>2008-09-15</td>\n",
              "      <td>Should there be vacation in schools and colleg...</td>\n",
              "      <td>10</td>\n",
              "      <td>65</td>\n",
              "    </tr>\n",
              "    <tr>\n",
              "      <th>619028</th>\n",
              "      <td>2008-09-15</td>\n",
              "      <td>Failure of middle-order in Lanka a one-off thi...</td>\n",
              "      <td>9</td>\n",
              "      <td>60</td>\n",
              "    </tr>\n",
              "  </tbody>\n",
              "</table>\n",
              "</div>\n",
              "      <button class=\"colab-df-convert\" onclick=\"convertToInteractive('df-1e680ee4-bc8a-420d-8620-12d830937085')\"\n",
              "              title=\"Convert this dataframe to an interactive table.\"\n",
              "              style=\"display:none;\">\n",
              "        \n",
              "  <svg xmlns=\"http://www.w3.org/2000/svg\" height=\"24px\"viewBox=\"0 0 24 24\"\n",
              "       width=\"24px\">\n",
              "    <path d=\"M0 0h24v24H0V0z\" fill=\"none\"/>\n",
              "    <path d=\"M18.56 5.44l.94 2.06.94-2.06 2.06-.94-2.06-.94-.94-2.06-.94 2.06-2.06.94zm-11 1L8.5 8.5l.94-2.06 2.06-.94-2.06-.94L8.5 2.5l-.94 2.06-2.06.94zm10 10l.94 2.06.94-2.06 2.06-.94-2.06-.94-.94-2.06-.94 2.06-2.06.94z\"/><path d=\"M17.41 7.96l-1.37-1.37c-.4-.4-.92-.59-1.43-.59-.52 0-1.04.2-1.43.59L10.3 9.45l-7.72 7.72c-.78.78-.78 2.05 0 2.83L4 21.41c.39.39.9.59 1.41.59.51 0 1.02-.2 1.41-.59l7.78-7.78 2.81-2.81c.8-.78.8-2.07 0-2.86zM5.41 20L4 18.59l7.72-7.72 1.47 1.35L5.41 20z\"/>\n",
              "  </svg>\n",
              "      </button>\n",
              "      \n",
              "  <style>\n",
              "    .colab-df-container {\n",
              "      display:flex;\n",
              "      flex-wrap:wrap;\n",
              "      gap: 12px;\n",
              "    }\n",
              "\n",
              "    .colab-df-convert {\n",
              "      background-color: #E8F0FE;\n",
              "      border: none;\n",
              "      border-radius: 50%;\n",
              "      cursor: pointer;\n",
              "      display: none;\n",
              "      fill: #1967D2;\n",
              "      height: 32px;\n",
              "      padding: 0 0 0 0;\n",
              "      width: 32px;\n",
              "    }\n",
              "\n",
              "    .colab-df-convert:hover {\n",
              "      background-color: #E2EBFA;\n",
              "      box-shadow: 0px 1px 2px rgba(60, 64, 67, 0.3), 0px 1px 3px 1px rgba(60, 64, 67, 0.15);\n",
              "      fill: #174EA6;\n",
              "    }\n",
              "\n",
              "    [theme=dark] .colab-df-convert {\n",
              "      background-color: #3B4455;\n",
              "      fill: #D2E3FC;\n",
              "    }\n",
              "\n",
              "    [theme=dark] .colab-df-convert:hover {\n",
              "      background-color: #434B5C;\n",
              "      box-shadow: 0px 1px 3px 1px rgba(0, 0, 0, 0.15);\n",
              "      filter: drop-shadow(0px 1px 2px rgba(0, 0, 0, 0.3));\n",
              "      fill: #FFFFFF;\n",
              "    }\n",
              "  </style>\n",
              "\n",
              "      <script>\n",
              "        const buttonEl =\n",
              "          document.querySelector('#df-1e680ee4-bc8a-420d-8620-12d830937085 button.colab-df-convert');\n",
              "        buttonEl.style.display =\n",
              "          google.colab.kernel.accessAllowed ? 'block' : 'none';\n",
              "\n",
              "        async function convertToInteractive(key) {\n",
              "          const element = document.querySelector('#df-1e680ee4-bc8a-420d-8620-12d830937085');\n",
              "          const dataTable =\n",
              "            await google.colab.kernel.invokeFunction('convertToInteractive',\n",
              "                                                     [key], {});\n",
              "          if (!dataTable) return;\n",
              "\n",
              "          const docLinkHtml = 'Like what you see? Visit the ' +\n",
              "            '<a target=\"_blank\" href=https://colab.research.google.com/notebooks/data_table.ipynb>data table notebook</a>'\n",
              "            + ' to learn more about interactive tables.';\n",
              "          element.innerHTML = '';\n",
              "          dataTable['output_type'] = 'display_data';\n",
              "          await google.colab.output.renderOutput(dataTable, element);\n",
              "          const docLink = document.createElement('div');\n",
              "          docLink.innerHTML = docLinkHtml;\n",
              "          element.appendChild(docLink);\n",
              "        }\n",
              "      </script>\n",
              "    </div>\n",
              "  </div>\n",
              "  "
            ]
          },
          "metadata": {},
          "execution_count": 19
        }
      ]
    },
    {
      "cell_type": "code",
      "source": [
        "#Calculating average word length\n",
        "def avg_word(sentence):\n",
        "    words = sentence.split()\n",
        "    return (sum([len(x) for x in words])/len(words))\n",
        "headlines['avg_word'] = headlines['headline_text'].apply(lambda x : avg_word(x))\n",
        "headlines.head()"
      ],
      "metadata": {
        "colab": {
          "base_uri": "https://localhost:8080/",
          "height": 206
        },
        "id": "7uTzwvB4ar-3",
        "outputId": "0b855a04-ef26-406d-863a-0c2d9edef4b2"
      },
      "execution_count": null,
      "outputs": [
        {
          "output_type": "execute_result",
          "data": {
            "text/plain": [
              "             Date                                      headline_text  \\\n",
              "618726 2008-09-15                       Pregnant? Watch your weight!   \n",
              "619031 2008-09-15                                      Cesc Fabregas   \n",
              "619030 2008-09-15            10 youth walk backwards for environment   \n",
              "619029 2008-09-15  Should there be vacation in schools and colleg...   \n",
              "619028 2008-09-15  Failure of middle-order in Lanka a one-off thi...   \n",
              "\n",
              "        word_count  char_count  avg_word  \n",
              "618726           4          28  6.250000  \n",
              "619031           2          13  6.000000  \n",
              "619030           6          39  5.666667  \n",
              "619029          10          65  5.600000  \n",
              "619028           9          60  5.777778  "
            ],
            "text/html": [
              "\n",
              "  <div id=\"df-f7d8e76d-9736-452b-bac1-12949ee7c7d7\">\n",
              "    <div class=\"colab-df-container\">\n",
              "      <div>\n",
              "<style scoped>\n",
              "    .dataframe tbody tr th:only-of-type {\n",
              "        vertical-align: middle;\n",
              "    }\n",
              "\n",
              "    .dataframe tbody tr th {\n",
              "        vertical-align: top;\n",
              "    }\n",
              "\n",
              "    .dataframe thead th {\n",
              "        text-align: right;\n",
              "    }\n",
              "</style>\n",
              "<table border=\"1\" class=\"dataframe\">\n",
              "  <thead>\n",
              "    <tr style=\"text-align: right;\">\n",
              "      <th></th>\n",
              "      <th>Date</th>\n",
              "      <th>headline_text</th>\n",
              "      <th>word_count</th>\n",
              "      <th>char_count</th>\n",
              "      <th>avg_word</th>\n",
              "    </tr>\n",
              "  </thead>\n",
              "  <tbody>\n",
              "    <tr>\n",
              "      <th>618726</th>\n",
              "      <td>2008-09-15</td>\n",
              "      <td>Pregnant? Watch your weight!</td>\n",
              "      <td>4</td>\n",
              "      <td>28</td>\n",
              "      <td>6.250000</td>\n",
              "    </tr>\n",
              "    <tr>\n",
              "      <th>619031</th>\n",
              "      <td>2008-09-15</td>\n",
              "      <td>Cesc Fabregas</td>\n",
              "      <td>2</td>\n",
              "      <td>13</td>\n",
              "      <td>6.000000</td>\n",
              "    </tr>\n",
              "    <tr>\n",
              "      <th>619030</th>\n",
              "      <td>2008-09-15</td>\n",
              "      <td>10 youth walk backwards for environment</td>\n",
              "      <td>6</td>\n",
              "      <td>39</td>\n",
              "      <td>5.666667</td>\n",
              "    </tr>\n",
              "    <tr>\n",
              "      <th>619029</th>\n",
              "      <td>2008-09-15</td>\n",
              "      <td>Should there be vacation in schools and colleg...</td>\n",
              "      <td>10</td>\n",
              "      <td>65</td>\n",
              "      <td>5.600000</td>\n",
              "    </tr>\n",
              "    <tr>\n",
              "      <th>619028</th>\n",
              "      <td>2008-09-15</td>\n",
              "      <td>Failure of middle-order in Lanka a one-off thi...</td>\n",
              "      <td>9</td>\n",
              "      <td>60</td>\n",
              "      <td>5.777778</td>\n",
              "    </tr>\n",
              "  </tbody>\n",
              "</table>\n",
              "</div>\n",
              "      <button class=\"colab-df-convert\" onclick=\"convertToInteractive('df-f7d8e76d-9736-452b-bac1-12949ee7c7d7')\"\n",
              "              title=\"Convert this dataframe to an interactive table.\"\n",
              "              style=\"display:none;\">\n",
              "        \n",
              "  <svg xmlns=\"http://www.w3.org/2000/svg\" height=\"24px\"viewBox=\"0 0 24 24\"\n",
              "       width=\"24px\">\n",
              "    <path d=\"M0 0h24v24H0V0z\" fill=\"none\"/>\n",
              "    <path d=\"M18.56 5.44l.94 2.06.94-2.06 2.06-.94-2.06-.94-.94-2.06-.94 2.06-2.06.94zm-11 1L8.5 8.5l.94-2.06 2.06-.94-2.06-.94L8.5 2.5l-.94 2.06-2.06.94zm10 10l.94 2.06.94-2.06 2.06-.94-2.06-.94-.94-2.06-.94 2.06-2.06.94z\"/><path d=\"M17.41 7.96l-1.37-1.37c-.4-.4-.92-.59-1.43-.59-.52 0-1.04.2-1.43.59L10.3 9.45l-7.72 7.72c-.78.78-.78 2.05 0 2.83L4 21.41c.39.39.9.59 1.41.59.51 0 1.02-.2 1.41-.59l7.78-7.78 2.81-2.81c.8-.78.8-2.07 0-2.86zM5.41 20L4 18.59l7.72-7.72 1.47 1.35L5.41 20z\"/>\n",
              "  </svg>\n",
              "      </button>\n",
              "      \n",
              "  <style>\n",
              "    .colab-df-container {\n",
              "      display:flex;\n",
              "      flex-wrap:wrap;\n",
              "      gap: 12px;\n",
              "    }\n",
              "\n",
              "    .colab-df-convert {\n",
              "      background-color: #E8F0FE;\n",
              "      border: none;\n",
              "      border-radius: 50%;\n",
              "      cursor: pointer;\n",
              "      display: none;\n",
              "      fill: #1967D2;\n",
              "      height: 32px;\n",
              "      padding: 0 0 0 0;\n",
              "      width: 32px;\n",
              "    }\n",
              "\n",
              "    .colab-df-convert:hover {\n",
              "      background-color: #E2EBFA;\n",
              "      box-shadow: 0px 1px 2px rgba(60, 64, 67, 0.3), 0px 1px 3px 1px rgba(60, 64, 67, 0.15);\n",
              "      fill: #174EA6;\n",
              "    }\n",
              "\n",
              "    [theme=dark] .colab-df-convert {\n",
              "      background-color: #3B4455;\n",
              "      fill: #D2E3FC;\n",
              "    }\n",
              "\n",
              "    [theme=dark] .colab-df-convert:hover {\n",
              "      background-color: #434B5C;\n",
              "      box-shadow: 0px 1px 3px 1px rgba(0, 0, 0, 0.15);\n",
              "      filter: drop-shadow(0px 1px 2px rgba(0, 0, 0, 0.3));\n",
              "      fill: #FFFFFF;\n",
              "    }\n",
              "  </style>\n",
              "\n",
              "      <script>\n",
              "        const buttonEl =\n",
              "          document.querySelector('#df-f7d8e76d-9736-452b-bac1-12949ee7c7d7 button.colab-df-convert');\n",
              "        buttonEl.style.display =\n",
              "          google.colab.kernel.accessAllowed ? 'block' : 'none';\n",
              "\n",
              "        async function convertToInteractive(key) {\n",
              "          const element = document.querySelector('#df-f7d8e76d-9736-452b-bac1-12949ee7c7d7');\n",
              "          const dataTable =\n",
              "            await google.colab.kernel.invokeFunction('convertToInteractive',\n",
              "                                                     [key], {});\n",
              "          if (!dataTable) return;\n",
              "\n",
              "          const docLinkHtml = 'Like what you see? Visit the ' +\n",
              "            '<a target=\"_blank\" href=https://colab.research.google.com/notebooks/data_table.ipynb>data table notebook</a>'\n",
              "            + ' to learn more about interactive tables.';\n",
              "          element.innerHTML = '';\n",
              "          dataTable['output_type'] = 'display_data';\n",
              "          await google.colab.output.renderOutput(dataTable, element);\n",
              "          const docLink = document.createElement('div');\n",
              "          docLink.innerHTML = docLinkHtml;\n",
              "          element.appendChild(docLink);\n",
              "        }\n",
              "      </script>\n",
              "    </div>\n",
              "  </div>\n",
              "  "
            ]
          },
          "metadata": {},
          "execution_count": 20
        }
      ]
    },
    {
      "cell_type": "markdown",
      "source": [
        "## **Preprocess the news headline data**"
      ],
      "metadata": {
        "id": "oGnPBxfpIPGh"
      }
    },
    {
      "cell_type": "code",
      "source": [
        "#Converting every word to upper case\n",
        "headlines['headline_text'] = headlines['headline_text'].apply(lambda x : ' '.join(x.lower() for x in x.split()))\n",
        "headlines['headline_text']"
      ],
      "metadata": {
        "colab": {
          "base_uri": "https://localhost:8080/"
        },
        "id": "BXzSfSzGHwon",
        "outputId": "cb51d6c1-141e-49bf-a9f3-6ce18ed7472a"
      },
      "execution_count": null,
      "outputs": [
        {
          "output_type": "execute_result",
          "data": {
            "text/plain": [
              "618726                         pregnant? watch your weight!\n",
              "619031                                        cesc fabregas\n",
              "619030              10 youth walk backwards for environment\n",
              "619029    should there be vacation in schools and colleg...\n",
              "619028    failure of middle-order in lanka a one-off thi...\n",
              "                                ...                        \n",
              "625292                 3 held for killing fruit stall owner\n",
              "625291                   draft law tightens surrogacy norms\n",
              "625290                         blame the brats; not the car\n",
              "625310    n-deal has dehyphenated india from pakistan: c...\n",
              "625534    sparkling opening of 39-room hotel at baga in goa\n",
              "Name: headline_text, Length: 6809, dtype: object"
            ]
          },
          "metadata": {},
          "execution_count": 21
        }
      ]
    },
    {
      "cell_type": "code",
      "source": [
        "#Removing punctuations\n",
        "headlines['headline_text'] = headlines['headline_text'].str.replace('[^\\w\\s]','')\n",
        "headlines['headline_text']"
      ],
      "metadata": {
        "colab": {
          "base_uri": "https://localhost:8080/"
        },
        "id": "0mPqo2lgJLvo",
        "outputId": "19290783-2a4a-44d0-fec9-2ccfe8230c22"
      },
      "execution_count": null,
      "outputs": [
        {
          "output_type": "stream",
          "name": "stderr",
          "text": [
            "/usr/local/lib/python3.7/dist-packages/ipykernel_launcher.py:2: FutureWarning: The default value of regex will change from True to False in a future version.\n",
            "  \n"
          ]
        },
        {
          "output_type": "execute_result",
          "data": {
            "text/plain": [
              "618726                           pregnant watch your weight\n",
              "619031                                        cesc fabregas\n",
              "619030              10 youth walk backwards for environment\n",
              "619029    should there be vacation in schools and colleg...\n",
              "619028    failure of middleorder in lanka a oneoff thing...\n",
              "                                ...                        \n",
              "625292                 3 held for killing fruit stall owner\n",
              "625291                   draft law tightens surrogacy norms\n",
              "625290                          blame the brats not the car\n",
              "625310    ndeal has dehyphenated india from pakistan con...\n",
              "625534     sparkling opening of 39room hotel at baga in goa\n",
              "Name: headline_text, Length: 6809, dtype: object"
            ]
          },
          "metadata": {},
          "execution_count": 22
        }
      ]
    },
    {
      "cell_type": "code",
      "source": [
        "#Removing stopwords\n",
        "sw = stopwords.words('english')\n",
        "headlines['headline_text'] = headlines['headline_text'].apply(lambda x : ' '.join(x for x in x.split() if x not in sw))\n",
        "headlines['headline_text']"
      ],
      "metadata": {
        "colab": {
          "base_uri": "https://localhost:8080/"
        },
        "id": "Yy6NHHIKNQ3I",
        "outputId": "cd1bd528-f8b7-49e3-9ce8-4fbf3a425a82"
      },
      "execution_count": null,
      "outputs": [
        {
          "output_type": "execute_result",
          "data": {
            "text/plain": [
              "618726                                pregnant watch weight\n",
              "619031                                        cesc fabregas\n",
              "619030                  10 youth walk backwards environment\n",
              "619029                   vacation schools colleges navratri\n",
              "619028    failure middleorder lanka oneoff thing vengsarkar\n",
              "                                ...                        \n",
              "625292                     3 held killing fruit stall owner\n",
              "625291                   draft law tightens surrogacy norms\n",
              "625290                                      blame brats car\n",
              "625310           ndeal dehyphenated india pakistan congress\n",
              "625534              sparkling opening 39room hotel baga goa\n",
              "Name: headline_text, Length: 6809, dtype: object"
            ]
          },
          "metadata": {},
          "execution_count": 23
        }
      ]
    },
    {
      "cell_type": "code",
      "source": [
        "#Counting commun words\n",
        "freq_comm = pd.Series(' '.join(headlines['headline_text']).split()).value_counts()[:10]\n",
        "freq_comm"
      ],
      "metadata": {
        "colab": {
          "base_uri": "https://localhost:8080/"
        },
        "id": "j0iaiLWPWfcl",
        "outputId": "181f2290-6364-41de-ee8e-a7ddbc4a5975"
      },
      "execution_count": null,
      "outputs": [
        {
          "output_type": "execute_result",
          "data": {
            "text/plain": [
              "india     194\n",
              "us        156\n",
              "delhi     143\n",
              "new       133\n",
              "terror    133\n",
              "govt      115\n",
              "cops      114\n",
              "rs        100\n",
              "may        98\n",
              "get        95\n",
              "dtype: int64"
            ]
          },
          "metadata": {},
          "execution_count": 24
        }
      ]
    },
    {
      "cell_type": "code",
      "source": [
        "#Removing commun words\n",
        "freq = list(freq_comm.index)\n",
        "headlines['headline_text'] = headlines['headline_text'].apply(lambda x : ' '.join(x for x in x.split() if x not in freq))\n",
        "headlines['headline_text']"
      ],
      "metadata": {
        "colab": {
          "base_uri": "https://localhost:8080/"
        },
        "id": "d_8hYTC-VyeO",
        "outputId": "2518063c-d150-45f0-f818-7a89c19d0c39"
      },
      "execution_count": null,
      "outputs": [
        {
          "output_type": "execute_result",
          "data": {
            "text/plain": [
              "618726                                pregnant watch weight\n",
              "619031                                        cesc fabregas\n",
              "619030                  10 youth walk backwards environment\n",
              "619029                   vacation schools colleges navratri\n",
              "619028    failure middleorder lanka oneoff thing vengsarkar\n",
              "                                ...                        \n",
              "625292                     3 held killing fruit stall owner\n",
              "625291                   draft law tightens surrogacy norms\n",
              "625290                                      blame brats car\n",
              "625310                 ndeal dehyphenated pakistan congress\n",
              "625534              sparkling opening 39room hotel baga goa\n",
              "Name: headline_text, Length: 6809, dtype: object"
            ]
          },
          "metadata": {},
          "execution_count": 25
        }
      ]
    },
    {
      "cell_type": "code",
      "source": [
        "#Counting rare words\n",
        "freq_rare = pd.Series(' '.join(headlines['headline_text']).split()).value_counts()[-50:]\n",
        "freq_rare.head()"
      ],
      "metadata": {
        "colab": {
          "base_uri": "https://localhost:8080/"
        },
        "id": "ftglI4EueBoT",
        "outputId": "c7d35736-619b-4473-bbe2-c53b262b7f4f"
      },
      "execution_count": null,
      "outputs": [
        {
          "output_type": "execute_result",
          "data": {
            "text/plain": [
              "kotla          1\n",
              "feroz          1\n",
              "chinnaswamy    1\n",
              "ascetics       1\n",
              "diary          1\n",
              "dtype: int64"
            ]
          },
          "metadata": {},
          "execution_count": 26
        }
      ]
    },
    {
      "cell_type": "code",
      "source": [
        "#Removing rare words\n",
        "freq = list(freq_rare.index)\n",
        "headlines['headline_text'] = headlines['headline_text'].apply(lambda x : ' '.join(x for x in x.split() if x not in freq_rare))\n",
        "headlines['headline_text']"
      ],
      "metadata": {
        "colab": {
          "base_uri": "https://localhost:8080/"
        },
        "id": "G_d9O0Lkeu-m",
        "outputId": "6de4e320-fb07-4f8b-a460-bf6754819608"
      },
      "execution_count": null,
      "outputs": [
        {
          "output_type": "execute_result",
          "data": {
            "text/plain": [
              "618726                                pregnant watch weight\n",
              "619031                                        cesc fabregas\n",
              "619030                  10 youth walk backwards environment\n",
              "619029                   vacation schools colleges navratri\n",
              "619028    failure middleorder lanka oneoff thing vengsarkar\n",
              "                                ...                        \n",
              "625292                     3 held killing fruit stall owner\n",
              "625291                   draft law tightens surrogacy norms\n",
              "625290                                      blame brats car\n",
              "625310                              ndeal pakistan congress\n",
              "625534              sparkling opening 39room hotel baga goa\n",
              "Name: headline_text, Length: 6809, dtype: object"
            ]
          },
          "metadata": {},
          "execution_count": 27
        }
      ]
    },
    {
      "cell_type": "code",
      "source": [
        "#Tokenization\n",
        "TextBlob(str(headlines['headline_text'])).words"
      ],
      "metadata": {
        "colab": {
          "base_uri": "https://localhost:8080/"
        },
        "id": "8Ma4xFpBh6lj",
        "outputId": "98ff6de4-023b-4157-8bbb-fa554695f76b"
      },
      "execution_count": null,
      "outputs": [
        {
          "output_type": "execute_result",
          "data": {
            "text/plain": [
              "WordList(['618726', 'pregnant', 'watch', 'weight', '619031', 'cesc', 'fabregas', '619030', '10', 'youth', 'walk', 'backwards', 'environment', '619029', 'vacation', 'schools', 'colleges', 'navratri', '619028', 'failure', 'middleorder', 'lanka', 'oneoff', 'thing', 'vengsarkar', '625292', '3', 'held', 'killing', 'fruit', 'stall', 'owner', '625291', 'draft', 'law', 'tightens', 'surrogacy', 'norms', '625290', 'blame', 'brats', 'car', '625310', 'ndeal', 'pakistan', 'congress', '625534', 'sparkling', 'opening', '39room', 'hotel', 'baga', 'goa', 'Name', 'headline_text', 'Length', '6809', 'dtype', 'object'])"
            ]
          },
          "metadata": {},
          "execution_count": 28
        }
      ]
    },
    {
      "cell_type": "code",
      "source": [
        "#Stemming\n",
        "ps = PorterStemmer()\n",
        "headlines['headline_text'].apply(lambda x : ' '.join(ps.stem(word) for word in x.split()))"
      ],
      "metadata": {
        "colab": {
          "base_uri": "https://localhost:8080/"
        },
        "id": "Loh7vknzkPQp",
        "outputId": "976a5a47-17ab-438a-b587-72f8e2395ff6"
      },
      "execution_count": null,
      "outputs": [
        {
          "output_type": "execute_result",
          "data": {
            "text/plain": [
              "618726                             pregnant watch weight\n",
              "619031                                      cesc fabrega\n",
              "619030                    10 youth walk backward environ\n",
              "619029                      vacat school colleg navratri\n",
              "619028    failur middleord lanka oneoff thing vengsarkar\n",
              "                               ...                      \n",
              "625292                     3 held kill fruit stall owner\n",
              "625291                  draft law tighten surrogaci norm\n",
              "625290                                    blame brat car\n",
              "625310                           ndeal pakistan congress\n",
              "625534                 sparkl open 39room hotel baga goa\n",
              "Name: headline_text, Length: 6809, dtype: object"
            ]
          },
          "metadata": {},
          "execution_count": 29
        }
      ]
    },
    {
      "cell_type": "markdown",
      "source": [
        "### **Performing sentiment analysis for each headline text**"
      ],
      "metadata": {
        "id": "LY-31_abnExh"
      }
    },
    {
      "cell_type": "code",
      "source": [
        "headlines['sentiment'] = headlines['headline_text'].apply(lambda x : TextBlob(x).sentiment[0])\n",
        "headlines[['headline_text','sentiment']]"
      ],
      "metadata": {
        "colab": {
          "base_uri": "https://localhost:8080/"
        },
        "id": "pv2UyMSHmtbx",
        "outputId": "a49b858e-341d-40ff-984b-0c53cea4517a"
      },
      "execution_count": null,
      "outputs": [
        {
          "output_type": "execute_result",
          "data": {
            "text/plain": [
              "                                            headline_text  sentiment\n",
              "618726                              pregnant watch weight   0.333333\n",
              "619031                                      cesc fabregas   0.000000\n",
              "619030                10 youth walk backwards environment   0.000000\n",
              "619029                 vacation schools colleges navratri   0.000000\n",
              "619028  failure middleorder lanka oneoff thing vengsarkar  -0.316667\n",
              "...                                                   ...        ...\n",
              "625292                   3 held killing fruit stall owner   0.000000\n",
              "625291                 draft law tightens surrogacy norms   0.000000\n",
              "625290                                    blame brats car   0.000000\n",
              "625310                            ndeal pakistan congress   0.000000\n",
              "625534            sparkling opening 39room hotel baga goa   0.000000\n",
              "\n",
              "[6809 rows x 2 columns]"
            ],
            "text/html": [
              "\n",
              "  <div id=\"df-33c90b8d-e263-4a1a-9206-273aefa05493\">\n",
              "    <div class=\"colab-df-container\">\n",
              "      <div>\n",
              "<style scoped>\n",
              "    .dataframe tbody tr th:only-of-type {\n",
              "        vertical-align: middle;\n",
              "    }\n",
              "\n",
              "    .dataframe tbody tr th {\n",
              "        vertical-align: top;\n",
              "    }\n",
              "\n",
              "    .dataframe thead th {\n",
              "        text-align: right;\n",
              "    }\n",
              "</style>\n",
              "<table border=\"1\" class=\"dataframe\">\n",
              "  <thead>\n",
              "    <tr style=\"text-align: right;\">\n",
              "      <th></th>\n",
              "      <th>headline_text</th>\n",
              "      <th>sentiment</th>\n",
              "    </tr>\n",
              "  </thead>\n",
              "  <tbody>\n",
              "    <tr>\n",
              "      <th>618726</th>\n",
              "      <td>pregnant watch weight</td>\n",
              "      <td>0.333333</td>\n",
              "    </tr>\n",
              "    <tr>\n",
              "      <th>619031</th>\n",
              "      <td>cesc fabregas</td>\n",
              "      <td>0.000000</td>\n",
              "    </tr>\n",
              "    <tr>\n",
              "      <th>619030</th>\n",
              "      <td>10 youth walk backwards environment</td>\n",
              "      <td>0.000000</td>\n",
              "    </tr>\n",
              "    <tr>\n",
              "      <th>619029</th>\n",
              "      <td>vacation schools colleges navratri</td>\n",
              "      <td>0.000000</td>\n",
              "    </tr>\n",
              "    <tr>\n",
              "      <th>619028</th>\n",
              "      <td>failure middleorder lanka oneoff thing vengsarkar</td>\n",
              "      <td>-0.316667</td>\n",
              "    </tr>\n",
              "    <tr>\n",
              "      <th>...</th>\n",
              "      <td>...</td>\n",
              "      <td>...</td>\n",
              "    </tr>\n",
              "    <tr>\n",
              "      <th>625292</th>\n",
              "      <td>3 held killing fruit stall owner</td>\n",
              "      <td>0.000000</td>\n",
              "    </tr>\n",
              "    <tr>\n",
              "      <th>625291</th>\n",
              "      <td>draft law tightens surrogacy norms</td>\n",
              "      <td>0.000000</td>\n",
              "    </tr>\n",
              "    <tr>\n",
              "      <th>625290</th>\n",
              "      <td>blame brats car</td>\n",
              "      <td>0.000000</td>\n",
              "    </tr>\n",
              "    <tr>\n",
              "      <th>625310</th>\n",
              "      <td>ndeal pakistan congress</td>\n",
              "      <td>0.000000</td>\n",
              "    </tr>\n",
              "    <tr>\n",
              "      <th>625534</th>\n",
              "      <td>sparkling opening 39room hotel baga goa</td>\n",
              "      <td>0.000000</td>\n",
              "    </tr>\n",
              "  </tbody>\n",
              "</table>\n",
              "<p>6809 rows × 2 columns</p>\n",
              "</div>\n",
              "      <button class=\"colab-df-convert\" onclick=\"convertToInteractive('df-33c90b8d-e263-4a1a-9206-273aefa05493')\"\n",
              "              title=\"Convert this dataframe to an interactive table.\"\n",
              "              style=\"display:none;\">\n",
              "        \n",
              "  <svg xmlns=\"http://www.w3.org/2000/svg\" height=\"24px\"viewBox=\"0 0 24 24\"\n",
              "       width=\"24px\">\n",
              "    <path d=\"M0 0h24v24H0V0z\" fill=\"none\"/>\n",
              "    <path d=\"M18.56 5.44l.94 2.06.94-2.06 2.06-.94-2.06-.94-.94-2.06-.94 2.06-2.06.94zm-11 1L8.5 8.5l.94-2.06 2.06-.94-2.06-.94L8.5 2.5l-.94 2.06-2.06.94zm10 10l.94 2.06.94-2.06 2.06-.94-2.06-.94-.94-2.06-.94 2.06-2.06.94z\"/><path d=\"M17.41 7.96l-1.37-1.37c-.4-.4-.92-.59-1.43-.59-.52 0-1.04.2-1.43.59L10.3 9.45l-7.72 7.72c-.78.78-.78 2.05 0 2.83L4 21.41c.39.39.9.59 1.41.59.51 0 1.02-.2 1.41-.59l7.78-7.78 2.81-2.81c.8-.78.8-2.07 0-2.86zM5.41 20L4 18.59l7.72-7.72 1.47 1.35L5.41 20z\"/>\n",
              "  </svg>\n",
              "      </button>\n",
              "      \n",
              "  <style>\n",
              "    .colab-df-container {\n",
              "      display:flex;\n",
              "      flex-wrap:wrap;\n",
              "      gap: 12px;\n",
              "    }\n",
              "\n",
              "    .colab-df-convert {\n",
              "      background-color: #E8F0FE;\n",
              "      border: none;\n",
              "      border-radius: 50%;\n",
              "      cursor: pointer;\n",
              "      display: none;\n",
              "      fill: #1967D2;\n",
              "      height: 32px;\n",
              "      padding: 0 0 0 0;\n",
              "      width: 32px;\n",
              "    }\n",
              "\n",
              "    .colab-df-convert:hover {\n",
              "      background-color: #E2EBFA;\n",
              "      box-shadow: 0px 1px 2px rgba(60, 64, 67, 0.3), 0px 1px 3px 1px rgba(60, 64, 67, 0.15);\n",
              "      fill: #174EA6;\n",
              "    }\n",
              "\n",
              "    [theme=dark] .colab-df-convert {\n",
              "      background-color: #3B4455;\n",
              "      fill: #D2E3FC;\n",
              "    }\n",
              "\n",
              "    [theme=dark] .colab-df-convert:hover {\n",
              "      background-color: #434B5C;\n",
              "      box-shadow: 0px 1px 3px 1px rgba(0, 0, 0, 0.15);\n",
              "      filter: drop-shadow(0px 1px 2px rgba(0, 0, 0, 0.3));\n",
              "      fill: #FFFFFF;\n",
              "    }\n",
              "  </style>\n",
              "\n",
              "      <script>\n",
              "        const buttonEl =\n",
              "          document.querySelector('#df-33c90b8d-e263-4a1a-9206-273aefa05493 button.colab-df-convert');\n",
              "        buttonEl.style.display =\n",
              "          google.colab.kernel.accessAllowed ? 'block' : 'none';\n",
              "\n",
              "        async function convertToInteractive(key) {\n",
              "          const element = document.querySelector('#df-33c90b8d-e263-4a1a-9206-273aefa05493');\n",
              "          const dataTable =\n",
              "            await google.colab.kernel.invokeFunction('convertToInteractive',\n",
              "                                                     [key], {});\n",
              "          if (!dataTable) return;\n",
              "\n",
              "          const docLinkHtml = 'Like what you see? Visit the ' +\n",
              "            '<a target=\"_blank\" href=https://colab.research.google.com/notebooks/data_table.ipynb>data table notebook</a>'\n",
              "            + ' to learn more about interactive tables.';\n",
              "          element.innerHTML = '';\n",
              "          dataTable['output_type'] = 'display_data';\n",
              "          await google.colab.output.renderOutput(dataTable, element);\n",
              "          const docLink = document.createElement('div');\n",
              "          docLink.innerHTML = docLinkHtml;\n",
              "          element.appendChild(docLink);\n",
              "        }\n",
              "      </script>\n",
              "    </div>\n",
              "  </div>\n",
              "  "
            ]
          },
          "metadata": {},
          "execution_count": 30
        }
      ]
    },
    {
      "cell_type": "code",
      "source": [
        "headlines = headlines[['Date','headline_text','sentiment']].reset_index()\n",
        "headlines = headlines.drop('index',axis=1)\n",
        "headlines.head()"
      ],
      "metadata": {
        "id": "eqEgYgadnggd",
        "colab": {
          "base_uri": "https://localhost:8080/"
        },
        "outputId": "bc6e56da-e2f3-4aa2-b860-b17b92ffa173"
      },
      "execution_count": null,
      "outputs": [
        {
          "output_type": "execute_result",
          "data": {
            "text/plain": [
              "        Date                                      headline_text  sentiment\n",
              "0 2008-09-15                              pregnant watch weight   0.333333\n",
              "1 2008-09-15                                      cesc fabregas   0.000000\n",
              "2 2008-09-15                10 youth walk backwards environment   0.000000\n",
              "3 2008-09-15                 vacation schools colleges navratri   0.000000\n",
              "4 2008-09-15  failure middleorder lanka oneoff thing vengsarkar  -0.316667"
            ],
            "text/html": [
              "\n",
              "  <div id=\"df-f0bd704c-af68-4d03-ace5-8f7a2d563d04\">\n",
              "    <div class=\"colab-df-container\">\n",
              "      <div>\n",
              "<style scoped>\n",
              "    .dataframe tbody tr th:only-of-type {\n",
              "        vertical-align: middle;\n",
              "    }\n",
              "\n",
              "    .dataframe tbody tr th {\n",
              "        vertical-align: top;\n",
              "    }\n",
              "\n",
              "    .dataframe thead th {\n",
              "        text-align: right;\n",
              "    }\n",
              "</style>\n",
              "<table border=\"1\" class=\"dataframe\">\n",
              "  <thead>\n",
              "    <tr style=\"text-align: right;\">\n",
              "      <th></th>\n",
              "      <th>Date</th>\n",
              "      <th>headline_text</th>\n",
              "      <th>sentiment</th>\n",
              "    </tr>\n",
              "  </thead>\n",
              "  <tbody>\n",
              "    <tr>\n",
              "      <th>0</th>\n",
              "      <td>2008-09-15</td>\n",
              "      <td>pregnant watch weight</td>\n",
              "      <td>0.333333</td>\n",
              "    </tr>\n",
              "    <tr>\n",
              "      <th>1</th>\n",
              "      <td>2008-09-15</td>\n",
              "      <td>cesc fabregas</td>\n",
              "      <td>0.000000</td>\n",
              "    </tr>\n",
              "    <tr>\n",
              "      <th>2</th>\n",
              "      <td>2008-09-15</td>\n",
              "      <td>10 youth walk backwards environment</td>\n",
              "      <td>0.000000</td>\n",
              "    </tr>\n",
              "    <tr>\n",
              "      <th>3</th>\n",
              "      <td>2008-09-15</td>\n",
              "      <td>vacation schools colleges navratri</td>\n",
              "      <td>0.000000</td>\n",
              "    </tr>\n",
              "    <tr>\n",
              "      <th>4</th>\n",
              "      <td>2008-09-15</td>\n",
              "      <td>failure middleorder lanka oneoff thing vengsarkar</td>\n",
              "      <td>-0.316667</td>\n",
              "    </tr>\n",
              "  </tbody>\n",
              "</table>\n",
              "</div>\n",
              "      <button class=\"colab-df-convert\" onclick=\"convertToInteractive('df-f0bd704c-af68-4d03-ace5-8f7a2d563d04')\"\n",
              "              title=\"Convert this dataframe to an interactive table.\"\n",
              "              style=\"display:none;\">\n",
              "        \n",
              "  <svg xmlns=\"http://www.w3.org/2000/svg\" height=\"24px\"viewBox=\"0 0 24 24\"\n",
              "       width=\"24px\">\n",
              "    <path d=\"M0 0h24v24H0V0z\" fill=\"none\"/>\n",
              "    <path d=\"M18.56 5.44l.94 2.06.94-2.06 2.06-.94-2.06-.94-.94-2.06-.94 2.06-2.06.94zm-11 1L8.5 8.5l.94-2.06 2.06-.94-2.06-.94L8.5 2.5l-.94 2.06-2.06.94zm10 10l.94 2.06.94-2.06 2.06-.94-2.06-.94-.94-2.06-.94 2.06-2.06.94z\"/><path d=\"M17.41 7.96l-1.37-1.37c-.4-.4-.92-.59-1.43-.59-.52 0-1.04.2-1.43.59L10.3 9.45l-7.72 7.72c-.78.78-.78 2.05 0 2.83L4 21.41c.39.39.9.59 1.41.59.51 0 1.02-.2 1.41-.59l7.78-7.78 2.81-2.81c.8-.78.8-2.07 0-2.86zM5.41 20L4 18.59l7.72-7.72 1.47 1.35L5.41 20z\"/>\n",
              "  </svg>\n",
              "      </button>\n",
              "      \n",
              "  <style>\n",
              "    .colab-df-container {\n",
              "      display:flex;\n",
              "      flex-wrap:wrap;\n",
              "      gap: 12px;\n",
              "    }\n",
              "\n",
              "    .colab-df-convert {\n",
              "      background-color: #E8F0FE;\n",
              "      border: none;\n",
              "      border-radius: 50%;\n",
              "      cursor: pointer;\n",
              "      display: none;\n",
              "      fill: #1967D2;\n",
              "      height: 32px;\n",
              "      padding: 0 0 0 0;\n",
              "      width: 32px;\n",
              "    }\n",
              "\n",
              "    .colab-df-convert:hover {\n",
              "      background-color: #E2EBFA;\n",
              "      box-shadow: 0px 1px 2px rgba(60, 64, 67, 0.3), 0px 1px 3px 1px rgba(60, 64, 67, 0.15);\n",
              "      fill: #174EA6;\n",
              "    }\n",
              "\n",
              "    [theme=dark] .colab-df-convert {\n",
              "      background-color: #3B4455;\n",
              "      fill: #D2E3FC;\n",
              "    }\n",
              "\n",
              "    [theme=dark] .colab-df-convert:hover {\n",
              "      background-color: #434B5C;\n",
              "      box-shadow: 0px 1px 3px 1px rgba(0, 0, 0, 0.15);\n",
              "      filter: drop-shadow(0px 1px 2px rgba(0, 0, 0, 0.3));\n",
              "      fill: #FFFFFF;\n",
              "    }\n",
              "  </style>\n",
              "\n",
              "      <script>\n",
              "        const buttonEl =\n",
              "          document.querySelector('#df-f0bd704c-af68-4d03-ace5-8f7a2d563d04 button.colab-df-convert');\n",
              "        buttonEl.style.display =\n",
              "          google.colab.kernel.accessAllowed ? 'block' : 'none';\n",
              "\n",
              "        async function convertToInteractive(key) {\n",
              "          const element = document.querySelector('#df-f0bd704c-af68-4d03-ace5-8f7a2d563d04');\n",
              "          const dataTable =\n",
              "            await google.colab.kernel.invokeFunction('convertToInteractive',\n",
              "                                                     [key], {});\n",
              "          if (!dataTable) return;\n",
              "\n",
              "          const docLinkHtml = 'Like what you see? Visit the ' +\n",
              "            '<a target=\"_blank\" href=https://colab.research.google.com/notebooks/data_table.ipynb>data table notebook</a>'\n",
              "            + ' to learn more about interactive tables.';\n",
              "          element.innerHTML = '';\n",
              "          dataTable['output_type'] = 'display_data';\n",
              "          await google.colab.output.renderOutput(dataTable, element);\n",
              "          const docLink = document.createElement('div');\n",
              "          docLink.innerHTML = docLinkHtml;\n",
              "          element.appendChild(docLink);\n",
              "        }\n",
              "      </script>\n",
              "    </div>\n",
              "  </div>\n",
              "  "
            ]
          },
          "metadata": {},
          "execution_count": 31
        }
      ]
    },
    {
      "cell_type": "markdown",
      "source": [
        "### **Analysing historical market prices dataset**"
      ],
      "metadata": {
        "id": "3YevJMvoru7N"
      }
    },
    {
      "cell_type": "code",
      "source": [
        "prices.shape"
      ],
      "metadata": {
        "colab": {
          "base_uri": "https://localhost:8080/"
        },
        "id": "NRj4MmzCso36",
        "outputId": "1752243a-9da9-4c4a-f692-d17f95488dc7"
      },
      "execution_count": null,
      "outputs": [
        {
          "output_type": "execute_result",
          "data": {
            "text/plain": [
              "(12, 7)"
            ]
          },
          "metadata": {},
          "execution_count": 32
        }
      ]
    },
    {
      "cell_type": "code",
      "source": [
        "prices.info()"
      ],
      "metadata": {
        "colab": {
          "base_uri": "https://localhost:8080/"
        },
        "id": "05xd2x7eRNz6",
        "outputId": "bbc5642e-f224-4e31-9241-7a099d03df3e"
      },
      "execution_count": null,
      "outputs": [
        {
          "output_type": "stream",
          "name": "stdout",
          "text": [
            "<class 'pandas.core.frame.DataFrame'>\n",
            "RangeIndex: 12 entries, 0 to 11\n",
            "Data columns (total 7 columns):\n",
            " #   Column     Non-Null Count  Dtype  \n",
            "---  ------     --------------  -----  \n",
            " 0   Date       12 non-null     object \n",
            " 1   Open       12 non-null     float64\n",
            " 2   High       12 non-null     float64\n",
            " 3   Low        12 non-null     float64\n",
            " 4   Close      12 non-null     float64\n",
            " 5   Adj Close  12 non-null     float64\n",
            " 6   Volume     12 non-null     int64  \n",
            "dtypes: float64(5), int64(1), object(1)\n",
            "memory usage: 800.0+ bytes\n"
          ]
        }
      ]
    },
    {
      "cell_type": "code",
      "source": [
        "prices.describe()"
      ],
      "metadata": {
        "colab": {
          "base_uri": "https://localhost:8080/"
        },
        "id": "2hohpfuyRu_h",
        "outputId": "76441433-cc6b-46ba-ebd1-8aa498066c4b"
      },
      "execution_count": null,
      "outputs": [
        {
          "output_type": "execute_result",
          "data": {
            "text/plain": [
              "              Open         High          Low        Close    Adj Close  \\\n",
              "count    12.000000    12.000000    12.000000    12.000000    12.000000   \n",
              "mean   2174.335815  2205.319153  2126.296682  2157.764160  2157.764160   \n",
              "std      67.194108    56.228775    72.702868    72.774697    72.774697   \n",
              "min    2033.689941  2094.310059  1983.729980  1983.729980  1983.729980   \n",
              "25%    2146.384949  2182.419983  2091.692566  2139.710083  2139.710083   \n",
              "50%    2169.905029  2205.665039  2146.265014  2179.444946  2179.444946   \n",
              "75%    2193.602478  2221.937500  2170.040039  2189.702575  2189.702575   \n",
              "max    2303.899902  2318.429932  2239.729980  2273.899902  2273.899902   \n",
              "\n",
              "             Volume  \n",
              "count  1.200000e+01  \n",
              "mean   2.617197e+09  \n",
              "std    7.686672e+08  \n",
              "min    1.818170e+09  \n",
              "25%    1.932190e+09  \n",
              "50%    2.537030e+09  \n",
              "75%    3.123415e+09  \n",
              "max    3.898230e+09  "
            ],
            "text/html": [
              "\n",
              "  <div id=\"df-c6909eca-b079-4278-8de1-9c86dfed0f4b\">\n",
              "    <div class=\"colab-df-container\">\n",
              "      <div>\n",
              "<style scoped>\n",
              "    .dataframe tbody tr th:only-of-type {\n",
              "        vertical-align: middle;\n",
              "    }\n",
              "\n",
              "    .dataframe tbody tr th {\n",
              "        vertical-align: top;\n",
              "    }\n",
              "\n",
              "    .dataframe thead th {\n",
              "        text-align: right;\n",
              "    }\n",
              "</style>\n",
              "<table border=\"1\" class=\"dataframe\">\n",
              "  <thead>\n",
              "    <tr style=\"text-align: right;\">\n",
              "      <th></th>\n",
              "      <th>Open</th>\n",
              "      <th>High</th>\n",
              "      <th>Low</th>\n",
              "      <th>Close</th>\n",
              "      <th>Adj Close</th>\n",
              "      <th>Volume</th>\n",
              "    </tr>\n",
              "  </thead>\n",
              "  <tbody>\n",
              "    <tr>\n",
              "      <th>count</th>\n",
              "      <td>12.000000</td>\n",
              "      <td>12.000000</td>\n",
              "      <td>12.000000</td>\n",
              "      <td>12.000000</td>\n",
              "      <td>12.000000</td>\n",
              "      <td>1.200000e+01</td>\n",
              "    </tr>\n",
              "    <tr>\n",
              "      <th>mean</th>\n",
              "      <td>2174.335815</td>\n",
              "      <td>2205.319153</td>\n",
              "      <td>2126.296682</td>\n",
              "      <td>2157.764160</td>\n",
              "      <td>2157.764160</td>\n",
              "      <td>2.617197e+09</td>\n",
              "    </tr>\n",
              "    <tr>\n",
              "      <th>std</th>\n",
              "      <td>67.194108</td>\n",
              "      <td>56.228775</td>\n",
              "      <td>72.702868</td>\n",
              "      <td>72.774697</td>\n",
              "      <td>72.774697</td>\n",
              "      <td>7.686672e+08</td>\n",
              "    </tr>\n",
              "    <tr>\n",
              "      <th>min</th>\n",
              "      <td>2033.689941</td>\n",
              "      <td>2094.310059</td>\n",
              "      <td>1983.729980</td>\n",
              "      <td>1983.729980</td>\n",
              "      <td>1983.729980</td>\n",
              "      <td>1.818170e+09</td>\n",
              "    </tr>\n",
              "    <tr>\n",
              "      <th>25%</th>\n",
              "      <td>2146.384949</td>\n",
              "      <td>2182.419983</td>\n",
              "      <td>2091.692566</td>\n",
              "      <td>2139.710083</td>\n",
              "      <td>2139.710083</td>\n",
              "      <td>1.932190e+09</td>\n",
              "    </tr>\n",
              "    <tr>\n",
              "      <th>50%</th>\n",
              "      <td>2169.905029</td>\n",
              "      <td>2205.665039</td>\n",
              "      <td>2146.265014</td>\n",
              "      <td>2179.444946</td>\n",
              "      <td>2179.444946</td>\n",
              "      <td>2.537030e+09</td>\n",
              "    </tr>\n",
              "    <tr>\n",
              "      <th>75%</th>\n",
              "      <td>2193.602478</td>\n",
              "      <td>2221.937500</td>\n",
              "      <td>2170.040039</td>\n",
              "      <td>2189.702575</td>\n",
              "      <td>2189.702575</td>\n",
              "      <td>3.123415e+09</td>\n",
              "    </tr>\n",
              "    <tr>\n",
              "      <th>max</th>\n",
              "      <td>2303.899902</td>\n",
              "      <td>2318.429932</td>\n",
              "      <td>2239.729980</td>\n",
              "      <td>2273.899902</td>\n",
              "      <td>2273.899902</td>\n",
              "      <td>3.898230e+09</td>\n",
              "    </tr>\n",
              "  </tbody>\n",
              "</table>\n",
              "</div>\n",
              "      <button class=\"colab-df-convert\" onclick=\"convertToInteractive('df-c6909eca-b079-4278-8de1-9c86dfed0f4b')\"\n",
              "              title=\"Convert this dataframe to an interactive table.\"\n",
              "              style=\"display:none;\">\n",
              "        \n",
              "  <svg xmlns=\"http://www.w3.org/2000/svg\" height=\"24px\"viewBox=\"0 0 24 24\"\n",
              "       width=\"24px\">\n",
              "    <path d=\"M0 0h24v24H0V0z\" fill=\"none\"/>\n",
              "    <path d=\"M18.56 5.44l.94 2.06.94-2.06 2.06-.94-2.06-.94-.94-2.06-.94 2.06-2.06.94zm-11 1L8.5 8.5l.94-2.06 2.06-.94-2.06-.94L8.5 2.5l-.94 2.06-2.06.94zm10 10l.94 2.06.94-2.06 2.06-.94-2.06-.94-.94-2.06-.94 2.06-2.06.94z\"/><path d=\"M17.41 7.96l-1.37-1.37c-.4-.4-.92-.59-1.43-.59-.52 0-1.04.2-1.43.59L10.3 9.45l-7.72 7.72c-.78.78-.78 2.05 0 2.83L4 21.41c.39.39.9.59 1.41.59.51 0 1.02-.2 1.41-.59l7.78-7.78 2.81-2.81c.8-.78.8-2.07 0-2.86zM5.41 20L4 18.59l7.72-7.72 1.47 1.35L5.41 20z\"/>\n",
              "  </svg>\n",
              "      </button>\n",
              "      \n",
              "  <style>\n",
              "    .colab-df-container {\n",
              "      display:flex;\n",
              "      flex-wrap:wrap;\n",
              "      gap: 12px;\n",
              "    }\n",
              "\n",
              "    .colab-df-convert {\n",
              "      background-color: #E8F0FE;\n",
              "      border: none;\n",
              "      border-radius: 50%;\n",
              "      cursor: pointer;\n",
              "      display: none;\n",
              "      fill: #1967D2;\n",
              "      height: 32px;\n",
              "      padding: 0 0 0 0;\n",
              "      width: 32px;\n",
              "    }\n",
              "\n",
              "    .colab-df-convert:hover {\n",
              "      background-color: #E2EBFA;\n",
              "      box-shadow: 0px 1px 2px rgba(60, 64, 67, 0.3), 0px 1px 3px 1px rgba(60, 64, 67, 0.15);\n",
              "      fill: #174EA6;\n",
              "    }\n",
              "\n",
              "    [theme=dark] .colab-df-convert {\n",
              "      background-color: #3B4455;\n",
              "      fill: #D2E3FC;\n",
              "    }\n",
              "\n",
              "    [theme=dark] .colab-df-convert:hover {\n",
              "      background-color: #434B5C;\n",
              "      box-shadow: 0px 1px 3px 1px rgba(0, 0, 0, 0.15);\n",
              "      filter: drop-shadow(0px 1px 2px rgba(0, 0, 0, 0.3));\n",
              "      fill: #FFFFFF;\n",
              "    }\n",
              "  </style>\n",
              "\n",
              "      <script>\n",
              "        const buttonEl =\n",
              "          document.querySelector('#df-c6909eca-b079-4278-8de1-9c86dfed0f4b button.colab-df-convert');\n",
              "        buttonEl.style.display =\n",
              "          google.colab.kernel.accessAllowed ? 'block' : 'none';\n",
              "\n",
              "        async function convertToInteractive(key) {\n",
              "          const element = document.querySelector('#df-c6909eca-b079-4278-8de1-9c86dfed0f4b');\n",
              "          const dataTable =\n",
              "            await google.colab.kernel.invokeFunction('convertToInteractive',\n",
              "                                                     [key], {});\n",
              "          if (!dataTable) return;\n",
              "\n",
              "          const docLinkHtml = 'Like what you see? Visit the ' +\n",
              "            '<a target=\"_blank\" href=https://colab.research.google.com/notebooks/data_table.ipynb>data table notebook</a>'\n",
              "            + ' to learn more about interactive tables.';\n",
              "          element.innerHTML = '';\n",
              "          dataTable['output_type'] = 'display_data';\n",
              "          await google.colab.output.renderOutput(dataTable, element);\n",
              "          const docLink = document.createElement('div');\n",
              "          docLink.innerHTML = docLinkHtml;\n",
              "          element.appendChild(docLink);\n",
              "        }\n",
              "      </script>\n",
              "    </div>\n",
              "  </div>\n",
              "  "
            ]
          },
          "metadata": {},
          "execution_count": 34
        }
      ]
    },
    {
      "cell_type": "code",
      "source": [
        "prices.isnull().sum()"
      ],
      "metadata": {
        "colab": {
          "base_uri": "https://localhost:8080/"
        },
        "id": "BO1yV61ERREq",
        "outputId": "68c933f2-e180-425b-c77b-94613ee0cb09"
      },
      "execution_count": null,
      "outputs": [
        {
          "output_type": "execute_result",
          "data": {
            "text/plain": [
              "Date         0\n",
              "Open         0\n",
              "High         0\n",
              "Low          0\n",
              "Close        0\n",
              "Adj Close    0\n",
              "Volume       0\n",
              "dtype: int64"
            ]
          },
          "metadata": {},
          "execution_count": 35
        }
      ]
    },
    {
      "cell_type": "code",
      "source": [
        "prices.duplicated().sum()"
      ],
      "metadata": {
        "colab": {
          "base_uri": "https://localhost:8080/"
        },
        "id": "CisuMB8BRWot",
        "outputId": "fe1c7e80-e26e-4d70-f174-99d500a31f04"
      },
      "execution_count": null,
      "outputs": [
        {
          "output_type": "execute_result",
          "data": {
            "text/plain": [
              "0"
            ]
          },
          "metadata": {},
          "execution_count": 36
        }
      ]
    },
    {
      "cell_type": "code",
      "source": [
        "prices.corr()"
      ],
      "metadata": {
        "colab": {
          "base_uri": "https://localhost:8080/"
        },
        "id": "WcxYaB5mRyxb",
        "outputId": "9219d150-d7ad-4f4d-c547-c16e626623c2"
      },
      "execution_count": null,
      "outputs": [
        {
          "output_type": "execute_result",
          "data": {
            "text/plain": [
              "               Open      High       Low     Close  Adj Close    Volume\n",
              "Open       1.000000  0.938471  0.777753  0.515972   0.515972  0.154347\n",
              "High       0.938471  1.000000  0.856441  0.735755   0.735755  0.283797\n",
              "Low        0.777753  0.856441  1.000000  0.843538   0.843538 -0.055455\n",
              "Close      0.515972  0.735755  0.843538  1.000000   1.000000  0.218632\n",
              "Adj Close  0.515972  0.735755  0.843538  1.000000   1.000000  0.218632\n",
              "Volume     0.154347  0.283797 -0.055455  0.218632   0.218632  1.000000"
            ],
            "text/html": [
              "\n",
              "  <div id=\"df-061dbeb1-799f-4122-aeaf-0def76548730\">\n",
              "    <div class=\"colab-df-container\">\n",
              "      <div>\n",
              "<style scoped>\n",
              "    .dataframe tbody tr th:only-of-type {\n",
              "        vertical-align: middle;\n",
              "    }\n",
              "\n",
              "    .dataframe tbody tr th {\n",
              "        vertical-align: top;\n",
              "    }\n",
              "\n",
              "    .dataframe thead th {\n",
              "        text-align: right;\n",
              "    }\n",
              "</style>\n",
              "<table border=\"1\" class=\"dataframe\">\n",
              "  <thead>\n",
              "    <tr style=\"text-align: right;\">\n",
              "      <th></th>\n",
              "      <th>Open</th>\n",
              "      <th>High</th>\n",
              "      <th>Low</th>\n",
              "      <th>Close</th>\n",
              "      <th>Adj Close</th>\n",
              "      <th>Volume</th>\n",
              "    </tr>\n",
              "  </thead>\n",
              "  <tbody>\n",
              "    <tr>\n",
              "      <th>Open</th>\n",
              "      <td>1.000000</td>\n",
              "      <td>0.938471</td>\n",
              "      <td>0.777753</td>\n",
              "      <td>0.515972</td>\n",
              "      <td>0.515972</td>\n",
              "      <td>0.154347</td>\n",
              "    </tr>\n",
              "    <tr>\n",
              "      <th>High</th>\n",
              "      <td>0.938471</td>\n",
              "      <td>1.000000</td>\n",
              "      <td>0.856441</td>\n",
              "      <td>0.735755</td>\n",
              "      <td>0.735755</td>\n",
              "      <td>0.283797</td>\n",
              "    </tr>\n",
              "    <tr>\n",
              "      <th>Low</th>\n",
              "      <td>0.777753</td>\n",
              "      <td>0.856441</td>\n",
              "      <td>1.000000</td>\n",
              "      <td>0.843538</td>\n",
              "      <td>0.843538</td>\n",
              "      <td>-0.055455</td>\n",
              "    </tr>\n",
              "    <tr>\n",
              "      <th>Close</th>\n",
              "      <td>0.515972</td>\n",
              "      <td>0.735755</td>\n",
              "      <td>0.843538</td>\n",
              "      <td>1.000000</td>\n",
              "      <td>1.000000</td>\n",
              "      <td>0.218632</td>\n",
              "    </tr>\n",
              "    <tr>\n",
              "      <th>Adj Close</th>\n",
              "      <td>0.515972</td>\n",
              "      <td>0.735755</td>\n",
              "      <td>0.843538</td>\n",
              "      <td>1.000000</td>\n",
              "      <td>1.000000</td>\n",
              "      <td>0.218632</td>\n",
              "    </tr>\n",
              "    <tr>\n",
              "      <th>Volume</th>\n",
              "      <td>0.154347</td>\n",
              "      <td>0.283797</td>\n",
              "      <td>-0.055455</td>\n",
              "      <td>0.218632</td>\n",
              "      <td>0.218632</td>\n",
              "      <td>1.000000</td>\n",
              "    </tr>\n",
              "  </tbody>\n",
              "</table>\n",
              "</div>\n",
              "      <button class=\"colab-df-convert\" onclick=\"convertToInteractive('df-061dbeb1-799f-4122-aeaf-0def76548730')\"\n",
              "              title=\"Convert this dataframe to an interactive table.\"\n",
              "              style=\"display:none;\">\n",
              "        \n",
              "  <svg xmlns=\"http://www.w3.org/2000/svg\" height=\"24px\"viewBox=\"0 0 24 24\"\n",
              "       width=\"24px\">\n",
              "    <path d=\"M0 0h24v24H0V0z\" fill=\"none\"/>\n",
              "    <path d=\"M18.56 5.44l.94 2.06.94-2.06 2.06-.94-2.06-.94-.94-2.06-.94 2.06-2.06.94zm-11 1L8.5 8.5l.94-2.06 2.06-.94-2.06-.94L8.5 2.5l-.94 2.06-2.06.94zm10 10l.94 2.06.94-2.06 2.06-.94-2.06-.94-.94-2.06-.94 2.06-2.06.94z\"/><path d=\"M17.41 7.96l-1.37-1.37c-.4-.4-.92-.59-1.43-.59-.52 0-1.04.2-1.43.59L10.3 9.45l-7.72 7.72c-.78.78-.78 2.05 0 2.83L4 21.41c.39.39.9.59 1.41.59.51 0 1.02-.2 1.41-.59l7.78-7.78 2.81-2.81c.8-.78.8-2.07 0-2.86zM5.41 20L4 18.59l7.72-7.72 1.47 1.35L5.41 20z\"/>\n",
              "  </svg>\n",
              "      </button>\n",
              "      \n",
              "  <style>\n",
              "    .colab-df-container {\n",
              "      display:flex;\n",
              "      flex-wrap:wrap;\n",
              "      gap: 12px;\n",
              "    }\n",
              "\n",
              "    .colab-df-convert {\n",
              "      background-color: #E8F0FE;\n",
              "      border: none;\n",
              "      border-radius: 50%;\n",
              "      cursor: pointer;\n",
              "      display: none;\n",
              "      fill: #1967D2;\n",
              "      height: 32px;\n",
              "      padding: 0 0 0 0;\n",
              "      width: 32px;\n",
              "    }\n",
              "\n",
              "    .colab-df-convert:hover {\n",
              "      background-color: #E2EBFA;\n",
              "      box-shadow: 0px 1px 2px rgba(60, 64, 67, 0.3), 0px 1px 3px 1px rgba(60, 64, 67, 0.15);\n",
              "      fill: #174EA6;\n",
              "    }\n",
              "\n",
              "    [theme=dark] .colab-df-convert {\n",
              "      background-color: #3B4455;\n",
              "      fill: #D2E3FC;\n",
              "    }\n",
              "\n",
              "    [theme=dark] .colab-df-convert:hover {\n",
              "      background-color: #434B5C;\n",
              "      box-shadow: 0px 1px 3px 1px rgba(0, 0, 0, 0.15);\n",
              "      filter: drop-shadow(0px 1px 2px rgba(0, 0, 0, 0.3));\n",
              "      fill: #FFFFFF;\n",
              "    }\n",
              "  </style>\n",
              "\n",
              "      <script>\n",
              "        const buttonEl =\n",
              "          document.querySelector('#df-061dbeb1-799f-4122-aeaf-0def76548730 button.colab-df-convert');\n",
              "        buttonEl.style.display =\n",
              "          google.colab.kernel.accessAllowed ? 'block' : 'none';\n",
              "\n",
              "        async function convertToInteractive(key) {\n",
              "          const element = document.querySelector('#df-061dbeb1-799f-4122-aeaf-0def76548730');\n",
              "          const dataTable =\n",
              "            await google.colab.kernel.invokeFunction('convertToInteractive',\n",
              "                                                     [key], {});\n",
              "          if (!dataTable) return;\n",
              "\n",
              "          const docLinkHtml = 'Like what you see? Visit the ' +\n",
              "            '<a target=\"_blank\" href=https://colab.research.google.com/notebooks/data_table.ipynb>data table notebook</a>'\n",
              "            + ' to learn more about interactive tables.';\n",
              "          element.innerHTML = '';\n",
              "          dataTable['output_type'] = 'display_data';\n",
              "          await google.colab.output.renderOutput(dataTable, element);\n",
              "          const docLink = document.createElement('div');\n",
              "          docLink.innerHTML = docLinkHtml;\n",
              "          element.appendChild(docLink);\n",
              "        }\n",
              "      </script>\n",
              "    </div>\n",
              "  </div>\n",
              "  "
            ]
          },
          "metadata": {},
          "execution_count": 37
        }
      ]
    },
    {
      "cell_type": "code",
      "source": [
        "prices['Date'] = pd.to_datetime(prices['Date'],format='%Y-%m-%d')\n",
        "prices.head()"
      ],
      "metadata": {
        "colab": {
          "base_uri": "https://localhost:8080/"
        },
        "id": "A6Ue3gfrCAnl",
        "outputId": "de76d255-d22f-48e2-fad5-ef0999c25a22"
      },
      "execution_count": null,
      "outputs": [
        {
          "output_type": "execute_result",
          "data": {
            "text/plain": [
              "        Date         Open         High          Low        Close    Adj Close  \\\n",
              "0 2008-09-15  2202.280029  2244.879883  2179.909912  2179.909912  2179.909912   \n",
              "1 2008-09-16  2149.649902  2214.290039  2145.169922  2207.899902  2207.899902   \n",
              "2 2008-09-17  2177.580078  2183.250000  2098.850098  2098.850098  2098.850098   \n",
              "3 2008-09-18  2137.419922  2201.709961  2070.219971  2199.100098  2199.100098   \n",
              "4 2008-09-19  2303.899902  2318.429932  2239.729980  2273.899902  2273.899902   \n",
              "\n",
              "       Volume  \n",
              "0  2697820000  \n",
              "1  3187630000  \n",
              "2  3102010000  \n",
              "3  3867290000  \n",
              "4  3898230000  "
            ],
            "text/html": [
              "\n",
              "  <div id=\"df-b0f79431-3c06-4a69-b511-b678538ce46e\">\n",
              "    <div class=\"colab-df-container\">\n",
              "      <div>\n",
              "<style scoped>\n",
              "    .dataframe tbody tr th:only-of-type {\n",
              "        vertical-align: middle;\n",
              "    }\n",
              "\n",
              "    .dataframe tbody tr th {\n",
              "        vertical-align: top;\n",
              "    }\n",
              "\n",
              "    .dataframe thead th {\n",
              "        text-align: right;\n",
              "    }\n",
              "</style>\n",
              "<table border=\"1\" class=\"dataframe\">\n",
              "  <thead>\n",
              "    <tr style=\"text-align: right;\">\n",
              "      <th></th>\n",
              "      <th>Date</th>\n",
              "      <th>Open</th>\n",
              "      <th>High</th>\n",
              "      <th>Low</th>\n",
              "      <th>Close</th>\n",
              "      <th>Adj Close</th>\n",
              "      <th>Volume</th>\n",
              "    </tr>\n",
              "  </thead>\n",
              "  <tbody>\n",
              "    <tr>\n",
              "      <th>0</th>\n",
              "      <td>2008-09-15</td>\n",
              "      <td>2202.280029</td>\n",
              "      <td>2244.879883</td>\n",
              "      <td>2179.909912</td>\n",
              "      <td>2179.909912</td>\n",
              "      <td>2179.909912</td>\n",
              "      <td>2697820000</td>\n",
              "    </tr>\n",
              "    <tr>\n",
              "      <th>1</th>\n",
              "      <td>2008-09-16</td>\n",
              "      <td>2149.649902</td>\n",
              "      <td>2214.290039</td>\n",
              "      <td>2145.169922</td>\n",
              "      <td>2207.899902</td>\n",
              "      <td>2207.899902</td>\n",
              "      <td>3187630000</td>\n",
              "    </tr>\n",
              "    <tr>\n",
              "      <th>2</th>\n",
              "      <td>2008-09-17</td>\n",
              "      <td>2177.580078</td>\n",
              "      <td>2183.250000</td>\n",
              "      <td>2098.850098</td>\n",
              "      <td>2098.850098</td>\n",
              "      <td>2098.850098</td>\n",
              "      <td>3102010000</td>\n",
              "    </tr>\n",
              "    <tr>\n",
              "      <th>3</th>\n",
              "      <td>2008-09-18</td>\n",
              "      <td>2137.419922</td>\n",
              "      <td>2201.709961</td>\n",
              "      <td>2070.219971</td>\n",
              "      <td>2199.100098</td>\n",
              "      <td>2199.100098</td>\n",
              "      <td>3867290000</td>\n",
              "    </tr>\n",
              "    <tr>\n",
              "      <th>4</th>\n",
              "      <td>2008-09-19</td>\n",
              "      <td>2303.899902</td>\n",
              "      <td>2318.429932</td>\n",
              "      <td>2239.729980</td>\n",
              "      <td>2273.899902</td>\n",
              "      <td>2273.899902</td>\n",
              "      <td>3898230000</td>\n",
              "    </tr>\n",
              "  </tbody>\n",
              "</table>\n",
              "</div>\n",
              "      <button class=\"colab-df-convert\" onclick=\"convertToInteractive('df-b0f79431-3c06-4a69-b511-b678538ce46e')\"\n",
              "              title=\"Convert this dataframe to an interactive table.\"\n",
              "              style=\"display:none;\">\n",
              "        \n",
              "  <svg xmlns=\"http://www.w3.org/2000/svg\" height=\"24px\"viewBox=\"0 0 24 24\"\n",
              "       width=\"24px\">\n",
              "    <path d=\"M0 0h24v24H0V0z\" fill=\"none\"/>\n",
              "    <path d=\"M18.56 5.44l.94 2.06.94-2.06 2.06-.94-2.06-.94-.94-2.06-.94 2.06-2.06.94zm-11 1L8.5 8.5l.94-2.06 2.06-.94-2.06-.94L8.5 2.5l-.94 2.06-2.06.94zm10 10l.94 2.06.94-2.06 2.06-.94-2.06-.94-.94-2.06-.94 2.06-2.06.94z\"/><path d=\"M17.41 7.96l-1.37-1.37c-.4-.4-.92-.59-1.43-.59-.52 0-1.04.2-1.43.59L10.3 9.45l-7.72 7.72c-.78.78-.78 2.05 0 2.83L4 21.41c.39.39.9.59 1.41.59.51 0 1.02-.2 1.41-.59l7.78-7.78 2.81-2.81c.8-.78.8-2.07 0-2.86zM5.41 20L4 18.59l7.72-7.72 1.47 1.35L5.41 20z\"/>\n",
              "  </svg>\n",
              "      </button>\n",
              "      \n",
              "  <style>\n",
              "    .colab-df-container {\n",
              "      display:flex;\n",
              "      flex-wrap:wrap;\n",
              "      gap: 12px;\n",
              "    }\n",
              "\n",
              "    .colab-df-convert {\n",
              "      background-color: #E8F0FE;\n",
              "      border: none;\n",
              "      border-radius: 50%;\n",
              "      cursor: pointer;\n",
              "      display: none;\n",
              "      fill: #1967D2;\n",
              "      height: 32px;\n",
              "      padding: 0 0 0 0;\n",
              "      width: 32px;\n",
              "    }\n",
              "\n",
              "    .colab-df-convert:hover {\n",
              "      background-color: #E2EBFA;\n",
              "      box-shadow: 0px 1px 2px rgba(60, 64, 67, 0.3), 0px 1px 3px 1px rgba(60, 64, 67, 0.15);\n",
              "      fill: #174EA6;\n",
              "    }\n",
              "\n",
              "    [theme=dark] .colab-df-convert {\n",
              "      background-color: #3B4455;\n",
              "      fill: #D2E3FC;\n",
              "    }\n",
              "\n",
              "    [theme=dark] .colab-df-convert:hover {\n",
              "      background-color: #434B5C;\n",
              "      box-shadow: 0px 1px 3px 1px rgba(0, 0, 0, 0.15);\n",
              "      filter: drop-shadow(0px 1px 2px rgba(0, 0, 0, 0.3));\n",
              "      fill: #FFFFFF;\n",
              "    }\n",
              "  </style>\n",
              "\n",
              "      <script>\n",
              "        const buttonEl =\n",
              "          document.querySelector('#df-b0f79431-3c06-4a69-b511-b678538ce46e button.colab-df-convert');\n",
              "        buttonEl.style.display =\n",
              "          google.colab.kernel.accessAllowed ? 'block' : 'none';\n",
              "\n",
              "        async function convertToInteractive(key) {\n",
              "          const element = document.querySelector('#df-b0f79431-3c06-4a69-b511-b678538ce46e');\n",
              "          const dataTable =\n",
              "            await google.colab.kernel.invokeFunction('convertToInteractive',\n",
              "                                                     [key], {});\n",
              "          if (!dataTable) return;\n",
              "\n",
              "          const docLinkHtml = 'Like what you see? Visit the ' +\n",
              "            '<a target=\"_blank\" href=https://colab.research.google.com/notebooks/data_table.ipynb>data table notebook</a>'\n",
              "            + ' to learn more about interactive tables.';\n",
              "          element.innerHTML = '';\n",
              "          dataTable['output_type'] = 'display_data';\n",
              "          await google.colab.output.renderOutput(dataTable, element);\n",
              "          const docLink = document.createElement('div');\n",
              "          docLink.innerHTML = docLinkHtml;\n",
              "          element.appendChild(docLink);\n",
              "        }\n",
              "      </script>\n",
              "    </div>\n",
              "  </div>\n",
              "  "
            ]
          },
          "metadata": {},
          "execution_count": 38
        }
      ]
    },
    {
      "cell_type": "code",
      "source": [
        "prices[prices['Close'] != prices['Adj Close']]"
      ],
      "metadata": {
        "id": "R7Hq2ixBc3Qx",
        "colab": {
          "base_uri": "https://localhost:8080/"
        },
        "outputId": "e993c2c7-42db-4863-b901-e3d33fd13852"
      },
      "execution_count": null,
      "outputs": [
        {
          "output_type": "execute_result",
          "data": {
            "text/plain": [
              "Empty DataFrame\n",
              "Columns: [Date, Open, High, Low, Close, Adj Close, Volume]\n",
              "Index: []"
            ],
            "text/html": [
              "\n",
              "  <div id=\"df-40a3fe39-64b5-49c5-a287-7dc320a00fe6\">\n",
              "    <div class=\"colab-df-container\">\n",
              "      <div>\n",
              "<style scoped>\n",
              "    .dataframe tbody tr th:only-of-type {\n",
              "        vertical-align: middle;\n",
              "    }\n",
              "\n",
              "    .dataframe tbody tr th {\n",
              "        vertical-align: top;\n",
              "    }\n",
              "\n",
              "    .dataframe thead th {\n",
              "        text-align: right;\n",
              "    }\n",
              "</style>\n",
              "<table border=\"1\" class=\"dataframe\">\n",
              "  <thead>\n",
              "    <tr style=\"text-align: right;\">\n",
              "      <th></th>\n",
              "      <th>Date</th>\n",
              "      <th>Open</th>\n",
              "      <th>High</th>\n",
              "      <th>Low</th>\n",
              "      <th>Close</th>\n",
              "      <th>Adj Close</th>\n",
              "      <th>Volume</th>\n",
              "    </tr>\n",
              "  </thead>\n",
              "  <tbody>\n",
              "  </tbody>\n",
              "</table>\n",
              "</div>\n",
              "      <button class=\"colab-df-convert\" onclick=\"convertToInteractive('df-40a3fe39-64b5-49c5-a287-7dc320a00fe6')\"\n",
              "              title=\"Convert this dataframe to an interactive table.\"\n",
              "              style=\"display:none;\">\n",
              "        \n",
              "  <svg xmlns=\"http://www.w3.org/2000/svg\" height=\"24px\"viewBox=\"0 0 24 24\"\n",
              "       width=\"24px\">\n",
              "    <path d=\"M0 0h24v24H0V0z\" fill=\"none\"/>\n",
              "    <path d=\"M18.56 5.44l.94 2.06.94-2.06 2.06-.94-2.06-.94-.94-2.06-.94 2.06-2.06.94zm-11 1L8.5 8.5l.94-2.06 2.06-.94-2.06-.94L8.5 2.5l-.94 2.06-2.06.94zm10 10l.94 2.06.94-2.06 2.06-.94-2.06-.94-.94-2.06-.94 2.06-2.06.94z\"/><path d=\"M17.41 7.96l-1.37-1.37c-.4-.4-.92-.59-1.43-.59-.52 0-1.04.2-1.43.59L10.3 9.45l-7.72 7.72c-.78.78-.78 2.05 0 2.83L4 21.41c.39.39.9.59 1.41.59.51 0 1.02-.2 1.41-.59l7.78-7.78 2.81-2.81c.8-.78.8-2.07 0-2.86zM5.41 20L4 18.59l7.72-7.72 1.47 1.35L5.41 20z\"/>\n",
              "  </svg>\n",
              "      </button>\n",
              "      \n",
              "  <style>\n",
              "    .colab-df-container {\n",
              "      display:flex;\n",
              "      flex-wrap:wrap;\n",
              "      gap: 12px;\n",
              "    }\n",
              "\n",
              "    .colab-df-convert {\n",
              "      background-color: #E8F0FE;\n",
              "      border: none;\n",
              "      border-radius: 50%;\n",
              "      cursor: pointer;\n",
              "      display: none;\n",
              "      fill: #1967D2;\n",
              "      height: 32px;\n",
              "      padding: 0 0 0 0;\n",
              "      width: 32px;\n",
              "    }\n",
              "\n",
              "    .colab-df-convert:hover {\n",
              "      background-color: #E2EBFA;\n",
              "      box-shadow: 0px 1px 2px rgba(60, 64, 67, 0.3), 0px 1px 3px 1px rgba(60, 64, 67, 0.15);\n",
              "      fill: #174EA6;\n",
              "    }\n",
              "\n",
              "    [theme=dark] .colab-df-convert {\n",
              "      background-color: #3B4455;\n",
              "      fill: #D2E3FC;\n",
              "    }\n",
              "\n",
              "    [theme=dark] .colab-df-convert:hover {\n",
              "      background-color: #434B5C;\n",
              "      box-shadow: 0px 1px 3px 1px rgba(0, 0, 0, 0.15);\n",
              "      filter: drop-shadow(0px 1px 2px rgba(0, 0, 0, 0.3));\n",
              "      fill: #FFFFFF;\n",
              "    }\n",
              "  </style>\n",
              "\n",
              "      <script>\n",
              "        const buttonEl =\n",
              "          document.querySelector('#df-40a3fe39-64b5-49c5-a287-7dc320a00fe6 button.colab-df-convert');\n",
              "        buttonEl.style.display =\n",
              "          google.colab.kernel.accessAllowed ? 'block' : 'none';\n",
              "\n",
              "        async function convertToInteractive(key) {\n",
              "          const element = document.querySelector('#df-40a3fe39-64b5-49c5-a287-7dc320a00fe6');\n",
              "          const dataTable =\n",
              "            await google.colab.kernel.invokeFunction('convertToInteractive',\n",
              "                                                     [key], {});\n",
              "          if (!dataTable) return;\n",
              "\n",
              "          const docLinkHtml = 'Like what you see? Visit the ' +\n",
              "            '<a target=\"_blank\" href=https://colab.research.google.com/notebooks/data_table.ipynb>data table notebook</a>'\n",
              "            + ' to learn more about interactive tables.';\n",
              "          element.innerHTML = '';\n",
              "          dataTable['output_type'] = 'display_data';\n",
              "          await google.colab.output.renderOutput(dataTable, element);\n",
              "          const docLink = document.createElement('div');\n",
              "          docLink.innerHTML = docLinkHtml;\n",
              "          element.appendChild(docLink);\n",
              "        }\n",
              "      </script>\n",
              "    </div>\n",
              "  </div>\n",
              "  "
            ]
          },
          "metadata": {},
          "execution_count": 39
        }
      ]
    },
    {
      "cell_type": "code",
      "source": [
        "prices = prices.drop('Adj Close',axis=1)"
      ],
      "metadata": {
        "id": "r06qC-vGSR7N"
      },
      "execution_count": null,
      "outputs": []
    },
    {
      "cell_type": "code",
      "source": [
        "sns.set_theme()\n",
        "prices[['High','Low','Open','Close']].plot()"
      ],
      "metadata": {
        "colab": {
          "base_uri": "https://localhost:8080/"
        },
        "id": "vgBvzz2xRqh7",
        "outputId": "6e2a2042-ebbe-4ba5-b1f7-177f1cce0068"
      },
      "execution_count": null,
      "outputs": [
        {
          "output_type": "execute_result",
          "data": {
            "text/plain": [
              "<matplotlib.axes._subplots.AxesSubplot at 0x7f2aa05dbcd0>"
            ]
          },
          "metadata": {},
          "execution_count": 41
        },
        {
          "output_type": "display_data",
          "data": {
            "text/plain": [
              "<Figure size 432x288 with 1 Axes>"
            ],
            "image/png": "[encoded data removed]"
          },
          "metadata": {}
        }
      ]
    },
    {
      "cell_type": "code",
      "source": [
        "prices['Volume'].plot()"
      ],
      "metadata": {
        "colab": {
          "base_uri": "https://localhost:8080/"
        },
        "id": "QgvWiM_WS1vN",
        "outputId": "9d95a801-7c50-4974-e5b3-39a49df4acdb"
      },
      "execution_count": null,
      "outputs": [
        {
          "output_type": "execute_result",
          "data": {
            "text/plain": [
              "<matplotlib.axes._subplots.AxesSubplot at 0x7f2aa05a8650>"
            ]
          },
          "metadata": {},
          "execution_count": 42
        },
        {
          "output_type": "display_data",
          "data": {
            "text/plain": [
              "<Figure size 432x288 with 1 Axes>"
            ],
            "image/png": "[encoded data removed]"
          },
          "metadata": {}
        }
      ]
    },
    {
      "cell_type": "markdown",
      "source": [
        "### **Merging historical market prices and news headline datasets**"
      ],
      "metadata": {
        "id": "X9BJVrXN_bpU"
      }
    },
    {
      "cell_type": "code",
      "source": [
        "Data = pd.merge(headlines,prices,on='Date',how='right')\n",
        "Data.head()"
      ],
      "metadata": {
        "id": "rhp-BYn7s1IU",
        "colab": {
          "base_uri": "https://localhost:8080/"
        },
        "outputId": "1524eb33-3ad8-44c2-87e1-89e9a1e071ba"
      },
      "execution_count": null,
      "outputs": [
        {
          "output_type": "execute_result",
          "data": {
            "text/plain": [
              "        Date                                      headline_text  sentiment  \\\n",
              "0 2008-09-15                              pregnant watch weight   0.333333   \n",
              "1 2008-09-15                                      cesc fabregas   0.000000   \n",
              "2 2008-09-15                10 youth walk backwards environment   0.000000   \n",
              "3 2008-09-15                 vacation schools colleges navratri   0.000000   \n",
              "4 2008-09-15  failure middleorder lanka oneoff thing vengsarkar  -0.316667   \n",
              "\n",
              "          Open         High          Low        Close      Volume  \n",
              "0  2202.280029  2244.879883  2179.909912  2179.909912  2697820000  \n",
              "1  2202.280029  2244.879883  2179.909912  2179.909912  2697820000  \n",
              "2  2202.280029  2244.879883  2179.909912  2179.909912  2697820000  \n",
              "3  2202.280029  2244.879883  2179.909912  2179.909912  2697820000  \n",
              "4  2202.280029  2244.879883  2179.909912  2179.909912  2697820000  "
            ],
            "text/html": [
              "\n",
              "  <div id=\"df-84c6c340-1033-4953-9855-1ef1e9ad2fbd\">\n",
              "    <div class=\"colab-df-container\">\n",
              "      <div>\n",
              "<style scoped>\n",
              "    .dataframe tbody tr th:only-of-type {\n",
              "        vertical-align: middle;\n",
              "    }\n",
              "\n",
              "    .dataframe tbody tr th {\n",
              "        vertical-align: top;\n",
              "    }\n",
              "\n",
              "    .dataframe thead th {\n",
              "        text-align: right;\n",
              "    }\n",
              "</style>\n",
              "<table border=\"1\" class=\"dataframe\">\n",
              "  <thead>\n",
              "    <tr style=\"text-align: right;\">\n",
              "      <th></th>\n",
              "      <th>Date</th>\n",
              "      <th>headline_text</th>\n",
              "      <th>sentiment</th>\n",
              "      <th>Open</th>\n",
              "      <th>High</th>\n",
              "      <th>Low</th>\n",
              "      <th>Close</th>\n",
              "      <th>Volume</th>\n",
              "    </tr>\n",
              "  </thead>\n",
              "  <tbody>\n",
              "    <tr>\n",
              "      <th>0</th>\n",
              "      <td>2008-09-15</td>\n",
              "      <td>pregnant watch weight</td>\n",
              "      <td>0.333333</td>\n",
              "      <td>2202.280029</td>\n",
              "      <td>2244.879883</td>\n",
              "      <td>2179.909912</td>\n",
              "      <td>2179.909912</td>\n",
              "      <td>2697820000</td>\n",
              "    </tr>\n",
              "    <tr>\n",
              "      <th>1</th>\n",
              "      <td>2008-09-15</td>\n",
              "      <td>cesc fabregas</td>\n",
              "      <td>0.000000</td>\n",
              "      <td>2202.280029</td>\n",
              "      <td>2244.879883</td>\n",
              "      <td>2179.909912</td>\n",
              "      <td>2179.909912</td>\n",
              "      <td>2697820000</td>\n",
              "    </tr>\n",
              "    <tr>\n",
              "      <th>2</th>\n",
              "      <td>2008-09-15</td>\n",
              "      <td>10 youth walk backwards environment</td>\n",
              "      <td>0.000000</td>\n",
              "      <td>2202.280029</td>\n",
              "      <td>2244.879883</td>\n",
              "      <td>2179.909912</td>\n",
              "      <td>2179.909912</td>\n",
              "      <td>2697820000</td>\n",
              "    </tr>\n",
              "    <tr>\n",
              "      <th>3</th>\n",
              "      <td>2008-09-15</td>\n",
              "      <td>vacation schools colleges navratri</td>\n",
              "      <td>0.000000</td>\n",
              "      <td>2202.280029</td>\n",
              "      <td>2244.879883</td>\n",
              "      <td>2179.909912</td>\n",
              "      <td>2179.909912</td>\n",
              "      <td>2697820000</td>\n",
              "    </tr>\n",
              "    <tr>\n",
              "      <th>4</th>\n",
              "      <td>2008-09-15</td>\n",
              "      <td>failure middleorder lanka oneoff thing vengsarkar</td>\n",
              "      <td>-0.316667</td>\n",
              "      <td>2202.280029</td>\n",
              "      <td>2244.879883</td>\n",
              "      <td>2179.909912</td>\n",
              "      <td>2179.909912</td>\n",
              "      <td>2697820000</td>\n",
              "    </tr>\n",
              "  </tbody>\n",
              "</table>\n",
              "</div>\n",
              "      <button class=\"colab-df-convert\" onclick=\"convertToInteractive('df-84c6c340-1033-4953-9855-1ef1e9ad2fbd')\"\n",
              "              title=\"Convert this dataframe to an interactive table.\"\n",
              "              style=\"display:none;\">\n",
              "        \n",
              "  <svg xmlns=\"http://www.w3.org/2000/svg\" height=\"24px\"viewBox=\"0 0 24 24\"\n",
              "       width=\"24px\">\n",
              "    <path d=\"M0 0h24v24H0V0z\" fill=\"none\"/>\n",
              "    <path d=\"M18.56 5.44l.94 2.06.94-2.06 2.06-.94-2.06-.94-.94-2.06-.94 2.06-2.06.94zm-11 1L8.5 8.5l.94-2.06 2.06-.94-2.06-.94L8.5 2.5l-.94 2.06-2.06.94zm10 10l.94 2.06.94-2.06 2.06-.94-2.06-.94-.94-2.06-.94 2.06-2.06.94z\"/><path d=\"M17.41 7.96l-1.37-1.37c-.4-.4-.92-.59-1.43-.59-.52 0-1.04.2-1.43.59L10.3 9.45l-7.72 7.72c-.78.78-.78 2.05 0 2.83L4 21.41c.39.39.9.59 1.41.59.51 0 1.02-.2 1.41-.59l7.78-7.78 2.81-2.81c.8-.78.8-2.07 0-2.86zM5.41 20L4 18.59l7.72-7.72 1.47 1.35L5.41 20z\"/>\n",
              "  </svg>\n",
              "      </button>\n",
              "      \n",
              "  <style>\n",
              "    .colab-df-container {\n",
              "      display:flex;\n",
              "      flex-wrap:wrap;\n",
              "      gap: 12px;\n",
              "    }\n",
              "\n",
              "    .colab-df-convert {\n",
              "      background-color: #E8F0FE;\n",
              "      border: none;\n",
              "      border-radius: 50%;\n",
              "      cursor: pointer;\n",
              "      display: none;\n",
              "      fill: #1967D2;\n",
              "      height: 32px;\n",
              "      padding: 0 0 0 0;\n",
              "      width: 32px;\n",
              "    }\n",
              "\n",
              "    .colab-df-convert:hover {\n",
              "      background-color: #E2EBFA;\n",
              "      box-shadow: 0px 1px 2px rgba(60, 64, 67, 0.3), 0px 1px 3px 1px rgba(60, 64, 67, 0.15);\n",
              "      fill: #174EA6;\n",
              "    }\n",
              "\n",
              "    [theme=dark] .colab-df-convert {\n",
              "      background-color: #3B4455;\n",
              "      fill: #D2E3FC;\n",
              "    }\n",
              "\n",
              "    [theme=dark] .colab-df-convert:hover {\n",
              "      background-color: #434B5C;\n",
              "      box-shadow: 0px 1px 3px 1px rgba(0, 0, 0, 0.15);\n",
              "      filter: drop-shadow(0px 1px 2px rgba(0, 0, 0, 0.3));\n",
              "      fill: #FFFFFF;\n",
              "    }\n",
              "  </style>\n",
              "\n",
              "      <script>\n",
              "        const buttonEl =\n",
              "          document.querySelector('#df-84c6c340-1033-4953-9855-1ef1e9ad2fbd button.colab-df-convert');\n",
              "        buttonEl.style.display =\n",
              "          google.colab.kernel.accessAllowed ? 'block' : 'none';\n",
              "\n",
              "        async function convertToInteractive(key) {\n",
              "          const element = document.querySelector('#df-84c6c340-1033-4953-9855-1ef1e9ad2fbd');\n",
              "          const dataTable =\n",
              "            await google.colab.kernel.invokeFunction('convertToInteractive',\n",
              "                                                     [key], {});\n",
              "          if (!dataTable) return;\n",
              "\n",
              "          const docLinkHtml = 'Like what you see? Visit the ' +\n",
              "            '<a target=\"_blank\" href=https://colab.research.google.com/notebooks/data_table.ipynb>data table notebook</a>'\n",
              "            + ' to learn more about interactive tables.';\n",
              "          element.innerHTML = '';\n",
              "          dataTable['output_type'] = 'display_data';\n",
              "          await google.colab.output.renderOutput(dataTable, element);\n",
              "          const docLink = document.createElement('div');\n",
              "          docLink.innerHTML = docLinkHtml;\n",
              "          element.appendChild(docLink);\n",
              "        }\n",
              "      </script>\n",
              "    </div>\n",
              "  </div>\n",
              "  "
            ]
          },
          "metadata": {},
          "execution_count": 43
        }
      ]
    },
    {
      "cell_type": "code",
      "source": [
        "Data.shape"
      ],
      "metadata": {
        "colab": {
          "base_uri": "https://localhost:8080/"
        },
        "id": "yFG8b67dAKXa",
        "outputId": "7f90db0e-35ab-4653-825b-32d6900690c5"
      },
      "execution_count": null,
      "outputs": [
        {
          "output_type": "execute_result",
          "data": {
            "text/plain": [
              "(5315, 8)"
            ]
          },
          "metadata": {},
          "execution_count": 44
        }
      ]
    },
    {
      "cell_type": "code",
      "source": [
        "Data.info()"
      ],
      "metadata": {
        "id": "4q4hAEtiTh4O",
        "colab": {
          "base_uri": "https://localhost:8080/"
        },
        "outputId": "41f5b890-67a8-4fec-ccb3-fb8913a8960b"
      },
      "execution_count": null,
      "outputs": [
        {
          "output_type": "stream",
          "name": "stdout",
          "text": [
            "<class 'pandas.core.frame.DataFrame'>\n",
            "Int64Index: 5315 entries, 0 to 5314\n",
            "Data columns (total 8 columns):\n",
            " #   Column         Non-Null Count  Dtype         \n",
            "---  ------         --------------  -----         \n",
            " 0   Date           5315 non-null   datetime64[ns]\n",
            " 1   headline_text  5315 non-null   object        \n",
            " 2   sentiment      5315 non-null   float64       \n",
            " 3   Open           5315 non-null   float64       \n",
            " 4   High           5315 non-null   float64       \n",
            " 5   Low            5315 non-null   float64       \n",
            " 6   Close          5315 non-null   float64       \n",
            " 7   Volume         5315 non-null   int64         \n",
            "dtypes: datetime64[ns](1), float64(5), int64(1), object(1)\n",
            "memory usage: 373.7+ KB\n"
          ]
        }
      ]
    },
    {
      "cell_type": "code",
      "source": [
        "Data.duplicated().sum()"
      ],
      "metadata": {
        "colab": {
          "base_uri": "https://localhost:8080/"
        },
        "id": "NXJ7JQK8DKN0",
        "outputId": "f7e34114-e43e-46ec-9475-7c19661952bb"
      },
      "execution_count": null,
      "outputs": [
        {
          "output_type": "execute_result",
          "data": {
            "text/plain": [
              "505"
            ]
          },
          "metadata": {},
          "execution_count": 46
        }
      ]
    },
    {
      "cell_type": "code",
      "source": [
        "Data = Data.drop_duplicates(keep='first')"
      ],
      "metadata": {
        "id": "btgAi5xbDix-"
      },
      "execution_count": null,
      "outputs": []
    },
    {
      "cell_type": "code",
      "source": [
        "Data.isnull().sum()"
      ],
      "metadata": {
        "colab": {
          "base_uri": "https://localhost:8080/"
        },
        "id": "rXRnG9kcDvIr",
        "outputId": "fac6adf0-3d86-4fc7-c225-8d03e1103bc6"
      },
      "execution_count": null,
      "outputs": [
        {
          "output_type": "execute_result",
          "data": {
            "text/plain": [
              "Date             0\n",
              "headline_text    0\n",
              "sentiment        0\n",
              "Open             0\n",
              "High             0\n",
              "Low              0\n",
              "Close            0\n",
              "Volume           0\n",
              "dtype: int64"
            ]
          },
          "metadata": {},
          "execution_count": 48
        }
      ]
    },
    {
      "cell_type": "code",
      "source": [
        "#Calculation polarity scores for each headline text\n",
        "Data['score'] = Data['headline_text'].apply(lambda x: SentimentIntensityAnalyzer().polarity_scores(x))\n",
        "Data.head()"
      ],
      "metadata": {
        "colab": {
          "base_uri": "https://localhost:8080/"
        },
        "id": "UwrFZms1D3tK",
        "outputId": "a3505217-b0d4-4f61-be36-ec6e3cfec9e2"
      },
      "execution_count": null,
      "outputs": [
        {
          "output_type": "execute_result",
          "data": {
            "text/plain": [
              "        Date                                      headline_text  sentiment  \\\n",
              "0 2008-09-15                              pregnant watch weight   0.333333   \n",
              "1 2008-09-15                                      cesc fabregas   0.000000   \n",
              "2 2008-09-15                10 youth walk backwards environment   0.000000   \n",
              "3 2008-09-15                 vacation schools colleges navratri   0.000000   \n",
              "4 2008-09-15  failure middleorder lanka oneoff thing vengsarkar  -0.316667   \n",
              "\n",
              "          Open         High          Low        Close      Volume  \\\n",
              "0  2202.280029  2244.879883  2179.909912  2179.909912  2697820000   \n",
              "1  2202.280029  2244.879883  2179.909912  2179.909912  2697820000   \n",
              "2  2202.280029  2244.879883  2179.909912  2179.909912  2697820000   \n",
              "3  2202.280029  2244.879883  2179.909912  2179.909912  2697820000   \n",
              "4  2202.280029  2244.879883  2179.909912  2179.909912  2697820000   \n",
              "\n",
              "                                               score  \n",
              "0  {'neg': 0.0, 'neu': 1.0, 'pos': 0.0, 'compound...  \n",
              "1  {'neg': 0.0, 'neu': 1.0, 'pos': 0.0, 'compound...  \n",
              "2  {'neg': 0.0, 'neu': 1.0, 'pos': 0.0, 'compound...  \n",
              "3  {'neg': 0.0, 'neu': 1.0, 'pos': 0.0, 'compound...  \n",
              "4  {'neg': 0.398, 'neu': 0.602, 'pos': 0.0, 'comp...  "
            ],
            "text/html": [
              "\n",
              "  <div id=\"df-d537e200-b067-4ff5-bac1-924722e36a89\">\n",
              "    <div class=\"colab-df-container\">\n",
              "      <div>\n",
              "<style scoped>\n",
              "    .dataframe tbody tr th:only-of-type {\n",
              "        vertical-align: middle;\n",
              "    }\n",
              "\n",
              "    .dataframe tbody tr th {\n",
              "        vertical-align: top;\n",
              "    }\n",
              "\n",
              "    .dataframe thead th {\n",
              "        text-align: right;\n",
              "    }\n",
              "</style>\n",
              "<table border=\"1\" class=\"dataframe\">\n",
              "  <thead>\n",
              "    <tr style=\"text-align: right;\">\n",
              "      <th></th>\n",
              "      <th>Date</th>\n",
              "      <th>headline_text</th>\n",
              "      <th>sentiment</th>\n",
              "      <th>Open</th>\n",
              "      <th>High</th>\n",
              "      <th>Low</th>\n",
              "      <th>Close</th>\n",
              "      <th>Volume</th>\n",
              "      <th>score</th>\n",
              "    </tr>\n",
              "  </thead>\n",
              "  <tbody>\n",
              "    <tr>\n",
              "      <th>0</th>\n",
              "      <td>2008-09-15</td>\n",
              "      <td>pregnant watch weight</td>\n",
              "      <td>0.333333</td>\n",
              "      <td>2202.280029</td>\n",
              "      <td>2244.879883</td>\n",
              "      <td>2179.909912</td>\n",
              "      <td>2179.909912</td>\n",
              "      <td>2697820000</td>\n",
              "      <td>{'neg': 0.0, 'neu': 1.0, 'pos': 0.0, 'compound...</td>\n",
              "    </tr>\n",
              "    <tr>\n",
              "      <th>1</th>\n",
              "      <td>2008-09-15</td>\n",
              "      <td>cesc fabregas</td>\n",
              "      <td>0.000000</td>\n",
              "      <td>2202.280029</td>\n",
              "      <td>2244.879883</td>\n",
              "      <td>2179.909912</td>\n",
              "      <td>2179.909912</td>\n",
              "      <td>2697820000</td>\n",
              "      <td>{'neg': 0.0, 'neu': 1.0, 'pos': 0.0, 'compound...</td>\n",
              "    </tr>\n",
              "    <tr>\n",
              "      <th>2</th>\n",
              "      <td>2008-09-15</td>\n",
              "      <td>10 youth walk backwards environment</td>\n",
              "      <td>0.000000</td>\n",
              "      <td>2202.280029</td>\n",
              "      <td>2244.879883</td>\n",
              "      <td>2179.909912</td>\n",
              "      <td>2179.909912</td>\n",
              "      <td>2697820000</td>\n",
              "      <td>{'neg': 0.0, 'neu': 1.0, 'pos': 0.0, 'compound...</td>\n",
              "    </tr>\n",
              "    <tr>\n",
              "      <th>3</th>\n",
              "      <td>2008-09-15</td>\n",
              "      <td>vacation schools colleges navratri</td>\n",
              "      <td>0.000000</td>\n",
              "      <td>2202.280029</td>\n",
              "      <td>2244.879883</td>\n",
              "      <td>2179.909912</td>\n",
              "      <td>2179.909912</td>\n",
              "      <td>2697820000</td>\n",
              "      <td>{'neg': 0.0, 'neu': 1.0, 'pos': 0.0, 'compound...</td>\n",
              "    </tr>\n",
              "    <tr>\n",
              "      <th>4</th>\n",
              "      <td>2008-09-15</td>\n",
              "      <td>failure middleorder lanka oneoff thing vengsarkar</td>\n",
              "      <td>-0.316667</td>\n",
              "      <td>2202.280029</td>\n",
              "      <td>2244.879883</td>\n",
              "      <td>2179.909912</td>\n",
              "      <td>2179.909912</td>\n",
              "      <td>2697820000</td>\n",
              "      <td>{'neg': 0.398, 'neu': 0.602, 'pos': 0.0, 'comp...</td>\n",
              "    </tr>\n",
              "  </tbody>\n",
              "</table>\n",
              "</div>\n",
              "      <button class=\"colab-df-convert\" onclick=\"convertToInteractive('df-d537e200-b067-4ff5-bac1-924722e36a89')\"\n",
              "              title=\"Convert this dataframe to an interactive table.\"\n",
              "              style=\"display:none;\">\n",
              "        \n",
              "  <svg xmlns=\"http://www.w3.org/2000/svg\" height=\"24px\"viewBox=\"0 0 24 24\"\n",
              "       width=\"24px\">\n",
              "    <path d=\"M0 0h24v24H0V0z\" fill=\"none\"/>\n",
              "    <path d=\"M18.56 5.44l.94 2.06.94-2.06 2.06-.94-2.06-.94-.94-2.06-.94 2.06-2.06.94zm-11 1L8.5 8.5l.94-2.06 2.06-.94-2.06-.94L8.5 2.5l-.94 2.06-2.06.94zm10 10l.94 2.06.94-2.06 2.06-.94-2.06-.94-.94-2.06-.94 2.06-2.06.94z\"/><path d=\"M17.41 7.96l-1.37-1.37c-.4-.4-.92-.59-1.43-.59-.52 0-1.04.2-1.43.59L10.3 9.45l-7.72 7.72c-.78.78-.78 2.05 0 2.83L4 21.41c.39.39.9.59 1.41.59.51 0 1.02-.2 1.41-.59l7.78-7.78 2.81-2.81c.8-.78.8-2.07 0-2.86zM5.41 20L4 18.59l7.72-7.72 1.47 1.35L5.41 20z\"/>\n",
              "  </svg>\n",
              "      </button>\n",
              "      \n",
              "  <style>\n",
              "    .colab-df-container {\n",
              "      display:flex;\n",
              "      flex-wrap:wrap;\n",
              "      gap: 12px;\n",
              "    }\n",
              "\n",
              "    .colab-df-convert {\n",
              "      background-color: #E8F0FE;\n",
              "      border: none;\n",
              "      border-radius: 50%;\n",
              "      cursor: pointer;\n",
              "      display: none;\n",
              "      fill: #1967D2;\n",
              "      height: 32px;\n",
              "      padding: 0 0 0 0;\n",
              "      width: 32px;\n",
              "    }\n",
              "\n",
              "    .colab-df-convert:hover {\n",
              "      background-color: #E2EBFA;\n",
              "      box-shadow: 0px 1px 2px rgba(60, 64, 67, 0.3), 0px 1px 3px 1px rgba(60, 64, 67, 0.15);\n",
              "      fill: #174EA6;\n",
              "    }\n",
              "\n",
              "    [theme=dark] .colab-df-convert {\n",
              "      background-color: #3B4455;\n",
              "      fill: #D2E3FC;\n",
              "    }\n",
              "\n",
              "    [theme=dark] .colab-df-convert:hover {\n",
              "      background-color: #434B5C;\n",
              "      box-shadow: 0px 1px 3px 1px rgba(0, 0, 0, 0.15);\n",
              "      filter: drop-shadow(0px 1px 2px rgba(0, 0, 0, 0.3));\n",
              "      fill: #FFFFFF;\n",
              "    }\n",
              "  </style>\n",
              "\n",
              "      <script>\n",
              "        const buttonEl =\n",
              "          document.querySelector('#df-d537e200-b067-4ff5-bac1-924722e36a89 button.colab-df-convert');\n",
              "        buttonEl.style.display =\n",
              "          google.colab.kernel.accessAllowed ? 'block' : 'none';\n",
              "\n",
              "        async function convertToInteractive(key) {\n",
              "          const element = document.querySelector('#df-d537e200-b067-4ff5-bac1-924722e36a89');\n",
              "          const dataTable =\n",
              "            await google.colab.kernel.invokeFunction('convertToInteractive',\n",
              "                                                     [key], {});\n",
              "          if (!dataTable) return;\n",
              "\n",
              "          const docLinkHtml = 'Like what you see? Visit the ' +\n",
              "            '<a target=\"_blank\" href=https://colab.research.google.com/notebooks/data_table.ipynb>data table notebook</a>'\n",
              "            + ' to learn more about interactive tables.';\n",
              "          element.innerHTML = '';\n",
              "          dataTable['output_type'] = 'display_data';\n",
              "          await google.colab.output.renderOutput(dataTable, element);\n",
              "          const docLink = document.createElement('div');\n",
              "          docLink.innerHTML = docLinkHtml;\n",
              "          element.appendChild(docLink);\n",
              "        }\n",
              "      </script>\n",
              "    </div>\n",
              "  </div>\n",
              "  "
            ]
          },
          "metadata": {},
          "execution_count": 49
        }
      ]
    },
    {
      "cell_type": "code",
      "source": [
        "#Creating Coumpound, pos, neg, neu columns from the polarity score\n",
        "Data['compound'] = Data['score'].apply(lambda score_dict : score_dict['compound'])\n",
        "Data['pos'] = Data['score'].apply(lambda score_dict : score_dict['pos'])\n",
        "Data['neg'] = Data['score'].apply(lambda score_dict : score_dict['neg'])\n",
        "Data['neu'] = Data['score'].apply(lambda score_dict : score_dict['neu'])\n",
        "Data.head()"
      ],
      "metadata": {
        "colab": {
          "base_uri": "https://localhost:8080/"
        },
        "id": "6ZD27qyxNNCM",
        "outputId": "1c1355e4-5316-462a-a96c-c3ed7140776c"
      },
      "execution_count": null,
      "outputs": [
        {
          "output_type": "execute_result",
          "data": {
            "text/plain": [
              "        Date                                      headline_text  sentiment  \\\n",
              "0 2008-09-15                              pregnant watch weight   0.333333   \n",
              "1 2008-09-15                                      cesc fabregas   0.000000   \n",
              "2 2008-09-15                10 youth walk backwards environment   0.000000   \n",
              "3 2008-09-15                 vacation schools colleges navratri   0.000000   \n",
              "4 2008-09-15  failure middleorder lanka oneoff thing vengsarkar  -0.316667   \n",
              "\n",
              "          Open         High          Low        Close      Volume  \\\n",
              "0  2202.280029  2244.879883  2179.909912  2179.909912  2697820000   \n",
              "1  2202.280029  2244.879883  2179.909912  2179.909912  2697820000   \n",
              "2  2202.280029  2244.879883  2179.909912  2179.909912  2697820000   \n",
              "3  2202.280029  2244.879883  2179.909912  2179.909912  2697820000   \n",
              "4  2202.280029  2244.879883  2179.909912  2179.909912  2697820000   \n",
              "\n",
              "                                               score  compound  pos    neg  \\\n",
              "0  {'neg': 0.0, 'neu': 1.0, 'pos': 0.0, 'compound...    0.0000  0.0  0.000   \n",
              "1  {'neg': 0.0, 'neu': 1.0, 'pos': 0.0, 'compound...    0.0000  0.0  0.000   \n",
              "2  {'neg': 0.0, 'neu': 1.0, 'pos': 0.0, 'compound...    0.0000  0.0  0.000   \n",
              "3  {'neg': 0.0, 'neu': 1.0, 'pos': 0.0, 'compound...    0.0000  0.0  0.000   \n",
              "4  {'neg': 0.398, 'neu': 0.602, 'pos': 0.0, 'comp...   -0.5106  0.0  0.398   \n",
              "\n",
              "     neu  \n",
              "0  1.000  \n",
              "1  1.000  \n",
              "2  1.000  \n",
              "3  1.000  \n",
              "4  0.602  "
            ],
            "text/html": [
              "\n",
              "  <div id=\"df-e5cfcfc9-fc98-4a6f-a263-aa23e602116a\">\n",
              "    <div class=\"colab-df-container\">\n",
              "      <div>\n",
              "<style scoped>\n",
              "    .dataframe tbody tr th:only-of-type {\n",
              "        vertical-align: middle;\n",
              "    }\n",
              "\n",
              "    .dataframe tbody tr th {\n",
              "        vertical-align: top;\n",
              "    }\n",
              "\n",
              "    .dataframe thead th {\n",
              "        text-align: right;\n",
              "    }\n",
              "</style>\n",
              "<table border=\"1\" class=\"dataframe\">\n",
              "  <thead>\n",
              "    <tr style=\"text-align: right;\">\n",
              "      <th></th>\n",
              "      <th>Date</th>\n",
              "      <th>headline_text</th>\n",
              "      <th>sentiment</th>\n",
              "      <th>Open</th>\n",
              "      <th>High</th>\n",
              "      <th>Low</th>\n",
              "      <th>Close</th>\n",
              "      <th>Volume</th>\n",
              "      <th>score</th>\n",
              "      <th>compound</th>\n",
              "      <th>pos</th>\n",
              "      <th>neg</th>\n",
              "      <th>neu</th>\n",
              "    </tr>\n",
              "  </thead>\n",
              "  <tbody>\n",
              "    <tr>\n",
              "      <th>0</th>\n",
              "      <td>2008-09-15</td>\n",
              "      <td>pregnant watch weight</td>\n",
              "      <td>0.333333</td>\n",
              "      <td>2202.280029</td>\n",
              "      <td>2244.879883</td>\n",
              "      <td>2179.909912</td>\n",
              "      <td>2179.909912</td>\n",
              "      <td>2697820000</td>\n",
              "      <td>{'neg': 0.0, 'neu': 1.0, 'pos': 0.0, 'compound...</td>\n",
              "      <td>0.0000</td>\n",
              "      <td>0.0</td>\n",
              "      <td>0.000</td>\n",
              "      <td>1.000</td>\n",
              "    </tr>\n",
              "    <tr>\n",
              "      <th>1</th>\n",
              "      <td>2008-09-15</td>\n",
              "      <td>cesc fabregas</td>\n",
              "      <td>0.000000</td>\n",
              "      <td>2202.280029</td>\n",
              "      <td>2244.879883</td>\n",
              "      <td>2179.909912</td>\n",
              "      <td>2179.909912</td>\n",
              "      <td>2697820000</td>\n",
              "      <td>{'neg': 0.0, 'neu': 1.0, 'pos': 0.0, 'compound...</td>\n",
              "      <td>0.0000</td>\n",
              "      <td>0.0</td>\n",
              "      <td>0.000</td>\n",
              "      <td>1.000</td>\n",
              "    </tr>\n",
              "    <tr>\n",
              "      <th>2</th>\n",
              "      <td>2008-09-15</td>\n",
              "      <td>10 youth walk backwards environment</td>\n",
              "      <td>0.000000</td>\n",
              "      <td>2202.280029</td>\n",
              "      <td>2244.879883</td>\n",
              "      <td>2179.909912</td>\n",
              "      <td>2179.909912</td>\n",
              "      <td>2697820000</td>\n",
              "      <td>{'neg': 0.0, 'neu': 1.0, 'pos': 0.0, 'compound...</td>\n",
              "      <td>0.0000</td>\n",
              "      <td>0.0</td>\n",
              "      <td>0.000</td>\n",
              "      <td>1.000</td>\n",
              "    </tr>\n",
              "    <tr>\n",
              "      <th>3</th>\n",
              "      <td>2008-09-15</td>\n",
              "      <td>vacation schools colleges navratri</td>\n",
              "      <td>0.000000</td>\n",
              "      <td>2202.280029</td>\n",
              "      <td>2244.879883</td>\n",
              "      <td>2179.909912</td>\n",
              "      <td>2179.909912</td>\n",
              "      <td>2697820000</td>\n",
              "      <td>{'neg': 0.0, 'neu': 1.0, 'pos': 0.0, 'compound...</td>\n",
              "      <td>0.0000</td>\n",
              "      <td>0.0</td>\n",
              "      <td>0.000</td>\n",
              "      <td>1.000</td>\n",
              "    </tr>\n",
              "    <tr>\n",
              "      <th>4</th>\n",
              "      <td>2008-09-15</td>\n",
              "      <td>failure middleorder lanka oneoff thing vengsarkar</td>\n",
              "      <td>-0.316667</td>\n",
              "      <td>2202.280029</td>\n",
              "      <td>2244.879883</td>\n",
              "      <td>2179.909912</td>\n",
              "      <td>2179.909912</td>\n",
              "      <td>2697820000</td>\n",
              "      <td>{'neg': 0.398, 'neu': 0.602, 'pos': 0.0, 'comp...</td>\n",
              "      <td>-0.5106</td>\n",
              "      <td>0.0</td>\n",
              "      <td>0.398</td>\n",
              "      <td>0.602</td>\n",
              "    </tr>\n",
              "  </tbody>\n",
              "</table>\n",
              "</div>\n",
              "      <button class=\"colab-df-convert\" onclick=\"convertToInteractive('df-e5cfcfc9-fc98-4a6f-a263-aa23e602116a')\"\n",
              "              title=\"Convert this dataframe to an interactive table.\"\n",
              "              style=\"display:none;\">\n",
              "        \n",
              "  <svg xmlns=\"http://www.w3.org/2000/svg\" height=\"24px\"viewBox=\"0 0 24 24\"\n",
              "       width=\"24px\">\n",
              "    <path d=\"M0 0h24v24H0V0z\" fill=\"none\"/>\n",
              "    <path d=\"M18.56 5.44l.94 2.06.94-2.06 2.06-.94-2.06-.94-.94-2.06-.94 2.06-2.06.94zm-11 1L8.5 8.5l.94-2.06 2.06-.94-2.06-.94L8.5 2.5l-.94 2.06-2.06.94zm10 10l.94 2.06.94-2.06 2.06-.94-2.06-.94-.94-2.06-.94 2.06-2.06.94z\"/><path d=\"M17.41 7.96l-1.37-1.37c-.4-.4-.92-.59-1.43-.59-.52 0-1.04.2-1.43.59L10.3 9.45l-7.72 7.72c-.78.78-.78 2.05 0 2.83L4 21.41c.39.39.9.59 1.41.59.51 0 1.02-.2 1.41-.59l7.78-7.78 2.81-2.81c.8-.78.8-2.07 0-2.86zM5.41 20L4 18.59l7.72-7.72 1.47 1.35L5.41 20z\"/>\n",
              "  </svg>\n",
              "      </button>\n",
              "      \n",
              "  <style>\n",
              "    .colab-df-container {\n",
              "      display:flex;\n",
              "      flex-wrap:wrap;\n",
              "      gap: 12px;\n",
              "    }\n",
              "\n",
              "    .colab-df-convert {\n",
              "      background-color: #E8F0FE;\n",
              "      border: none;\n",
              "      border-radius: 50%;\n",
              "      cursor: pointer;\n",
              "      display: none;\n",
              "      fill: #1967D2;\n",
              "      height: 32px;\n",
              "      padding: 0 0 0 0;\n",
              "      width: 32px;\n",
              "    }\n",
              "\n",
              "    .colab-df-convert:hover {\n",
              "      background-color: #E2EBFA;\n",
              "      box-shadow: 0px 1px 2px rgba(60, 64, 67, 0.3), 0px 1px 3px 1px rgba(60, 64, 67, 0.15);\n",
              "      fill: #174EA6;\n",
              "    }\n",
              "\n",
              "    [theme=dark] .colab-df-convert {\n",
              "      background-color: #3B4455;\n",
              "      fill: #D2E3FC;\n",
              "    }\n",
              "\n",
              "    [theme=dark] .colab-df-convert:hover {\n",
              "      background-color: #434B5C;\n",
              "      box-shadow: 0px 1px 3px 1px rgba(0, 0, 0, 0.15);\n",
              "      filter: drop-shadow(0px 1px 2px rgba(0, 0, 0, 0.3));\n",
              "      fill: #FFFFFF;\n",
              "    }\n",
              "  </style>\n",
              "\n",
              "      <script>\n",
              "        const buttonEl =\n",
              "          document.querySelector('#df-e5cfcfc9-fc98-4a6f-a263-aa23e602116a button.colab-df-convert');\n",
              "        buttonEl.style.display =\n",
              "          google.colab.kernel.accessAllowed ? 'block' : 'none';\n",
              "\n",
              "        async function convertToInteractive(key) {\n",
              "          const element = document.querySelector('#df-e5cfcfc9-fc98-4a6f-a263-aa23e602116a');\n",
              "          const dataTable =\n",
              "            await google.colab.kernel.invokeFunction('convertToInteractive',\n",
              "                                                     [key], {});\n",
              "          if (!dataTable) return;\n",
              "\n",
              "          const docLinkHtml = 'Like what you see? Visit the ' +\n",
              "            '<a target=\"_blank\" href=https://colab.research.google.com/notebooks/data_table.ipynb>data table notebook</a>'\n",
              "            + ' to learn more about interactive tables.';\n",
              "          element.innerHTML = '';\n",
              "          dataTable['output_type'] = 'display_data';\n",
              "          await google.colab.output.renderOutput(dataTable, element);\n",
              "          const docLink = document.createElement('div');\n",
              "          docLink.innerHTML = docLinkHtml;\n",
              "          element.appendChild(docLink);\n",
              "        }\n",
              "      </script>\n",
              "    </div>\n",
              "  </div>\n",
              "  "
            ]
          },
          "metadata": {},
          "execution_count": 50
        }
      ]
    },
    {
      "cell_type": "code",
      "source": [
        "#Deleting the score column\n",
        "Data = Data.drop('score',axis=1)\n",
        "Data.head()"
      ],
      "metadata": {
        "colab": {
          "base_uri": "https://localhost:8080/"
        },
        "id": "-eeBrZtHS45y",
        "outputId": "12f437a9-f924-4e5d-de37-759731e1f278"
      },
      "execution_count": null,
      "outputs": [
        {
          "output_type": "execute_result",
          "data": {
            "text/plain": [
              "        Date                                      headline_text  sentiment  \\\n",
              "0 2008-09-15                              pregnant watch weight   0.333333   \n",
              "1 2008-09-15                                      cesc fabregas   0.000000   \n",
              "2 2008-09-15                10 youth walk backwards environment   0.000000   \n",
              "3 2008-09-15                 vacation schools colleges navratri   0.000000   \n",
              "4 2008-09-15  failure middleorder lanka oneoff thing vengsarkar  -0.316667   \n",
              "\n",
              "          Open         High          Low        Close      Volume  compound  \\\n",
              "0  2202.280029  2244.879883  2179.909912  2179.909912  2697820000    0.0000   \n",
              "1  2202.280029  2244.879883  2179.909912  2179.909912  2697820000    0.0000   \n",
              "2  2202.280029  2244.879883  2179.909912  2179.909912  2697820000    0.0000   \n",
              "3  2202.280029  2244.879883  2179.909912  2179.909912  2697820000    0.0000   \n",
              "4  2202.280029  2244.879883  2179.909912  2179.909912  2697820000   -0.5106   \n",
              "\n",
              "   pos    neg    neu  \n",
              "0  0.0  0.000  1.000  \n",
              "1  0.0  0.000  1.000  \n",
              "2  0.0  0.000  1.000  \n",
              "3  0.0  0.000  1.000  \n",
              "4  0.0  0.398  0.602  "
            ],
            "text/html": [
              "\n",
              "  <div id=\"df-b42fe225-57b7-4e43-a6e3-9a8448d35a7a\">\n",
              "    <div class=\"colab-df-container\">\n",
              "      <div>\n",
              "<style scoped>\n",
              "    .dataframe tbody tr th:only-of-type {\n",
              "        vertical-align: middle;\n",
              "    }\n",
              "\n",
              "    .dataframe tbody tr th {\n",
              "        vertical-align: top;\n",
              "    }\n",
              "\n",
              "    .dataframe thead th {\n",
              "        text-align: right;\n",
              "    }\n",
              "</style>\n",
              "<table border=\"1\" class=\"dataframe\">\n",
              "  <thead>\n",
              "    <tr style=\"text-align: right;\">\n",
              "      <th></th>\n",
              "      <th>Date</th>\n",
              "      <th>headline_text</th>\n",
              "      <th>sentiment</th>\n",
              "      <th>Open</th>\n",
              "      <th>High</th>\n",
              "      <th>Low</th>\n",
              "      <th>Close</th>\n",
              "      <th>Volume</th>\n",
              "      <th>compound</th>\n",
              "      <th>pos</th>\n",
              "      <th>neg</th>\n",
              "      <th>neu</th>\n",
              "    </tr>\n",
              "  </thead>\n",
              "  <tbody>\n",
              "    <tr>\n",
              "      <th>0</th>\n",
              "      <td>2008-09-15</td>\n",
              "      <td>pregnant watch weight</td>\n",
              "      <td>0.333333</td>\n",
              "      <td>2202.280029</td>\n",
              "      <td>2244.879883</td>\n",
              "      <td>2179.909912</td>\n",
              "      <td>2179.909912</td>\n",
              "      <td>2697820000</td>\n",
              "      <td>0.0000</td>\n",
              "      <td>0.0</td>\n",
              "      <td>0.000</td>\n",
              "      <td>1.000</td>\n",
              "    </tr>\n",
              "    <tr>\n",
              "      <th>1</th>\n",
              "      <td>2008-09-15</td>\n",
              "      <td>cesc fabregas</td>\n",
              "      <td>0.000000</td>\n",
              "      <td>2202.280029</td>\n",
              "      <td>2244.879883</td>\n",
              "      <td>2179.909912</td>\n",
              "      <td>2179.909912</td>\n",
              "      <td>2697820000</td>\n",
              "      <td>0.0000</td>\n",
              "      <td>0.0</td>\n",
              "      <td>0.000</td>\n",
              "      <td>1.000</td>\n",
              "    </tr>\n",
              "    <tr>\n",
              "      <th>2</th>\n",
              "      <td>2008-09-15</td>\n",
              "      <td>10 youth walk backwards environment</td>\n",
              "      <td>0.000000</td>\n",
              "      <td>2202.280029</td>\n",
              "      <td>2244.879883</td>\n",
              "      <td>2179.909912</td>\n",
              "      <td>2179.909912</td>\n",
              "      <td>2697820000</td>\n",
              "      <td>0.0000</td>\n",
              "      <td>0.0</td>\n",
              "      <td>0.000</td>\n",
              "      <td>1.000</td>\n",
              "    </tr>\n",
              "    <tr>\n",
              "      <th>3</th>\n",
              "      <td>2008-09-15</td>\n",
              "      <td>vacation schools colleges navratri</td>\n",
              "      <td>0.000000</td>\n",
              "      <td>2202.280029</td>\n",
              "      <td>2244.879883</td>\n",
              "      <td>2179.909912</td>\n",
              "      <td>2179.909912</td>\n",
              "      <td>2697820000</td>\n",
              "      <td>0.0000</td>\n",
              "      <td>0.0</td>\n",
              "      <td>0.000</td>\n",
              "      <td>1.000</td>\n",
              "    </tr>\n",
              "    <tr>\n",
              "      <th>4</th>\n",
              "      <td>2008-09-15</td>\n",
              "      <td>failure middleorder lanka oneoff thing vengsarkar</td>\n",
              "      <td>-0.316667</td>\n",
              "      <td>2202.280029</td>\n",
              "      <td>2244.879883</td>\n",
              "      <td>2179.909912</td>\n",
              "      <td>2179.909912</td>\n",
              "      <td>2697820000</td>\n",
              "      <td>-0.5106</td>\n",
              "      <td>0.0</td>\n",
              "      <td>0.398</td>\n",
              "      <td>0.602</td>\n",
              "    </tr>\n",
              "  </tbody>\n",
              "</table>\n",
              "</div>\n",
              "      <button class=\"colab-df-convert\" onclick=\"convertToInteractive('df-b42fe225-57b7-4e43-a6e3-9a8448d35a7a')\"\n",
              "              title=\"Convert this dataframe to an interactive table.\"\n",
              "              style=\"display:none;\">\n",
              "        \n",
              "  <svg xmlns=\"http://www.w3.org/2000/svg\" height=\"24px\"viewBox=\"0 0 24 24\"\n",
              "       width=\"24px\">\n",
              "    <path d=\"M0 0h24v24H0V0z\" fill=\"none\"/>\n",
              "    <path d=\"M18.56 5.44l.94 2.06.94-2.06 2.06-.94-2.06-.94-.94-2.06-.94 2.06-2.06.94zm-11 1L8.5 8.5l.94-2.06 2.06-.94-2.06-.94L8.5 2.5l-.94 2.06-2.06.94zm10 10l.94 2.06.94-2.06 2.06-.94-2.06-.94-.94-2.06-.94 2.06-2.06.94z\"/><path d=\"M17.41 7.96l-1.37-1.37c-.4-.4-.92-.59-1.43-.59-.52 0-1.04.2-1.43.59L10.3 9.45l-7.72 7.72c-.78.78-.78 2.05 0 2.83L4 21.41c.39.39.9.59 1.41.59.51 0 1.02-.2 1.41-.59l7.78-7.78 2.81-2.81c.8-.78.8-2.07 0-2.86zM5.41 20L4 18.59l7.72-7.72 1.47 1.35L5.41 20z\"/>\n",
              "  </svg>\n",
              "      </button>\n",
              "      \n",
              "  <style>\n",
              "    .colab-df-container {\n",
              "      display:flex;\n",
              "      flex-wrap:wrap;\n",
              "      gap: 12px;\n",
              "    }\n",
              "\n",
              "    .colab-df-convert {\n",
              "      background-color: #E8F0FE;\n",
              "      border: none;\n",
              "      border-radius: 50%;\n",
              "      cursor: pointer;\n",
              "      display: none;\n",
              "      fill: #1967D2;\n",
              "      height: 32px;\n",
              "      padding: 0 0 0 0;\n",
              "      width: 32px;\n",
              "    }\n",
              "\n",
              "    .colab-df-convert:hover {\n",
              "      background-color: #E2EBFA;\n",
              "      box-shadow: 0px 1px 2px rgba(60, 64, 67, 0.3), 0px 1px 3px 1px rgba(60, 64, 67, 0.15);\n",
              "      fill: #174EA6;\n",
              "    }\n",
              "\n",
              "    [theme=dark] .colab-df-convert {\n",
              "      background-color: #3B4455;\n",
              "      fill: #D2E3FC;\n",
              "    }\n",
              "\n",
              "    [theme=dark] .colab-df-convert:hover {\n",
              "      background-color: #434B5C;\n",
              "      box-shadow: 0px 1px 3px 1px rgba(0, 0, 0, 0.15);\n",
              "      filter: drop-shadow(0px 1px 2px rgba(0, 0, 0, 0.3));\n",
              "      fill: #FFFFFF;\n",
              "    }\n",
              "  </style>\n",
              "\n",
              "      <script>\n",
              "        const buttonEl =\n",
              "          document.querySelector('#df-b42fe225-57b7-4e43-a6e3-9a8448d35a7a button.colab-df-convert');\n",
              "        buttonEl.style.display =\n",
              "          google.colab.kernel.accessAllowed ? 'block' : 'none';\n",
              "\n",
              "        async function convertToInteractive(key) {\n",
              "          const element = document.querySelector('#df-b42fe225-57b7-4e43-a6e3-9a8448d35a7a');\n",
              "          const dataTable =\n",
              "            await google.colab.kernel.invokeFunction('convertToInteractive',\n",
              "                                                     [key], {});\n",
              "          if (!dataTable) return;\n",
              "\n",
              "          const docLinkHtml = 'Like what you see? Visit the ' +\n",
              "            '<a target=\"_blank\" href=https://colab.research.google.com/notebooks/data_table.ipynb>data table notebook</a>'\n",
              "            + ' to learn more about interactive tables.';\n",
              "          element.innerHTML = '';\n",
              "          dataTable['output_type'] = 'display_data';\n",
              "          await google.colab.output.renderOutput(dataTable, element);\n",
              "          const docLink = document.createElement('div');\n",
              "          docLink.innerHTML = docLinkHtml;\n",
              "          element.appendChild(docLink);\n",
              "        }\n",
              "      </script>\n",
              "    </div>\n",
              "  </div>\n",
              "  "
            ]
          },
          "metadata": {},
          "execution_count": 51
        }
      ]
    },
    {
      "cell_type": "code",
      "source": [
        "#Visualising the Date and Close columns\n",
        "plt.figure()\n",
        "sns.lineplot(Data['Date'],Data['Close'])"
      ],
      "metadata": {
        "colab": {
          "base_uri": "https://localhost:8080/"
        },
        "id": "fqOJ_Tz6TapU",
        "outputId": "381cca02-2e24-4df9-886e-123c28775c10"
      },
      "execution_count": null,
      "outputs": [
        {
          "output_type": "stream",
          "name": "stderr",
          "text": [
            "/usr/local/lib/python3.7/dist-packages/seaborn/_decorators.py:43: FutureWarning: Pass the following variables as keyword args: x, y. From version 0.12, the only valid positional argument will be `data`, and passing other arguments without an explicit keyword will result in an error or misinterpretation.\n",
            "  FutureWarning\n"
          ]
        },
        {
          "output_type": "execute_result",
          "data": {
            "text/plain": [
              "<matplotlib.axes._subplots.AxesSubplot at 0x7f2aa062a150>"
            ]
          },
          "metadata": {},
          "execution_count": 52
        },
        {
          "output_type": "display_data",
          "data": {
            "text/plain": [
              "<Figure size 432x288 with 1 Axes>"
            ],
            "image/png": "[encoded data removed]"
          },
          "metadata": {}
        }
      ]
    },
    {
      "cell_type": "code",
      "source": [
        "#Creating price_up column where 1 represents increase in stock and 0 represents decrease or remain unchanged\n",
        "Data['price_up'] = np.where(Data['Close'].shift(-1)>Data['Close'],1,0)\n",
        "Data.head()"
      ],
      "metadata": {
        "colab": {
          "base_uri": "https://localhost:8080/"
        },
        "id": "1xS3C6rDYNUy",
        "outputId": "46a990e8-768e-4c98-d5e1-4d3b22d59534"
      },
      "execution_count": null,
      "outputs": [
        {
          "output_type": "execute_result",
          "data": {
            "text/plain": [
              "        Date                                      headline_text  sentiment  \\\n",
              "0 2008-09-15                              pregnant watch weight   0.333333   \n",
              "1 2008-09-15                                      cesc fabregas   0.000000   \n",
              "2 2008-09-15                10 youth walk backwards environment   0.000000   \n",
              "3 2008-09-15                 vacation schools colleges navratri   0.000000   \n",
              "4 2008-09-15  failure middleorder lanka oneoff thing vengsarkar  -0.316667   \n",
              "\n",
              "          Open         High          Low        Close      Volume  compound  \\\n",
              "0  2202.280029  2244.879883  2179.909912  2179.909912  2697820000    0.0000   \n",
              "1  2202.280029  2244.879883  2179.909912  2179.909912  2697820000    0.0000   \n",
              "2  2202.280029  2244.879883  2179.909912  2179.909912  2697820000    0.0000   \n",
              "3  2202.280029  2244.879883  2179.909912  2179.909912  2697820000    0.0000   \n",
              "4  2202.280029  2244.879883  2179.909912  2179.909912  2697820000   -0.5106   \n",
              "\n",
              "   pos    neg    neu  price_up  \n",
              "0  0.0  0.000  1.000         0  \n",
              "1  0.0  0.000  1.000         0  \n",
              "2  0.0  0.000  1.000         0  \n",
              "3  0.0  0.000  1.000         0  \n",
              "4  0.0  0.398  0.602         0  "
            ],
            "text/html": [
              "\n",
              "  <div id=\"df-92da050a-3727-436e-ae9a-0dc65c69cd8d\">\n",
              "    <div class=\"colab-df-container\">\n",
              "      <div>\n",
              "<style scoped>\n",
              "    .dataframe tbody tr th:only-of-type {\n",
              "        vertical-align: middle;\n",
              "    }\n",
              "\n",
              "    .dataframe tbody tr th {\n",
              "        vertical-align: top;\n",
              "    }\n",
              "\n",
              "    .dataframe thead th {\n",
              "        text-align: right;\n",
              "    }\n",
              "</style>\n",
              "<table border=\"1\" class=\"dataframe\">\n",
              "  <thead>\n",
              "    <tr style=\"text-align: right;\">\n",
              "      <th></th>\n",
              "      <th>Date</th>\n",
              "      <th>headline_text</th>\n",
              "      <th>sentiment</th>\n",
              "      <th>Open</th>\n",
              "      <th>High</th>\n",
              "      <th>Low</th>\n",
              "      <th>Close</th>\n",
              "      <th>Volume</th>\n",
              "      <th>compound</th>\n",
              "      <th>pos</th>\n",
              "      <th>neg</th>\n",
              "      <th>neu</th>\n",
              "      <th>price_up</th>\n",
              "    </tr>\n",
              "  </thead>\n",
              "  <tbody>\n",
              "    <tr>\n",
              "      <th>0</th>\n",
              "      <td>2008-09-15</td>\n",
              "      <td>pregnant watch weight</td>\n",
              "      <td>0.333333</td>\n",
              "      <td>2202.280029</td>\n",
              "      <td>2244.879883</td>\n",
              "      <td>2179.909912</td>\n",
              "      <td>2179.909912</td>\n",
              "      <td>2697820000</td>\n",
              "      <td>0.0000</td>\n",
              "      <td>0.0</td>\n",
              "      <td>0.000</td>\n",
              "      <td>1.000</td>\n",
              "      <td>0</td>\n",
              "    </tr>\n",
              "    <tr>\n",
              "      <th>1</th>\n",
              "      <td>2008-09-15</td>\n",
              "      <td>cesc fabregas</td>\n",
              "      <td>0.000000</td>\n",
              "      <td>2202.280029</td>\n",
              "      <td>2244.879883</td>\n",
              "      <td>2179.909912</td>\n",
              "      <td>2179.909912</td>\n",
              "      <td>2697820000</td>\n",
              "      <td>0.0000</td>\n",
              "      <td>0.0</td>\n",
              "      <td>0.000</td>\n",
              "      <td>1.000</td>\n",
              "      <td>0</td>\n",
              "    </tr>\n",
              "    <tr>\n",
              "      <th>2</th>\n",
              "      <td>2008-09-15</td>\n",
              "      <td>10 youth walk backwards environment</td>\n",
              "      <td>0.000000</td>\n",
              "      <td>2202.280029</td>\n",
              "      <td>2244.879883</td>\n",
              "      <td>2179.909912</td>\n",
              "      <td>2179.909912</td>\n",
              "      <td>2697820000</td>\n",
              "      <td>0.0000</td>\n",
              "      <td>0.0</td>\n",
              "      <td>0.000</td>\n",
              "      <td>1.000</td>\n",
              "      <td>0</td>\n",
              "    </tr>\n",
              "    <tr>\n",
              "      <th>3</th>\n",
              "      <td>2008-09-15</td>\n",
              "      <td>vacation schools colleges navratri</td>\n",
              "      <td>0.000000</td>\n",
              "      <td>2202.280029</td>\n",
              "      <td>2244.879883</td>\n",
              "      <td>2179.909912</td>\n",
              "      <td>2179.909912</td>\n",
              "      <td>2697820000</td>\n",
              "      <td>0.0000</td>\n",
              "      <td>0.0</td>\n",
              "      <td>0.000</td>\n",
              "      <td>1.000</td>\n",
              "      <td>0</td>\n",
              "    </tr>\n",
              "    <tr>\n",
              "      <th>4</th>\n",
              "      <td>2008-09-15</td>\n",
              "      <td>failure middleorder lanka oneoff thing vengsarkar</td>\n",
              "      <td>-0.316667</td>\n",
              "      <td>2202.280029</td>\n",
              "      <td>2244.879883</td>\n",
              "      <td>2179.909912</td>\n",
              "      <td>2179.909912</td>\n",
              "      <td>2697820000</td>\n",
              "      <td>-0.5106</td>\n",
              "      <td>0.0</td>\n",
              "      <td>0.398</td>\n",
              "      <td>0.602</td>\n",
              "      <td>0</td>\n",
              "    </tr>\n",
              "  </tbody>\n",
              "</table>\n",
              "</div>\n",
              "      <button class=\"colab-df-convert\" onclick=\"convertToInteractive('df-92da050a-3727-436e-ae9a-0dc65c69cd8d')\"\n",
              "              title=\"Convert this dataframe to an interactive table.\"\n",
              "              style=\"display:none;\">\n",
              "        \n",
              "  <svg xmlns=\"http://www.w3.org/2000/svg\" height=\"24px\"viewBox=\"0 0 24 24\"\n",
              "       width=\"24px\">\n",
              "    <path d=\"M0 0h24v24H0V0z\" fill=\"none\"/>\n",
              "    <path d=\"M18.56 5.44l.94 2.06.94-2.06 2.06-.94-2.06-.94-.94-2.06-.94 2.06-2.06.94zm-11 1L8.5 8.5l.94-2.06 2.06-.94-2.06-.94L8.5 2.5l-.94 2.06-2.06.94zm10 10l.94 2.06.94-2.06 2.06-.94-2.06-.94-.94-2.06-.94 2.06-2.06.94z\"/><path d=\"M17.41 7.96l-1.37-1.37c-.4-.4-.92-.59-1.43-.59-.52 0-1.04.2-1.43.59L10.3 9.45l-7.72 7.72c-.78.78-.78 2.05 0 2.83L4 21.41c.39.39.9.59 1.41.59.51 0 1.02-.2 1.41-.59l7.78-7.78 2.81-2.81c.8-.78.8-2.07 0-2.86zM5.41 20L4 18.59l7.72-7.72 1.47 1.35L5.41 20z\"/>\n",
              "  </svg>\n",
              "      </button>\n",
              "      \n",
              "  <style>\n",
              "    .colab-df-container {\n",
              "      display:flex;\n",
              "      flex-wrap:wrap;\n",
              "      gap: 12px;\n",
              "    }\n",
              "\n",
              "    .colab-df-convert {\n",
              "      background-color: #E8F0FE;\n",
              "      border: none;\n",
              "      border-radius: 50%;\n",
              "      cursor: pointer;\n",
              "      display: none;\n",
              "      fill: #1967D2;\n",
              "      height: 32px;\n",
              "      padding: 0 0 0 0;\n",
              "      width: 32px;\n",
              "    }\n",
              "\n",
              "    .colab-df-convert:hover {\n",
              "      background-color: #E2EBFA;\n",
              "      box-shadow: 0px 1px 2px rgba(60, 64, 67, 0.3), 0px 1px 3px 1px rgba(60, 64, 67, 0.15);\n",
              "      fill: #174EA6;\n",
              "    }\n",
              "\n",
              "    [theme=dark] .colab-df-convert {\n",
              "      background-color: #3B4455;\n",
              "      fill: #D2E3FC;\n",
              "    }\n",
              "\n",
              "    [theme=dark] .colab-df-convert:hover {\n",
              "      background-color: #434B5C;\n",
              "      box-shadow: 0px 1px 3px 1px rgba(0, 0, 0, 0.15);\n",
              "      filter: drop-shadow(0px 1px 2px rgba(0, 0, 0, 0.3));\n",
              "      fill: #FFFFFF;\n",
              "    }\n",
              "  </style>\n",
              "\n",
              "      <script>\n",
              "        const buttonEl =\n",
              "          document.querySelector('#df-92da050a-3727-436e-ae9a-0dc65c69cd8d button.colab-df-convert');\n",
              "        buttonEl.style.display =\n",
              "          google.colab.kernel.accessAllowed ? 'block' : 'none';\n",
              "\n",
              "        async function convertToInteractive(key) {\n",
              "          const element = document.querySelector('#df-92da050a-3727-436e-ae9a-0dc65c69cd8d');\n",
              "          const dataTable =\n",
              "            await google.colab.kernel.invokeFunction('convertToInteractive',\n",
              "                                                     [key], {});\n",
              "          if (!dataTable) return;\n",
              "\n",
              "          const docLinkHtml = 'Like what you see? Visit the ' +\n",
              "            '<a target=\"_blank\" href=https://colab.research.google.com/notebooks/data_table.ipynb>data table notebook</a>'\n",
              "            + ' to learn more about interactive tables.';\n",
              "          element.innerHTML = '';\n",
              "          dataTable['output_type'] = 'display_data';\n",
              "          await google.colab.output.renderOutput(dataTable, element);\n",
              "          const docLink = document.createElement('div');\n",
              "          docLink.innerHTML = docLinkHtml;\n",
              "          element.appendChild(docLink);\n",
              "        }\n",
              "      </script>\n",
              "    </div>\n",
              "  </div>\n",
              "  "
            ]
          },
          "metadata": {},
          "execution_count": 53
        }
      ]
    },
    {
      "cell_type": "markdown",
      "source": [
        "## **Modeling**"
      ],
      "metadata": {
        "id": "PuZhumK6XJrF"
      }
    },
    {
      "cell_type": "code",
      "source": [
        "#Splitting dataset into X and y\n",
        "X = Data[['sentiment','Open','High','Low','Close','Volume','compound','pos','neg','neu']]\n",
        "y = Data['price_up']"
      ],
      "metadata": {
        "id": "Qm6r-ZFDbxPn"
      },
      "execution_count": null,
      "outputs": []
    },
    {
      "cell_type": "code",
      "source": [
        "#Splitting dataset into train and test set\n",
        "X_train, X_test, y_train, y_test = train_test_split(X, y, test_size=0.4, random_state=0)"
      ],
      "metadata": {
        "id": "W--k8XdWcnzb"
      },
      "execution_count": null,
      "outputs": []
    },
    {
      "cell_type": "code",
      "source": [
        "print(X_train.shape)\n",
        "print(X_test.shape)"
      ],
      "metadata": {
        "colab": {
          "base_uri": "https://localhost:8080/"
        },
        "id": "KOUN5l5mdr4P",
        "outputId": "31ca7aca-5d1b-4545-8b3b-3a07e54178b3"
      },
      "execution_count": null,
      "outputs": [
        {
          "output_type": "stream",
          "name": "stdout",
          "text": [
            "(2886, 10)\n",
            "(1924, 10)\n"
          ]
        }
      ]
    },
    {
      "cell_type": "code",
      "source": [
        "#Grid search for obtimal parameters\n",
        "parameters = [{'max_depth' : [10,20], 'n_estimators' : [10,20], 'max_features' : [10,20]}]\n",
        "model = RandomForestClassifier()\n",
        "clf = GridSearchCV(model,parameters,cv=5,scoring='roc_auc')\n",
        "clf.fit(X_train,y_train)"
      ],
      "metadata": {
        "colab": {
          "base_uri": "https://localhost:8080/"
        },
        "id": "Snq7J6bfdznA",
        "outputId": "b0711b73-70b1-4927-cfab-ec2ee0d3878a"
      },
      "execution_count": null,
      "outputs": [
        {
          "output_type": "stream",
          "name": "stderr",
          "text": [
            "/usr/local/lib/python3.7/dist-packages/sklearn/model_selection/_validation.py:372: FitFailedWarning: \n",
            "20 fits failed out of a total of 40.\n",
            "The score on these train-test partitions for these parameters will be set to nan.\n",
            "If these failures are not expected, you can try to debug them by setting error_score='raise'.\n",
            "\n",
            "Below are more details about the failures:\n",
            "--------------------------------------------------------------------------------\n",
            "20 fits failed with the following error:\n",
            "Traceback (most recent call last):\n",
            "  File \"/usr/local/lib/python3.7/dist-packages/sklearn/model_selection/_validation.py\", line 680, in _fit_and_score\n",
            "    estimator.fit(X_train, y_train, **fit_params)\n",
            "  File \"/usr/local/lib/python3.7/dist-packages/sklearn/ensemble/_forest.py\", line 467, in fit\n",
            "    for i, t in enumerate(trees)\n",
            "  File \"/usr/local/lib/python3.7/dist-packages/joblib/parallel.py\", line 1043, in __call__\n",
            "    if self.dispatch_one_batch(iterator):\n",
            "  File \"/usr/local/lib/python3.7/dist-packages/joblib/parallel.py\", line 861, in dispatch_one_batch\n",
            "    self._dispatch(tasks)\n",
            "  File \"/usr/local/lib/python3.7/dist-packages/joblib/parallel.py\", line 779, in _dispatch\n",
            "    job = self._backend.apply_async(batch, callback=cb)\n",
            "  File \"/usr/local/lib/python3.7/dist-packages/joblib/_parallel_backends.py\", line 208, in apply_async\n",
            "    result = ImmediateResult(func)\n",
            "  File \"/usr/local/lib/python3.7/dist-packages/joblib/_parallel_backends.py\", line 572, in __init__\n",
            "    self.results = batch()\n",
            "  File \"/usr/local/lib/python3.7/dist-packages/joblib/parallel.py\", line 263, in __call__\n",
            "    for func, args, kwargs in self.items]\n",
            "  File \"/usr/local/lib/python3.7/dist-packages/joblib/parallel.py\", line 263, in <listcomp>\n",
            "    for func, args, kwargs in self.items]\n",
            "  File \"/usr/local/lib/python3.7/dist-packages/sklearn/utils/fixes.py\", line 216, in __call__\n",
            "    return self.function(*args, **kwargs)\n",
            "  File \"/usr/local/lib/python3.7/dist-packages/sklearn/ensemble/_forest.py\", line 185, in _parallel_build_trees\n",
            "    tree.fit(X, y, sample_weight=curr_sample_weight, check_input=False)\n",
            "  File \"/usr/local/lib/python3.7/dist-packages/sklearn/tree/_classes.py\", line 942, in fit\n",
            "    X_idx_sorted=X_idx_sorted,\n",
            "  File \"/usr/local/lib/python3.7/dist-packages/sklearn/tree/_classes.py\", line 308, in fit\n",
            "    raise ValueError(\"max_features must be in (0, n_features]\")\n",
            "ValueError: max_features must be in (0, n_features]\n",
            "\n",
            "  warnings.warn(some_fits_failed_message, FitFailedWarning)\n",
            "/usr/local/lib/python3.7/dist-packages/sklearn/model_selection/_search.py:972: UserWarning: One or more of the test scores are non-finite: [0.44290271 0.44099238        nan        nan 0.44307632 0.4429021\n",
            "        nan        nan]\n",
            "  category=UserWarning,\n"
          ]
        },
        {
          "output_type": "execute_result",
          "data": {
            "text/plain": [
              "GridSearchCV(cv=5, estimator=RandomForestClassifier(),\n",
              "             param_grid=[{'max_depth': [10, 20], 'max_features': [10, 20],\n",
              "                          'n_estimators': [10, 20]}],\n",
              "             scoring='roc_auc')"
            ]
          },
          "metadata": {},
          "execution_count": 57
        }
      ]
    },
    {
      "cell_type": "code",
      "source": [
        "#Best score\n",
        "clf.best_score_"
      ],
      "metadata": {
        "colab": {
          "base_uri": "https://localhost:8080/"
        },
        "id": "cKFEokxUxQs8",
        "outputId": "88ffe8cc-3c53-40a4-d15a-28dc798c5619"
      },
      "execution_count": null,
      "outputs": [
        {
          "output_type": "execute_result",
          "data": {
            "text/plain": [
              "0.4430763166762951"
            ]
          },
          "metadata": {},
          "execution_count": 58
        }
      ]
    },
    {
      "cell_type": "code",
      "source": [
        "#Best parameters\n",
        "clf.best_params_"
      ],
      "metadata": {
        "colab": {
          "base_uri": "https://localhost:8080/"
        },
        "id": "42QZB_PlnQHc",
        "outputId": "594dbe7c-0698-4246-e654-bda0f000bc80"
      },
      "execution_count": null,
      "outputs": [
        {
          "output_type": "execute_result",
          "data": {
            "text/plain": [
              "{'max_depth': 20, 'max_features': 10, 'n_estimators': 10}"
            ]
          },
          "metadata": {},
          "execution_count": 59
        }
      ]
    },
    {
      "cell_type": "markdown",
      "source": [
        "### **Building final model**"
      ],
      "metadata": {
        "id": "NhgWWW81xiUm"
      }
    },
    {
      "cell_type": "code",
      "source": [
        "RandClass = RandomForestClassifier(n_estimators=10, max_features=10)\n",
        "RandClass.fit(X_train,y_train)"
      ],
      "metadata": {
        "colab": {
          "base_uri": "https://localhost:8080/"
        },
        "id": "E1JCyfKguc6s",
        "outputId": "2648a842-1a8a-41a1-90e9-d8bf43a42384"
      },
      "execution_count": null,
      "outputs": [
        {
          "output_type": "execute_result",
          "data": {
            "text/plain": [
              "RandomForestClassifier(max_features=10, n_estimators=10)"
            ]
          },
          "metadata": {},
          "execution_count": 60
        }
      ]
    },
    {
      "cell_type": "markdown",
      "source": [
        "## **Classifier predict**"
      ],
      "metadata": {
        "id": "dVrZ8h9Py5EY"
      }
    },
    {
      "cell_type": "code",
      "source": [
        "y_pred = RandClass.predict(X_test)\n",
        "print(metrics.classification_report(y_test,y_pred))"
      ],
      "metadata": {
        "colab": {
          "base_uri": "https://localhost:8080/"
        },
        "id": "8wy7t4rYy4WF",
        "outputId": "a8a681e2-a428-4c4d-a9f1-5cd705e49211"
      },
      "execution_count": null,
      "outputs": [
        {
          "output_type": "stream",
          "name": "stdout",
          "text": [
            "              precision    recall  f1-score   support\n",
            "\n",
            "           0       1.00      1.00      1.00      1923\n",
            "           1       0.00      0.00      0.00         1\n",
            "\n",
            "    accuracy                           1.00      1924\n",
            "   macro avg       0.50      0.50      0.50      1924\n",
            "weighted avg       1.00      1.00      1.00      1924\n",
            "\n"
          ]
        },
        {
          "output_type": "stream",
          "name": "stderr",
          "text": [
            "/usr/local/lib/python3.7/dist-packages/sklearn/metrics/_classification.py:1318: UndefinedMetricWarning: Precision and F-score are ill-defined and being set to 0.0 in labels with no predicted samples. Use `zero_division` parameter to control this behavior.\n",
            "  _warn_prf(average, modifier, msg_start, len(result))\n",
            "/usr/local/lib/python3.7/dist-packages/sklearn/metrics/_classification.py:1318: UndefinedMetricWarning: Precision and F-score are ill-defined and being set to 0.0 in labels with no predicted samples. Use `zero_division` parameter to control this behavior.\n",
            "  _warn_prf(average, modifier, msg_start, len(result))\n",
            "/usr/local/lib/python3.7/dist-packages/sklearn/metrics/_classification.py:1318: UndefinedMetricWarning: Precision and F-score are ill-defined and being set to 0.0 in labels with no predicted samples. Use `zero_division` parameter to control this behavior.\n",
            "  _warn_prf(average, modifier, msg_start, len(result))\n"
          ]
        }
      ]
    },
    {
      "cell_type": "code",
      "source": [
        "metrics.accuracy_score(y_test,y_pred)"
      ],
      "metadata": {
        "colab": {
          "base_uri": "https://localhost:8080/"
        },
        "id": "Op1AzJSA0YRK",
        "outputId": "f1f5f3e3-5a4e-4a76-e43a-53b9756ccc64"
      },
      "execution_count": null,
      "outputs": [
        {
          "output_type": "execute_result",
          "data": {
            "text/plain": [
              "0.9994802494802495"
            ]
          },
          "metadata": {},
          "execution_count": 62
        }
      ]
    },
    {
      "cell_type": "markdown",
      "source": [
        "## **Errors**"
      ],
      "metadata": {
        "id": "-Odn3XuPV9xC"
      }
    },
    {
      "cell_type": "code",
      "source": [
        "metrics.mean_absolute_error(y_test,y_pred)"
      ],
      "metadata": {
        "colab": {
          "base_uri": "https://localhost:8080/"
        },
        "id": "6YS4u4GTyw-d",
        "outputId": "187e757c-fde9-47e8-f6d5-33c0a4fb96ca"
      },
      "execution_count": null,
      "outputs": [
        {
          "output_type": "execute_result",
          "data": {
            "text/plain": [
              "0.0005197505197505198"
            ]
          },
          "metadata": {},
          "execution_count": 63
        }
      ]
    },
    {
      "cell_type": "code",
      "source": [
        "metrics.mean_squared_error(y_test,y_pred)"
      ],
      "metadata": {
        "colab": {
          "base_uri": "https://localhost:8080/"
        },
        "id": "e2_C0laBz706",
        "outputId": "aa878308-f052-4ff7-dbaa-2d7b8a063871"
      },
      "execution_count": null,
      "outputs": [
        {
          "output_type": "execute_result",
          "data": {
            "text/plain": [
              "0.0005197505197505198"
            ]
          },
          "metadata": {},
          "execution_count": 64
        }
      ]
    }
  ]
}